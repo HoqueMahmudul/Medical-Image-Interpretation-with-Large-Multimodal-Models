{
  "cells": [
    {
      "cell_type": "code",
      "execution_count": null,
      "id": "3f73eb0b-c1b7-4d62-bec3-5dc5d2b3e233",
      "metadata": {
        "id": "3f73eb0b-c1b7-4d62-bec3-5dc5d2b3e233",
        "outputId": "f3a24b20-2c9b-4b2e-b067-9e79abab5fa2",
        "tags": []
      },
      "outputs": [
        {
          "data": {
            "text/plain": [
              "'/home/jupyter'"
            ]
          },
          "execution_count": 3,
          "metadata": {},
          "output_type": "execute_result"
        }
      ],
      "source": [
        "import os\n",
        "\n",
        "os.getcwd()"
      ]
    },
    {
      "cell_type": "code",
      "execution_count": null,
      "id": "7d1a6a2f-edc3-498a-8fff-3a8c4a9a0294",
      "metadata": {
        "id": "7d1a6a2f-edc3-498a-8fff-3a8c4a9a0294",
        "tags": []
      },
      "outputs": [],
      "source": [
        "os.chdir('/home/jupyter')"
      ]
    },
    {
      "cell_type": "code",
      "execution_count": null,
      "id": "2fc12900-b3e5-41fe-b9e3-8f52c862dcc3",
      "metadata": {
        "id": "2fc12900-b3e5-41fe-b9e3-8f52c862dcc3",
        "outputId": "31aba2aa-4053-4518-ffe0-64da670bb5bb",
        "tags": []
      },
      "outputs": [
        {
          "name": "stdout",
          "output_type": "stream",
          "text": [
            "Fri Apr 26 19:25:06 2024       \n",
            "+---------------------------------------------------------------------------------------+\n",
            "| NVIDIA-SMI 535.104.05             Driver Version: 535.104.05   CUDA Version: 12.2     |\n",
            "|-----------------------------------------+----------------------+----------------------+\n",
            "| GPU  Name                 Persistence-M | Bus-Id        Disp.A | Volatile Uncorr. ECC |\n",
            "| Fan  Temp   Perf          Pwr:Usage/Cap |         Memory-Usage | GPU-Util  Compute M. |\n",
            "|                                         |                      |               MIG M. |\n",
            "|=========================================+======================+======================|\n",
            "|   0  NVIDIA A100-SXM4-40GB          On  | 00000000:00:04.0 Off |                    0 |\n",
            "| N/A   29C    P0              57W / 400W |  21323MiB / 40960MiB |      0%      Default |\n",
            "|                                         |                      |             Disabled |\n",
            "+-----------------------------------------+----------------------+----------------------+\n",
            "|   1  NVIDIA A100-SXM4-40GB          On  | 00000000:00:05.0 Off |                    0 |\n",
            "| N/A   31C    P0              59W / 400W |  26665MiB / 40960MiB |      0%      Default |\n",
            "|                                         |                      |             Disabled |\n",
            "+-----------------------------------------+----------------------+----------------------+\n",
            "|   2  NVIDIA A100-SXM4-40GB          On  | 00000000:00:06.0 Off |                    0 |\n",
            "| N/A   28C    P0              60W / 400W |  26665MiB / 40960MiB |      0%      Default |\n",
            "|                                         |                      |             Disabled |\n",
            "+-----------------------------------------+----------------------+----------------------+\n",
            "|   3  NVIDIA A100-SXM4-40GB          On  | 00000000:00:07.0 Off |                    0 |\n",
            "| N/A   30C    P0              59W / 400W |  18801MiB / 40960MiB |      0%      Default |\n",
            "|                                         |                      |             Disabled |\n",
            "+-----------------------------------------+----------------------+----------------------+\n",
            "                                                                                         \n",
            "+---------------------------------------------------------------------------------------+\n",
            "| Processes:                                                                            |\n",
            "|  GPU   GI   CI        PID   Type   Process name                            GPU Memory |\n",
            "|        ID   ID                                                             Usage      |\n",
            "|=======================================================================================|\n",
            "|    0   N/A  N/A     22737      C   /opt/conda/envs/llava1.5env/bin/python    21310MiB |\n",
            "|    1   N/A  N/A     22737      C   /opt/conda/envs/llava1.5env/bin/python    26652MiB |\n",
            "|    2   N/A  N/A     22737      C   /opt/conda/envs/llava1.5env/bin/python    26652MiB |\n",
            "|    3   N/A  N/A     22737      C   /opt/conda/envs/llava1.5env/bin/python    18788MiB |\n",
            "+---------------------------------------------------------------------------------------+\n"
          ]
        }
      ],
      "source": [
        "!nvidia-smi"
      ]
    },
    {
      "cell_type": "code",
      "execution_count": null,
      "id": "6b057187-f300-4821-800e-79bd847b6ee6",
      "metadata": {
        "id": "6b057187-f300-4821-800e-79bd847b6ee6",
        "outputId": "16a555c1-76e2-4196-eb98-28d174e483e7",
        "tags": []
      },
      "outputs": [
        {
          "name": "stdout",
          "output_type": "stream",
          "text": [
            "PyTorch Version: 2.1.2+cu121\n",
            "CUDA Available: True\n",
            "CUDA Version: 12.1\n",
            "CUDA Device Name: NVIDIA A100-SXM4-40GB\n"
          ]
        }
      ],
      "source": [
        "import torch\n",
        "\n",
        "print(\"PyTorch Version:\", torch.__version__)\n",
        "print(\"CUDA Available:\", torch.cuda.is_available())\n",
        "if torch.cuda.is_available():\n",
        "    print(\"CUDA Version:\", torch.version.cuda)\n",
        "    print(\"CUDA Device Name:\", torch.cuda.get_device_name(0))\n"
      ]
    },
    {
      "cell_type": "code",
      "execution_count": null,
      "id": "df6cef5b-9a0c-46a8-9a9f-f3e6fd715674",
      "metadata": {
        "id": "df6cef5b-9a0c-46a8-9a9f-f3e6fd715674",
        "tags": []
      },
      "outputs": [],
      "source": [
        "import sys\n",
        "\n",
        "# Install or upgrade jupyter and ipywidgets using the current Python executable\n",
        "!pip install --upgrade jupyter ipywidgets\n",
        "\n",
        "# Enable the widgetsnbextension using the current Python executable\n",
        "!jupyter nbextension enable --py widgetsnbextension"
      ]
    },
    {
      "cell_type": "code",
      "execution_count": null,
      "id": "0c6faa1a-01a3-4c64-98c3-cdc21dd0ee6a",
      "metadata": {
        "id": "0c6faa1a-01a3-4c64-98c3-cdc21dd0ee6a",
        "tags": []
      },
      "outputs": [],
      "source": [
        "!python -m pip install --upgrade pip\n",
        "!pip install matplotlib -U"
      ]
    },
    {
      "cell_type": "code",
      "execution_count": null,
      "id": "2ebbca83-338c-4fda-aad0-65a89c88ab21",
      "metadata": {
        "id": "2ebbca83-338c-4fda-aad0-65a89c88ab21",
        "tags": []
      },
      "outputs": [],
      "source": [
        "!pip install  datasets\n",
        "# !pip install -q git+https://github.com/huggingface/transformers.git@add-model-idefics\n",
        "!pip install transformers==4.37.2  -U\n",
        "!pip install  bitsandbytes sentencepiece==0.1.99 accelerate==0.21.0 loralib\n",
        "!pip install  peft\n",
        "!pip install hf_transfer  -U\n",
        "!pip install pickleshare"
      ]
    },
    {
      "cell_type": "code",
      "execution_count": null,
      "id": "70fc8fe2-d30f-4acf-ae21-015fc95c9750",
      "metadata": {
        "id": "70fc8fe2-d30f-4acf-ae21-015fc95c9750",
        "outputId": "0c25d3c5-22c0-41da-df81-56b0cd0b40fa",
        "tags": []
      },
      "outputs": [
        {
          "name": "stdout",
          "output_type": "stream",
          "text": [
            "LLaVA directory already exists. Skipping clone.\n"
          ]
        }
      ],
      "source": [
        "import os\n",
        "\n",
        "if not os.path.isdir(\"LLaVA\"):\n",
        "    !git clone https://github.com/haotian-liu/LLaVA.git\n",
        "else:\n",
        "    print(\"LLaVA directory already exists. Skipping clone.\")"
      ]
    },
    {
      "cell_type": "code",
      "execution_count": null,
      "id": "e0f3a780-6748-4971-b736-e9746810467d",
      "metadata": {
        "id": "e0f3a780-6748-4971-b736-e9746810467d",
        "outputId": "7fde0f66-5650-4bab-b09f-696f7b10c1ba",
        "tags": []
      },
      "outputs": [
        {
          "name": "stdout",
          "output_type": "stream",
          "text": [
            "The script has been updated successfully.\n"
          ]
        }
      ],
      "source": [
        "import re\n",
        "\n",
        "# Define the path to the builder.py file\n",
        "file_path = 'LLaVA/llava/model/builder.py'\n",
        "\n",
        "# Read the content of the file\n",
        "with open(file_path, 'r') as file:\n",
        "    content = file.read()\n",
        "\n",
        "# Regular expression to find the block between 'vision_tower = model.get_vision_tower()' and 'image_processor = vision_tower.image_processor'\n",
        "pattern_block = (\n",
        "    r'(vision_tower = model.get_vision_tower\\(\\)\\n)'\n",
        "    r'.*?'  # Non-greedy match for any characters (including newlines) between the two markers\n",
        "    r'(image_processor = vision_tower.image_processor)'\n",
        ")\n",
        "\n",
        "replacement_block = (\n",
        "    r'\\1'  # Keep the starting line unchanged\n",
        "    '        if not vision_tower.is_loaded:\\n'\n",
        "    '            print(\\'vision_tower is not loaded so loading it now\\')\\n'\n",
        "    '            vision_tower.load_model(device_map=device_map)\\n'\n",
        "    '            vision_tower.to(device=device, dtype=torch.bfloat16)\\n'\n",
        "    '        else:\\n'\n",
        "    '            print(\\'vision_tower is loaded\\')\\n'\n",
        "    r'        \\2'  # Keep the ending line unchanged\n",
        ")\n",
        "\n",
        "# Replace the specific block\n",
        "content = re.sub(pattern_block, replacement_block, content, flags=re.DOTALL)\n",
        "\n",
        "# Write the modified content back to the file\n",
        "with open(file_path, 'w') as file:\n",
        "    file.write(content)\n",
        "\n",
        "print('The script has been updated successfully.')\n"
      ]
    },
    {
      "cell_type": "code",
      "execution_count": null,
      "id": "5300b5b1-eb4e-4e8c-85f5-19effd2a1d46",
      "metadata": {
        "id": "5300b5b1-eb4e-4e8c-85f5-19effd2a1d46",
        "outputId": "56e32318-0c9f-41ba-cfc8-22819ada3e15",
        "tags": []
      },
      "outputs": [
        {
          "name": "stdout",
          "output_type": "stream",
          "text": [
            "No replacement needed. All instances of float16 already have 'b' before them.\n"
          ]
        }
      ],
      "source": [
        "import re\n",
        "\n",
        "# Define the path to the builder.py file\n",
        "file_path = 'LLaVA/llava/model/builder.py'\n",
        "\n",
        "# Read the content of the file\n",
        "with open(file_path, 'r') as file:\n",
        "    content = file.read()\n",
        "\n",
        "# Regular expression to find 'float16' not preceded by 'b'\n",
        "pattern = r'(?<!b)float16'\n",
        "\n",
        "# Check if there are any matches\n",
        "if re.search(pattern, content):\n",
        "    # Replace 'float16' with 'bfloat16'\n",
        "    modified_content = re.sub(pattern, 'bfloat16', content)\n",
        "\n",
        "    # Write the modified content back to the file\n",
        "    with open(file_path, 'w') as file:\n",
        "        file.write(modified_content)\n",
        "\n",
        "    print('All necessary instances of float16 have been replaced with bfloat16 in', file_path)\n",
        "else:\n",
        "    print('No replacement needed. All instances of float16 already have \\'b\\' before them.')"
      ]
    },
    {
      "cell_type": "code",
      "execution_count": null,
      "id": "35255a94-5b44-42d0-9994-3bd573c3098a",
      "metadata": {
        "id": "35255a94-5b44-42d0-9994-3bd573c3098a",
        "outputId": "9044dcc3-a69b-415f-b42c-80dbed8ee4e3",
        "tags": []
      },
      "outputs": [
        {
          "data": {
            "text/plain": [
              "'/home/jupyter'"
            ]
          },
          "execution_count": 8,
          "metadata": {},
          "output_type": "execute_result"
        }
      ],
      "source": [
        "os.getcwd()"
      ]
    },
    {
      "cell_type": "code",
      "execution_count": null,
      "id": "17dfd080-b91a-4f1c-9eea-0a8e87c283bc",
      "metadata": {
        "id": "17dfd080-b91a-4f1c-9eea-0a8e87c283bc",
        "outputId": "a5c34190-3334-4e40-b729-d4c91c1f2cfa",
        "tags": []
      },
      "outputs": [
        {
          "name": "stdout",
          "output_type": "stream",
          "text": [
            "/home/jupyter/LLaVA\n"
          ]
        }
      ],
      "source": [
        "%cd LLaVA"
      ]
    },
    {
      "cell_type": "code",
      "execution_count": null,
      "id": "163e9e43-f375-4999-9cdb-d09c163f5a7a",
      "metadata": {
        "id": "163e9e43-f375-4999-9cdb-d09c163f5a7a",
        "tags": []
      },
      "outputs": [],
      "source": [
        "!pip install -e .\n",
        "# # !pip install -e . #to see the install logs"
      ]
    },
    {
      "cell_type": "code",
      "execution_count": 1,
      "id": "c36f749a-1ce0-490b-b5b9-9de6423561f7",
      "metadata": {
        "id": "c36f749a-1ce0-490b-b5b9-9de6423561f7",
        "tags": []
      },
      "outputs": [],
      "source": [
        "# # !git pull\n",
        "# # !pip install -e . -q\n",
        "\n",
        "# !pip install protobuf -q -U\n",
        "# !pip install --upgrade Pillow -q\n",
        "# !pip install -e \".[train]\" -q\n",
        "# !pip install flash-attn --no-build-isolation -q\n",
        "\n",
        "# # IT'S RECOMMENDED TO RESTART THE KERNEL TO ENSURE UPDATED PACKAGES ARE LOADED, THEN RUN THE CELLS BELOW"
      ]
    },
    {
      "cell_type": "markdown",
      "id": "01dfda3c-2d31-492b-b89b-5e99fff7d5e5",
      "metadata": {
        "id": "01dfda3c-2d31-492b-b89b-5e99fff7d5e5"
      },
      "source": [
        "## Load the model"
      ]
    },
    {
      "cell_type": "code",
      "execution_count": null,
      "id": "e7e53635-67ac-49e9-8962-35e0fcad8cfb",
      "metadata": {
        "id": "e7e53635-67ac-49e9-8962-35e0fcad8cfb",
        "outputId": "465f3a84-d3e6-4e9c-f738-45d46f1f49fb",
        "tags": []
      },
      "outputs": [
        {
          "name": "stdout",
          "output_type": "stream",
          "text": [
            "env: HF_HUB_ENABLE_HF_TRANSFER=1\n"
          ]
        }
      ],
      "source": [
        "# Allows for faster downloading.\n",
        "%env HF_HUB_ENABLE_HF_TRANSFER=1"
      ]
    },
    {
      "cell_type": "code",
      "execution_count": null,
      "id": "29f08362-066e-400c-98fc-d7e123194cf4",
      "metadata": {
        "id": "29f08362-066e-400c-98fc-d7e123194cf4",
        "outputId": "2c2fb89e-866a-4eb8-c40e-e9cd54c68433",
        "tags": []
      },
      "outputs": [
        {
          "name": "stdout",
          "output_type": "stream",
          "text": [
            "[2024-04-28 11:03:11,139] [INFO] [real_accelerator.py:161:get_accelerator] Setting ds_accelerator to cuda (auto detect)\n"
          ]
        }
      ],
      "source": [
        "import torch\n",
        "from datasets import load_dataset\n",
        "from peft import LoraConfig, get_peft_model\n",
        "from PIL import Image\n",
        "import transformers\n",
        "from transformers import AutoProcessor, Trainer, TrainingArguments, BitsAndBytesConfig\n",
        "import torchvision.transforms as transforms"
      ]
    },
    {
      "cell_type": "code",
      "execution_count": null,
      "id": "44128b4e-b992-48ca-a82a-5f54e9a8314d",
      "metadata": {
        "id": "44128b4e-b992-48ca-a82a-5f54e9a8314d",
        "tags": []
      },
      "outputs": [],
      "source": [
        "# !pip install flash-attn --no-build-isolation\n"
      ]
    },
    {
      "cell_type": "code",
      "execution_count": null,
      "id": "8f36c83b-1e06-4478-adbd-7698b8284e77",
      "metadata": {
        "id": "8f36c83b-1e06-4478-adbd-7698b8284e77",
        "outputId": "07714034-aaf5-408a-b5f1-d329a3bdc50c",
        "tags": []
      },
      "outputs": [
        {
          "data": {
            "text/plain": [
              "'/opt/conda/envs/test_install/bin/python'"
            ]
          },
          "execution_count": 17,
          "metadata": {},
          "output_type": "execute_result"
        }
      ],
      "source": [
        "# import sys\n",
        "# sys.executable"
      ]
    },
    {
      "cell_type": "code",
      "execution_count": null,
      "id": "cf47a4c3-41f4-498d-af35-c075b0b7c080",
      "metadata": {
        "colab": {
          "referenced_widgets": [
            "5f197a8aecb3436680d907de6cae13bb"
          ]
        },
        "id": "cf47a4c3-41f4-498d-af35-c075b0b7c080",
        "outputId": "24a8b270-1592-43ee-a4c4-cead7ed6c89b",
        "tags": []
      },
      "outputs": [
        {
          "name": "stderr",
          "output_type": "stream",
          "text": [
            "You are using a model of type llava to instantiate a model of type llava_llama. This is not supported for all configurations of models and can yield errors.\n",
            "/opt/conda/envs/llava1.5env/lib/python3.8/site-packages/torch/_utils.py:831: UserWarning: TypedStorage is deprecated. It will be removed in the future and UntypedStorage will be the only storage class. This should only matter to you if you are using storages directly.  To access UntypedStorage directly, use tensor.untyped_storage() instead of tensor.storage()\n",
            "  return self.fget.__get__(instance, owner)()\n",
            "/opt/conda/envs/llava1.5env/lib/python3.8/site-packages/torch/nn/modules/module.py:2025: UserWarning: for vision_model.embeddings.class_embedding: copying from a non-meta parameter in the checkpoint to a meta parameter in the current model, which is a no-op. (Did you mean to pass `assign=True` to assign items in the state dictionary to their corresponding key in the module instead of copying them in place?)\n",
            "  warnings.warn(f'for {key}: copying from a non-meta parameter in the checkpoint to a meta '\n",
            "/opt/conda/envs/llava1.5env/lib/python3.8/site-packages/torch/nn/modules/module.py:2025: UserWarning: for vision_model.embeddings.patch_embedding.weight: copying from a non-meta parameter in the checkpoint to a meta parameter in the current model, which is a no-op. (Did you mean to pass `assign=True` to assign items in the state dictionary to their corresponding key in the module instead of copying them in place?)\n",
            "  warnings.warn(f'for {key}: copying from a non-meta parameter in the checkpoint to a meta '\n",
            "/opt/conda/envs/llava1.5env/lib/python3.8/site-packages/torch/nn/modules/module.py:2025: UserWarning: for vision_model.embeddings.position_embedding.weight: copying from a non-meta parameter in the checkpoint to a meta parameter in the current model, which is a no-op. (Did you mean to pass `assign=True` to assign items in the state dictionary to their corresponding key in the module instead of copying them in place?)\n",
            "  warnings.warn(f'for {key}: copying from a non-meta parameter in the checkpoint to a meta '\n",
            "/opt/conda/envs/llava1.5env/lib/python3.8/site-packages/torch/nn/modules/module.py:2025: UserWarning: for vision_model.pre_layrnorm.weight: copying from a non-meta parameter in the checkpoint to a meta parameter in the current model, which is a no-op. (Did you mean to pass `assign=True` to assign items in the state dictionary to their corresponding key in the module instead of copying them in place?)\n",
            "  warnings.warn(f'for {key}: copying from a non-meta parameter in the checkpoint to a meta '\n",
            "/opt/conda/envs/llava1.5env/lib/python3.8/site-packages/torch/nn/modules/module.py:2025: UserWarning: for vision_model.pre_layrnorm.bias: copying from a non-meta parameter in the checkpoint to a meta parameter in the current model, which is a no-op. (Did you mean to pass `assign=True` to assign items in the state dictionary to their corresponding key in the module instead of copying them in place?)\n",
            "  warnings.warn(f'for {key}: copying from a non-meta parameter in the checkpoint to a meta '\n",
            "/opt/conda/envs/llava1.5env/lib/python3.8/site-packages/torch/nn/modules/module.py:2025: UserWarning: for vision_model.encoder.layers.0.self_attn.k_proj.weight: copying from a non-meta parameter in the checkpoint to a meta parameter in the current model, which is a no-op. (Did you mean to pass `assign=True` to assign items in the state dictionary to their corresponding key in the module instead of copying them in place?)\n",
            "  warnings.warn(f'for {key}: copying from a non-meta parameter in the checkpoint to a meta '\n",
            "/opt/conda/envs/llava1.5env/lib/python3.8/site-packages/torch/nn/modules/module.py:2025: UserWarning: for vision_model.encoder.layers.0.self_attn.k_proj.bias: copying from a non-meta parameter in the checkpoint to a meta parameter in the current model, which is a no-op. (Did you mean to pass `assign=True` to assign items in the state dictionary to their corresponding key in the module instead of copying them in place?)\n",
            "  warnings.warn(f'for {key}: copying from a non-meta parameter in the checkpoint to a meta '\n",
            "/opt/conda/envs/llava1.5env/lib/python3.8/site-packages/torch/nn/modules/module.py:2025: UserWarning: for vision_model.encoder.layers.0.self_attn.v_proj.weight: copying from a non-meta parameter in the checkpoint to a meta parameter in the current model, which is a no-op. (Did you mean to pass `assign=True` to assign items in the state dictionary to their corresponding key in the module instead of copying them in place?)\n",
            "  warnings.warn(f'for {key}: copying from a non-meta parameter in the checkpoint to a meta '\n",
            "/opt/conda/envs/llava1.5env/lib/python3.8/site-packages/torch/nn/modules/module.py:2025: UserWarning: for vision_model.encoder.layers.0.self_attn.v_proj.bias: copying from a non-meta parameter in the checkpoint to a meta parameter in the current model, which is a no-op. (Did you mean to pass `assign=True` to assign items in the state dictionary to their corresponding key in the module instead of copying them in place?)\n",
            "  warnings.warn(f'for {key}: copying from a non-meta parameter in the checkpoint to a meta '\n",
            "/opt/conda/envs/llava1.5env/lib/python3.8/site-packages/torch/nn/modules/module.py:2025: UserWarning: for vision_model.encoder.layers.0.self_attn.q_proj.weight: copying from a non-meta parameter in the checkpoint to a meta parameter in the current model, which is a no-op. (Did you mean to pass `assign=True` to assign items in the state dictionary to their corresponding key in the module instead of copying them in place?)\n",
            "  warnings.warn(f'for {key}: copying from a non-meta parameter in the checkpoint to a meta '\n",
            "/opt/conda/envs/llava1.5env/lib/python3.8/site-packages/torch/nn/modules/module.py:2025: UserWarning: for vision_model.encoder.layers.0.self_attn.q_proj.bias: copying from a non-meta parameter in the checkpoint to a meta parameter in the current model, which is a no-op. (Did you mean to pass `assign=True` to assign items in the state dictionary to their corresponding key in the module instead of copying them in place?)\n",
            "  warnings.warn(f'for {key}: copying from a non-meta parameter in the checkpoint to a meta '\n",
            "/opt/conda/envs/llava1.5env/lib/python3.8/site-packages/torch/nn/modules/module.py:2025: UserWarning: for vision_model.encoder.layers.0.self_attn.out_proj.weight: copying from a non-meta parameter in the checkpoint to a meta parameter in the current model, which is a no-op. (Did you mean to pass `assign=True` to assign items in the state dictionary to their corresponding key in the module instead of copying them in place?)\n",
            "  warnings.warn(f'for {key}: copying from a non-meta parameter in the checkpoint to a meta '\n",
            "/opt/conda/envs/llava1.5env/lib/python3.8/site-packages/torch/nn/modules/module.py:2025: UserWarning: for vision_model.encoder.layers.0.self_attn.out_proj.bias: copying from a non-meta parameter in the checkpoint to a meta parameter in the current model, which is a no-op. (Did you mean to pass `assign=True` to assign items in the state dictionary to their corresponding key in the module instead of copying them in place?)\n",
            "  warnings.warn(f'for {key}: copying from a non-meta parameter in the checkpoint to a meta '\n",
            "/opt/conda/envs/llava1.5env/lib/python3.8/site-packages/torch/nn/modules/module.py:2025: UserWarning: for vision_model.encoder.layers.0.layer_norm1.weight: copying from a non-meta parameter in the checkpoint to a meta parameter in the current model, which is a no-op. (Did you mean to pass `assign=True` to assign items in the state dictionary to their corresponding key in the module instead of copying them in place?)\n",
            "  warnings.warn(f'for {key}: copying from a non-meta parameter in the checkpoint to a meta '\n",
            "/opt/conda/envs/llava1.5env/lib/python3.8/site-packages/torch/nn/modules/module.py:2025: UserWarning: for vision_model.encoder.layers.0.layer_norm1.bias: copying from a non-meta parameter in the checkpoint to a meta parameter in the current model, which is a no-op. (Did you mean to pass `assign=True` to assign items in the state dictionary to their corresponding key in the module instead of copying them in place?)\n",
            "  warnings.warn(f'for {key}: copying from a non-meta parameter in the checkpoint to a meta '\n",
            "/opt/conda/envs/llava1.5env/lib/python3.8/site-packages/torch/nn/modules/module.py:2025: UserWarning: for vision_model.encoder.layers.0.mlp.fc1.weight: copying from a non-meta parameter in the checkpoint to a meta parameter in the current model, which is a no-op. (Did you mean to pass `assign=True` to assign items in the state dictionary to their corresponding key in the module instead of copying them in place?)\n",
            "  warnings.warn(f'for {key}: copying from a non-meta parameter in the checkpoint to a meta '\n",
            "/opt/conda/envs/llava1.5env/lib/python3.8/site-packages/torch/nn/modules/module.py:2025: UserWarning: for vision_model.encoder.layers.0.mlp.fc1.bias: copying from a non-meta parameter in the checkpoint to a meta parameter in the current model, which is a no-op. (Did you mean to pass `assign=True` to assign items in the state dictionary to their corresponding key in the module instead of copying them in place?)\n",
            "  warnings.warn(f'for {key}: copying from a non-meta parameter in the checkpoint to a meta '\n",
            "/opt/conda/envs/llava1.5env/lib/python3.8/site-packages/torch/nn/modules/module.py:2025: UserWarning: for vision_model.encoder.layers.0.mlp.fc2.weight: copying from a non-meta parameter in the checkpoint to a meta parameter in the current model, which is a no-op. (Did you mean to pass `assign=True` to assign items in the state dictionary to their corresponding key in the module instead of copying them in place?)\n",
            "  warnings.warn(f'for {key}: copying from a non-meta parameter in the checkpoint to a meta '\n",
            "/opt/conda/envs/llava1.5env/lib/python3.8/site-packages/torch/nn/modules/module.py:2025: UserWarning: for vision_model.encoder.layers.0.mlp.fc2.bias: copying from a non-meta parameter in the checkpoint to a meta parameter in the current model, which is a no-op. (Did you mean to pass `assign=True` to assign items in the state dictionary to their corresponding key in the module instead of copying them in place?)\n",
            "  warnings.warn(f'for {key}: copying from a non-meta parameter in the checkpoint to a meta '\n",
            "/opt/conda/envs/llava1.5env/lib/python3.8/site-packages/torch/nn/modules/module.py:2025: UserWarning: for vision_model.encoder.layers.0.layer_norm2.weight: copying from a non-meta parameter in the checkpoint to a meta parameter in the current model, which is a no-op. (Did you mean to pass `assign=True` to assign items in the state dictionary to their corresponding key in the module instead of copying them in place?)\n",
            "  warnings.warn(f'for {key}: copying from a non-meta parameter in the checkpoint to a meta '\n",
            "/opt/conda/envs/llava1.5env/lib/python3.8/site-packages/torch/nn/modules/module.py:2025: UserWarning: for vision_model.encoder.layers.0.layer_norm2.bias: copying from a non-meta parameter in the checkpoint to a meta parameter in the current model, which is a no-op. (Did you mean to pass `assign=True` to assign items in the state dictionary to their corresponding key in the module instead of copying them in place?)\n",
            "  warnings.warn(f'for {key}: copying from a non-meta parameter in the checkpoint to a meta '\n",
            "/opt/conda/envs/llava1.5env/lib/python3.8/site-packages/torch/nn/modules/module.py:2025: UserWarning: for vision_model.encoder.layers.1.self_attn.k_proj.weight: copying from a non-meta parameter in the checkpoint to a meta parameter in the current model, which is a no-op. (Did you mean to pass `assign=True` to assign items in the state dictionary to their corresponding key in the module instead of copying them in place?)\n",
            "  warnings.warn(f'for {key}: copying from a non-meta parameter in the checkpoint to a meta '\n",
            "/opt/conda/envs/llava1.5env/lib/python3.8/site-packages/torch/nn/modules/module.py:2025: UserWarning: for vision_model.encoder.layers.1.self_attn.k_proj.bias: copying from a non-meta parameter in the checkpoint to a meta parameter in the current model, which is a no-op. (Did you mean to pass `assign=True` to assign items in the state dictionary to their corresponding key in the module instead of copying them in place?)\n",
            "  warnings.warn(f'for {key}: copying from a non-meta parameter in the checkpoint to a meta '\n",
            "/opt/conda/envs/llava1.5env/lib/python3.8/site-packages/torch/nn/modules/module.py:2025: UserWarning: for vision_model.encoder.layers.1.self_attn.v_proj.weight: copying from a non-meta parameter in the checkpoint to a meta parameter in the current model, which is a no-op. (Did you mean to pass `assign=True` to assign items in the state dictionary to their corresponding key in the module instead of copying them in place?)\n",
            "  warnings.warn(f'for {key}: copying from a non-meta parameter in the checkpoint to a meta '\n",
            "/opt/conda/envs/llava1.5env/lib/python3.8/site-packages/torch/nn/modules/module.py:2025: UserWarning: for vision_model.encoder.layers.1.self_attn.v_proj.bias: copying from a non-meta parameter in the checkpoint to a meta parameter in the current model, which is a no-op. (Did you mean to pass `assign=True` to assign items in the state dictionary to their corresponding key in the module instead of copying them in place?)\n",
            "  warnings.warn(f'for {key}: copying from a non-meta parameter in the checkpoint to a meta '\n",
            "/opt/conda/envs/llava1.5env/lib/python3.8/site-packages/torch/nn/modules/module.py:2025: UserWarning: for vision_model.encoder.layers.1.self_attn.q_proj.weight: copying from a non-meta parameter in the checkpoint to a meta parameter in the current model, which is a no-op. (Did you mean to pass `assign=True` to assign items in the state dictionary to their corresponding key in the module instead of copying them in place?)\n",
            "  warnings.warn(f'for {key}: copying from a non-meta parameter in the checkpoint to a meta '\n",
            "/opt/conda/envs/llava1.5env/lib/python3.8/site-packages/torch/nn/modules/module.py:2025: UserWarning: for vision_model.encoder.layers.1.self_attn.q_proj.bias: copying from a non-meta parameter in the checkpoint to a meta parameter in the current model, which is a no-op. (Did you mean to pass `assign=True` to assign items in the state dictionary to their corresponding key in the module instead of copying them in place?)\n",
            "  warnings.warn(f'for {key}: copying from a non-meta parameter in the checkpoint to a meta '\n",
            "/opt/conda/envs/llava1.5env/lib/python3.8/site-packages/torch/nn/modules/module.py:2025: UserWarning: for vision_model.encoder.layers.1.self_attn.out_proj.weight: copying from a non-meta parameter in the checkpoint to a meta parameter in the current model, which is a no-op. (Did you mean to pass `assign=True` to assign items in the state dictionary to their corresponding key in the module instead of copying them in place?)\n",
            "  warnings.warn(f'for {key}: copying from a non-meta parameter in the checkpoint to a meta '\n",
            "/opt/conda/envs/llava1.5env/lib/python3.8/site-packages/torch/nn/modules/module.py:2025: UserWarning: for vision_model.encoder.layers.1.self_attn.out_proj.bias: copying from a non-meta parameter in the checkpoint to a meta parameter in the current model, which is a no-op. (Did you mean to pass `assign=True` to assign items in the state dictionary to their corresponding key in the module instead of copying them in place?)\n",
            "  warnings.warn(f'for {key}: copying from a non-meta parameter in the checkpoint to a meta '\n",
            "/opt/conda/envs/llava1.5env/lib/python3.8/site-packages/torch/nn/modules/module.py:2025: UserWarning: for vision_model.encoder.layers.1.layer_norm1.weight: copying from a non-meta parameter in the checkpoint to a meta parameter in the current model, which is a no-op. (Did you mean to pass `assign=True` to assign items in the state dictionary to their corresponding key in the module instead of copying them in place?)\n",
            "  warnings.warn(f'for {key}: copying from a non-meta parameter in the checkpoint to a meta '\n",
            "/opt/conda/envs/llava1.5env/lib/python3.8/site-packages/torch/nn/modules/module.py:2025: UserWarning: for vision_model.encoder.layers.1.layer_norm1.bias: copying from a non-meta parameter in the checkpoint to a meta parameter in the current model, which is a no-op. (Did you mean to pass `assign=True` to assign items in the state dictionary to their corresponding key in the module instead of copying them in place?)\n",
            "  warnings.warn(f'for {key}: copying from a non-meta parameter in the checkpoint to a meta '\n",
            "/opt/conda/envs/llava1.5env/lib/python3.8/site-packages/torch/nn/modules/module.py:2025: UserWarning: for vision_model.encoder.layers.1.mlp.fc1.weight: copying from a non-meta parameter in the checkpoint to a meta parameter in the current model, which is a no-op. (Did you mean to pass `assign=True` to assign items in the state dictionary to their corresponding key in the module instead of copying them in place?)\n",
            "  warnings.warn(f'for {key}: copying from a non-meta parameter in the checkpoint to a meta '\n",
            "/opt/conda/envs/llava1.5env/lib/python3.8/site-packages/torch/nn/modules/module.py:2025: UserWarning: for vision_model.encoder.layers.1.mlp.fc1.bias: copying from a non-meta parameter in the checkpoint to a meta parameter in the current model, which is a no-op. (Did you mean to pass `assign=True` to assign items in the state dictionary to their corresponding key in the module instead of copying them in place?)\n",
            "  warnings.warn(f'for {key}: copying from a non-meta parameter in the checkpoint to a meta '\n",
            "/opt/conda/envs/llava1.5env/lib/python3.8/site-packages/torch/nn/modules/module.py:2025: UserWarning: for vision_model.encoder.layers.1.mlp.fc2.weight: copying from a non-meta parameter in the checkpoint to a meta parameter in the current model, which is a no-op. (Did you mean to pass `assign=True` to assign items in the state dictionary to their corresponding key in the module instead of copying them in place?)\n",
            "  warnings.warn(f'for {key}: copying from a non-meta parameter in the checkpoint to a meta '\n",
            "/opt/conda/envs/llava1.5env/lib/python3.8/site-packages/torch/nn/modules/module.py:2025: UserWarning: for vision_model.encoder.layers.1.mlp.fc2.bias: copying from a non-meta parameter in the checkpoint to a meta parameter in the current model, which is a no-op. (Did you mean to pass `assign=True` to assign items in the state dictionary to their corresponding key in the module instead of copying them in place?)\n",
            "  warnings.warn(f'for {key}: copying from a non-meta parameter in the checkpoint to a meta '\n",
            "/opt/conda/envs/llava1.5env/lib/python3.8/site-packages/torch/nn/modules/module.py:2025: UserWarning: for vision_model.encoder.layers.1.layer_norm2.weight: copying from a non-meta parameter in the checkpoint to a meta parameter in the current model, which is a no-op. (Did you mean to pass `assign=True` to assign items in the state dictionary to their corresponding key in the module instead of copying them in place?)\n",
            "  warnings.warn(f'for {key}: copying from a non-meta parameter in the checkpoint to a meta '\n",
            "/opt/conda/envs/llava1.5env/lib/python3.8/site-packages/torch/nn/modules/module.py:2025: UserWarning: for vision_model.encoder.layers.1.layer_norm2.bias: copying from a non-meta parameter in the checkpoint to a meta parameter in the current model, which is a no-op. (Did you mean to pass `assign=True` to assign items in the state dictionary to their corresponding key in the module instead of copying them in place?)\n",
            "  warnings.warn(f'for {key}: copying from a non-meta parameter in the checkpoint to a meta '\n",
            "/opt/conda/envs/llava1.5env/lib/python3.8/site-packages/torch/nn/modules/module.py:2025: UserWarning: for vision_model.encoder.layers.2.self_attn.k_proj.weight: copying from a non-meta parameter in the checkpoint to a meta parameter in the current model, which is a no-op. (Did you mean to pass `assign=True` to assign items in the state dictionary to their corresponding key in the module instead of copying them in place?)\n",
            "  warnings.warn(f'for {key}: copying from a non-meta parameter in the checkpoint to a meta '\n",
            "/opt/conda/envs/llava1.5env/lib/python3.8/site-packages/torch/nn/modules/module.py:2025: UserWarning: for vision_model.encoder.layers.2.self_attn.k_proj.bias: copying from a non-meta parameter in the checkpoint to a meta parameter in the current model, which is a no-op. (Did you mean to pass `assign=True` to assign items in the state dictionary to their corresponding key in the module instead of copying them in place?)\n",
            "  warnings.warn(f'for {key}: copying from a non-meta parameter in the checkpoint to a meta '\n",
            "/opt/conda/envs/llava1.5env/lib/python3.8/site-packages/torch/nn/modules/module.py:2025: UserWarning: for vision_model.encoder.layers.2.self_attn.v_proj.weight: copying from a non-meta parameter in the checkpoint to a meta parameter in the current model, which is a no-op. (Did you mean to pass `assign=True` to assign items in the state dictionary to their corresponding key in the module instead of copying them in place?)\n",
            "  warnings.warn(f'for {key}: copying from a non-meta parameter in the checkpoint to a meta '\n",
            "/opt/conda/envs/llava1.5env/lib/python3.8/site-packages/torch/nn/modules/module.py:2025: UserWarning: for vision_model.encoder.layers.2.self_attn.v_proj.bias: copying from a non-meta parameter in the checkpoint to a meta parameter in the current model, which is a no-op. (Did you mean to pass `assign=True` to assign items in the state dictionary to their corresponding key in the module instead of copying them in place?)\n",
            "  warnings.warn(f'for {key}: copying from a non-meta parameter in the checkpoint to a meta '\n",
            "/opt/conda/envs/llava1.5env/lib/python3.8/site-packages/torch/nn/modules/module.py:2025: UserWarning: for vision_model.encoder.layers.2.self_attn.q_proj.weight: copying from a non-meta parameter in the checkpoint to a meta parameter in the current model, which is a no-op. (Did you mean to pass `assign=True` to assign items in the state dictionary to their corresponding key in the module instead of copying them in place?)\n",
            "  warnings.warn(f'for {key}: copying from a non-meta parameter in the checkpoint to a meta '\n",
            "/opt/conda/envs/llava1.5env/lib/python3.8/site-packages/torch/nn/modules/module.py:2025: UserWarning: for vision_model.encoder.layers.2.self_attn.q_proj.bias: copying from a non-meta parameter in the checkpoint to a meta parameter in the current model, which is a no-op. (Did you mean to pass `assign=True` to assign items in the state dictionary to their corresponding key in the module instead of copying them in place?)\n",
            "  warnings.warn(f'for {key}: copying from a non-meta parameter in the checkpoint to a meta '\n",
            "/opt/conda/envs/llava1.5env/lib/python3.8/site-packages/torch/nn/modules/module.py:2025: UserWarning: for vision_model.encoder.layers.2.self_attn.out_proj.weight: copying from a non-meta parameter in the checkpoint to a meta parameter in the current model, which is a no-op. (Did you mean to pass `assign=True` to assign items in the state dictionary to their corresponding key in the module instead of copying them in place?)\n",
            "  warnings.warn(f'for {key}: copying from a non-meta parameter in the checkpoint to a meta '\n",
            "/opt/conda/envs/llava1.5env/lib/python3.8/site-packages/torch/nn/modules/module.py:2025: UserWarning: for vision_model.encoder.layers.2.self_attn.out_proj.bias: copying from a non-meta parameter in the checkpoint to a meta parameter in the current model, which is a no-op. (Did you mean to pass `assign=True` to assign items in the state dictionary to their corresponding key in the module instead of copying them in place?)\n",
            "  warnings.warn(f'for {key}: copying from a non-meta parameter in the checkpoint to a meta '\n",
            "/opt/conda/envs/llava1.5env/lib/python3.8/site-packages/torch/nn/modules/module.py:2025: UserWarning: for vision_model.encoder.layers.2.layer_norm1.weight: copying from a non-meta parameter in the checkpoint to a meta parameter in the current model, which is a no-op. (Did you mean to pass `assign=True` to assign items in the state dictionary to their corresponding key in the module instead of copying them in place?)\n",
            "  warnings.warn(f'for {key}: copying from a non-meta parameter in the checkpoint to a meta '\n",
            "/opt/conda/envs/llava1.5env/lib/python3.8/site-packages/torch/nn/modules/module.py:2025: UserWarning: for vision_model.encoder.layers.2.layer_norm1.bias: copying from a non-meta parameter in the checkpoint to a meta parameter in the current model, which is a no-op. (Did you mean to pass `assign=True` to assign items in the state dictionary to their corresponding key in the module instead of copying them in place?)\n",
            "  warnings.warn(f'for {key}: copying from a non-meta parameter in the checkpoint to a meta '\n",
            "/opt/conda/envs/llava1.5env/lib/python3.8/site-packages/torch/nn/modules/module.py:2025: UserWarning: for vision_model.encoder.layers.2.mlp.fc1.weight: copying from a non-meta parameter in the checkpoint to a meta parameter in the current model, which is a no-op. (Did you mean to pass `assign=True` to assign items in the state dictionary to their corresponding key in the module instead of copying them in place?)\n",
            "  warnings.warn(f'for {key}: copying from a non-meta parameter in the checkpoint to a meta '\n",
            "/opt/conda/envs/llava1.5env/lib/python3.8/site-packages/torch/nn/modules/module.py:2025: UserWarning: for vision_model.encoder.layers.2.mlp.fc1.bias: copying from a non-meta parameter in the checkpoint to a meta parameter in the current model, which is a no-op. (Did you mean to pass `assign=True` to assign items in the state dictionary to their corresponding key in the module instead of copying them in place?)\n",
            "  warnings.warn(f'for {key}: copying from a non-meta parameter in the checkpoint to a meta '\n",
            "/opt/conda/envs/llava1.5env/lib/python3.8/site-packages/torch/nn/modules/module.py:2025: UserWarning: for vision_model.encoder.layers.2.mlp.fc2.weight: copying from a non-meta parameter in the checkpoint to a meta parameter in the current model, which is a no-op. (Did you mean to pass `assign=True` to assign items in the state dictionary to their corresponding key in the module instead of copying them in place?)\n",
            "  warnings.warn(f'for {key}: copying from a non-meta parameter in the checkpoint to a meta '\n",
            "/opt/conda/envs/llava1.5env/lib/python3.8/site-packages/torch/nn/modules/module.py:2025: UserWarning: for vision_model.encoder.layers.2.mlp.fc2.bias: copying from a non-meta parameter in the checkpoint to a meta parameter in the current model, which is a no-op. (Did you mean to pass `assign=True` to assign items in the state dictionary to their corresponding key in the module instead of copying them in place?)\n",
            "  warnings.warn(f'for {key}: copying from a non-meta parameter in the checkpoint to a meta '\n",
            "/opt/conda/envs/llava1.5env/lib/python3.8/site-packages/torch/nn/modules/module.py:2025: UserWarning: for vision_model.encoder.layers.2.layer_norm2.weight: copying from a non-meta parameter in the checkpoint to a meta parameter in the current model, which is a no-op. (Did you mean to pass `assign=True` to assign items in the state dictionary to their corresponding key in the module instead of copying them in place?)\n",
            "  warnings.warn(f'for {key}: copying from a non-meta parameter in the checkpoint to a meta '\n",
            "/opt/conda/envs/llava1.5env/lib/python3.8/site-packages/torch/nn/modules/module.py:2025: UserWarning: for vision_model.encoder.layers.2.layer_norm2.bias: copying from a non-meta parameter in the checkpoint to a meta parameter in the current model, which is a no-op. (Did you mean to pass `assign=True` to assign items in the state dictionary to their corresponding key in the module instead of copying them in place?)\n",
            "  warnings.warn(f'for {key}: copying from a non-meta parameter in the checkpoint to a meta '\n",
            "/opt/conda/envs/llava1.5env/lib/python3.8/site-packages/torch/nn/modules/module.py:2025: UserWarning: for vision_model.encoder.layers.3.self_attn.k_proj.weight: copying from a non-meta parameter in the checkpoint to a meta parameter in the current model, which is a no-op. (Did you mean to pass `assign=True` to assign items in the state dictionary to their corresponding key in the module instead of copying them in place?)\n",
            "  warnings.warn(f'for {key}: copying from a non-meta parameter in the checkpoint to a meta '\n",
            "/opt/conda/envs/llava1.5env/lib/python3.8/site-packages/torch/nn/modules/module.py:2025: UserWarning: for vision_model.encoder.layers.3.self_attn.k_proj.bias: copying from a non-meta parameter in the checkpoint to a meta parameter in the current model, which is a no-op. (Did you mean to pass `assign=True` to assign items in the state dictionary to their corresponding key in the module instead of copying them in place?)\n",
            "  warnings.warn(f'for {key}: copying from a non-meta parameter in the checkpoint to a meta '\n",
            "/opt/conda/envs/llava1.5env/lib/python3.8/site-packages/torch/nn/modules/module.py:2025: UserWarning: for vision_model.encoder.layers.3.self_attn.v_proj.weight: copying from a non-meta parameter in the checkpoint to a meta parameter in the current model, which is a no-op. (Did you mean to pass `assign=True` to assign items in the state dictionary to their corresponding key in the module instead of copying them in place?)\n",
            "  warnings.warn(f'for {key}: copying from a non-meta parameter in the checkpoint to a meta '\n",
            "/opt/conda/envs/llava1.5env/lib/python3.8/site-packages/torch/nn/modules/module.py:2025: UserWarning: for vision_model.encoder.layers.3.self_attn.v_proj.bias: copying from a non-meta parameter in the checkpoint to a meta parameter in the current model, which is a no-op. (Did you mean to pass `assign=True` to assign items in the state dictionary to their corresponding key in the module instead of copying them in place?)\n",
            "  warnings.warn(f'for {key}: copying from a non-meta parameter in the checkpoint to a meta '\n",
            "/opt/conda/envs/llava1.5env/lib/python3.8/site-packages/torch/nn/modules/module.py:2025: UserWarning: for vision_model.encoder.layers.3.self_attn.q_proj.weight: copying from a non-meta parameter in the checkpoint to a meta parameter in the current model, which is a no-op. (Did you mean to pass `assign=True` to assign items in the state dictionary to their corresponding key in the module instead of copying them in place?)\n",
            "  warnings.warn(f'for {key}: copying from a non-meta parameter in the checkpoint to a meta '\n",
            "/opt/conda/envs/llava1.5env/lib/python3.8/site-packages/torch/nn/modules/module.py:2025: UserWarning: for vision_model.encoder.layers.3.self_attn.q_proj.bias: copying from a non-meta parameter in the checkpoint to a meta parameter in the current model, which is a no-op. (Did you mean to pass `assign=True` to assign items in the state dictionary to their corresponding key in the module instead of copying them in place?)\n",
            "  warnings.warn(f'for {key}: copying from a non-meta parameter in the checkpoint to a meta '\n",
            "/opt/conda/envs/llava1.5env/lib/python3.8/site-packages/torch/nn/modules/module.py:2025: UserWarning: for vision_model.encoder.layers.3.self_attn.out_proj.weight: copying from a non-meta parameter in the checkpoint to a meta parameter in the current model, which is a no-op. (Did you mean to pass `assign=True` to assign items in the state dictionary to their corresponding key in the module instead of copying them in place?)\n",
            "  warnings.warn(f'for {key}: copying from a non-meta parameter in the checkpoint to a meta '\n",
            "/opt/conda/envs/llava1.5env/lib/python3.8/site-packages/torch/nn/modules/module.py:2025: UserWarning: for vision_model.encoder.layers.3.self_attn.out_proj.bias: copying from a non-meta parameter in the checkpoint to a meta parameter in the current model, which is a no-op. (Did you mean to pass `assign=True` to assign items in the state dictionary to their corresponding key in the module instead of copying them in place?)\n",
            "  warnings.warn(f'for {key}: copying from a non-meta parameter in the checkpoint to a meta '\n",
            "/opt/conda/envs/llava1.5env/lib/python3.8/site-packages/torch/nn/modules/module.py:2025: UserWarning: for vision_model.encoder.layers.3.layer_norm1.weight: copying from a non-meta parameter in the checkpoint to a meta parameter in the current model, which is a no-op. (Did you mean to pass `assign=True` to assign items in the state dictionary to their corresponding key in the module instead of copying them in place?)\n",
            "  warnings.warn(f'for {key}: copying from a non-meta parameter in the checkpoint to a meta '\n",
            "/opt/conda/envs/llava1.5env/lib/python3.8/site-packages/torch/nn/modules/module.py:2025: UserWarning: for vision_model.encoder.layers.3.layer_norm1.bias: copying from a non-meta parameter in the checkpoint to a meta parameter in the current model, which is a no-op. (Did you mean to pass `assign=True` to assign items in the state dictionary to their corresponding key in the module instead of copying them in place?)\n",
            "  warnings.warn(f'for {key}: copying from a non-meta parameter in the checkpoint to a meta '\n",
            "/opt/conda/envs/llava1.5env/lib/python3.8/site-packages/torch/nn/modules/module.py:2025: UserWarning: for vision_model.encoder.layers.3.mlp.fc1.weight: copying from a non-meta parameter in the checkpoint to a meta parameter in the current model, which is a no-op. (Did you mean to pass `assign=True` to assign items in the state dictionary to their corresponding key in the module instead of copying them in place?)\n",
            "  warnings.warn(f'for {key}: copying from a non-meta parameter in the checkpoint to a meta '\n",
            "/opt/conda/envs/llava1.5env/lib/python3.8/site-packages/torch/nn/modules/module.py:2025: UserWarning: for vision_model.encoder.layers.3.mlp.fc1.bias: copying from a non-meta parameter in the checkpoint to a meta parameter in the current model, which is a no-op. (Did you mean to pass `assign=True` to assign items in the state dictionary to their corresponding key in the module instead of copying them in place?)\n",
            "  warnings.warn(f'for {key}: copying from a non-meta parameter in the checkpoint to a meta '\n",
            "/opt/conda/envs/llava1.5env/lib/python3.8/site-packages/torch/nn/modules/module.py:2025: UserWarning: for vision_model.encoder.layers.3.mlp.fc2.weight: copying from a non-meta parameter in the checkpoint to a meta parameter in the current model, which is a no-op. (Did you mean to pass `assign=True` to assign items in the state dictionary to their corresponding key in the module instead of copying them in place?)\n",
            "  warnings.warn(f'for {key}: copying from a non-meta parameter in the checkpoint to a meta '\n",
            "/opt/conda/envs/llava1.5env/lib/python3.8/site-packages/torch/nn/modules/module.py:2025: UserWarning: for vision_model.encoder.layers.3.mlp.fc2.bias: copying from a non-meta parameter in the checkpoint to a meta parameter in the current model, which is a no-op. (Did you mean to pass `assign=True` to assign items in the state dictionary to their corresponding key in the module instead of copying them in place?)\n",
            "  warnings.warn(f'for {key}: copying from a non-meta parameter in the checkpoint to a meta '\n",
            "/opt/conda/envs/llava1.5env/lib/python3.8/site-packages/torch/nn/modules/module.py:2025: UserWarning: for vision_model.encoder.layers.3.layer_norm2.weight: copying from a non-meta parameter in the checkpoint to a meta parameter in the current model, which is a no-op. (Did you mean to pass `assign=True` to assign items in the state dictionary to their corresponding key in the module instead of copying them in place?)\n",
            "  warnings.warn(f'for {key}: copying from a non-meta parameter in the checkpoint to a meta '\n",
            "/opt/conda/envs/llava1.5env/lib/python3.8/site-packages/torch/nn/modules/module.py:2025: UserWarning: for vision_model.encoder.layers.3.layer_norm2.bias: copying from a non-meta parameter in the checkpoint to a meta parameter in the current model, which is a no-op. (Did you mean to pass `assign=True` to assign items in the state dictionary to their corresponding key in the module instead of copying them in place?)\n",
            "  warnings.warn(f'for {key}: copying from a non-meta parameter in the checkpoint to a meta '\n",
            "/opt/conda/envs/llava1.5env/lib/python3.8/site-packages/torch/nn/modules/module.py:2025: UserWarning: for vision_model.encoder.layers.4.self_attn.k_proj.weight: copying from a non-meta parameter in the checkpoint to a meta parameter in the current model, which is a no-op. (Did you mean to pass `assign=True` to assign items in the state dictionary to their corresponding key in the module instead of copying them in place?)\n",
            "  warnings.warn(f'for {key}: copying from a non-meta parameter in the checkpoint to a meta '\n",
            "/opt/conda/envs/llava1.5env/lib/python3.8/site-packages/torch/nn/modules/module.py:2025: UserWarning: for vision_model.encoder.layers.4.self_attn.k_proj.bias: copying from a non-meta parameter in the checkpoint to a meta parameter in the current model, which is a no-op. (Did you mean to pass `assign=True` to assign items in the state dictionary to their corresponding key in the module instead of copying them in place?)\n",
            "  warnings.warn(f'for {key}: copying from a non-meta parameter in the checkpoint to a meta '\n",
            "/opt/conda/envs/llava1.5env/lib/python3.8/site-packages/torch/nn/modules/module.py:2025: UserWarning: for vision_model.encoder.layers.4.self_attn.v_proj.weight: copying from a non-meta parameter in the checkpoint to a meta parameter in the current model, which is a no-op. (Did you mean to pass `assign=True` to assign items in the state dictionary to their corresponding key in the module instead of copying them in place?)\n",
            "  warnings.warn(f'for {key}: copying from a non-meta parameter in the checkpoint to a meta '\n",
            "/opt/conda/envs/llava1.5env/lib/python3.8/site-packages/torch/nn/modules/module.py:2025: UserWarning: for vision_model.encoder.layers.4.self_attn.v_proj.bias: copying from a non-meta parameter in the checkpoint to a meta parameter in the current model, which is a no-op. (Did you mean to pass `assign=True` to assign items in the state dictionary to their corresponding key in the module instead of copying them in place?)\n",
            "  warnings.warn(f'for {key}: copying from a non-meta parameter in the checkpoint to a meta '\n",
            "/opt/conda/envs/llava1.5env/lib/python3.8/site-packages/torch/nn/modules/module.py:2025: UserWarning: for vision_model.encoder.layers.4.self_attn.q_proj.weight: copying from a non-meta parameter in the checkpoint to a meta parameter in the current model, which is a no-op. (Did you mean to pass `assign=True` to assign items in the state dictionary to their corresponding key in the module instead of copying them in place?)\n",
            "  warnings.warn(f'for {key}: copying from a non-meta parameter in the checkpoint to a meta '\n",
            "/opt/conda/envs/llava1.5env/lib/python3.8/site-packages/torch/nn/modules/module.py:2025: UserWarning: for vision_model.encoder.layers.4.self_attn.q_proj.bias: copying from a non-meta parameter in the checkpoint to a meta parameter in the current model, which is a no-op. (Did you mean to pass `assign=True` to assign items in the state dictionary to their corresponding key in the module instead of copying them in place?)\n",
            "  warnings.warn(f'for {key}: copying from a non-meta parameter in the checkpoint to a meta '\n",
            "/opt/conda/envs/llava1.5env/lib/python3.8/site-packages/torch/nn/modules/module.py:2025: UserWarning: for vision_model.encoder.layers.4.self_attn.out_proj.weight: copying from a non-meta parameter in the checkpoint to a meta parameter in the current model, which is a no-op. (Did you mean to pass `assign=True` to assign items in the state dictionary to their corresponding key in the module instead of copying them in place?)\n",
            "  warnings.warn(f'for {key}: copying from a non-meta parameter in the checkpoint to a meta '\n",
            "/opt/conda/envs/llava1.5env/lib/python3.8/site-packages/torch/nn/modules/module.py:2025: UserWarning: for vision_model.encoder.layers.4.self_attn.out_proj.bias: copying from a non-meta parameter in the checkpoint to a meta parameter in the current model, which is a no-op. (Did you mean to pass `assign=True` to assign items in the state dictionary to their corresponding key in the module instead of copying them in place?)\n",
            "  warnings.warn(f'for {key}: copying from a non-meta parameter in the checkpoint to a meta '\n",
            "/opt/conda/envs/llava1.5env/lib/python3.8/site-packages/torch/nn/modules/module.py:2025: UserWarning: for vision_model.encoder.layers.4.layer_norm1.weight: copying from a non-meta parameter in the checkpoint to a meta parameter in the current model, which is a no-op. (Did you mean to pass `assign=True` to assign items in the state dictionary to their corresponding key in the module instead of copying them in place?)\n",
            "  warnings.warn(f'for {key}: copying from a non-meta parameter in the checkpoint to a meta '\n",
            "/opt/conda/envs/llava1.5env/lib/python3.8/site-packages/torch/nn/modules/module.py:2025: UserWarning: for vision_model.encoder.layers.4.layer_norm1.bias: copying from a non-meta parameter in the checkpoint to a meta parameter in the current model, which is a no-op. (Did you mean to pass `assign=True` to assign items in the state dictionary to their corresponding key in the module instead of copying them in place?)\n",
            "  warnings.warn(f'for {key}: copying from a non-meta parameter in the checkpoint to a meta '\n",
            "/opt/conda/envs/llava1.5env/lib/python3.8/site-packages/torch/nn/modules/module.py:2025: UserWarning: for vision_model.encoder.layers.4.mlp.fc1.weight: copying from a non-meta parameter in the checkpoint to a meta parameter in the current model, which is a no-op. (Did you mean to pass `assign=True` to assign items in the state dictionary to their corresponding key in the module instead of copying them in place?)\n",
            "  warnings.warn(f'for {key}: copying from a non-meta parameter in the checkpoint to a meta '\n",
            "/opt/conda/envs/llava1.5env/lib/python3.8/site-packages/torch/nn/modules/module.py:2025: UserWarning: for vision_model.encoder.layers.4.mlp.fc1.bias: copying from a non-meta parameter in the checkpoint to a meta parameter in the current model, which is a no-op. (Did you mean to pass `assign=True` to assign items in the state dictionary to their corresponding key in the module instead of copying them in place?)\n",
            "  warnings.warn(f'for {key}: copying from a non-meta parameter in the checkpoint to a meta '\n",
            "/opt/conda/envs/llava1.5env/lib/python3.8/site-packages/torch/nn/modules/module.py:2025: UserWarning: for vision_model.encoder.layers.4.mlp.fc2.weight: copying from a non-meta parameter in the checkpoint to a meta parameter in the current model, which is a no-op. (Did you mean to pass `assign=True` to assign items in the state dictionary to their corresponding key in the module instead of copying them in place?)\n",
            "  warnings.warn(f'for {key}: copying from a non-meta parameter in the checkpoint to a meta '\n",
            "/opt/conda/envs/llava1.5env/lib/python3.8/site-packages/torch/nn/modules/module.py:2025: UserWarning: for vision_model.encoder.layers.4.mlp.fc2.bias: copying from a non-meta parameter in the checkpoint to a meta parameter in the current model, which is a no-op. (Did you mean to pass `assign=True` to assign items in the state dictionary to their corresponding key in the module instead of copying them in place?)\n",
            "  warnings.warn(f'for {key}: copying from a non-meta parameter in the checkpoint to a meta '\n",
            "/opt/conda/envs/llava1.5env/lib/python3.8/site-packages/torch/nn/modules/module.py:2025: UserWarning: for vision_model.encoder.layers.4.layer_norm2.weight: copying from a non-meta parameter in the checkpoint to a meta parameter in the current model, which is a no-op. (Did you mean to pass `assign=True` to assign items in the state dictionary to their corresponding key in the module instead of copying them in place?)\n",
            "  warnings.warn(f'for {key}: copying from a non-meta parameter in the checkpoint to a meta '\n",
            "/opt/conda/envs/llava1.5env/lib/python3.8/site-packages/torch/nn/modules/module.py:2025: UserWarning: for vision_model.encoder.layers.4.layer_norm2.bias: copying from a non-meta parameter in the checkpoint to a meta parameter in the current model, which is a no-op. (Did you mean to pass `assign=True` to assign items in the state dictionary to their corresponding key in the module instead of copying them in place?)\n",
            "  warnings.warn(f'for {key}: copying from a non-meta parameter in the checkpoint to a meta '\n",
            "/opt/conda/envs/llava1.5env/lib/python3.8/site-packages/torch/nn/modules/module.py:2025: UserWarning: for vision_model.encoder.layers.5.self_attn.k_proj.weight: copying from a non-meta parameter in the checkpoint to a meta parameter in the current model, which is a no-op. (Did you mean to pass `assign=True` to assign items in the state dictionary to their corresponding key in the module instead of copying them in place?)\n",
            "  warnings.warn(f'for {key}: copying from a non-meta parameter in the checkpoint to a meta '\n",
            "/opt/conda/envs/llava1.5env/lib/python3.8/site-packages/torch/nn/modules/module.py:2025: UserWarning: for vision_model.encoder.layers.5.self_attn.k_proj.bias: copying from a non-meta parameter in the checkpoint to a meta parameter in the current model, which is a no-op. (Did you mean to pass `assign=True` to assign items in the state dictionary to their corresponding key in the module instead of copying them in place?)\n",
            "  warnings.warn(f'for {key}: copying from a non-meta parameter in the checkpoint to a meta '\n",
            "/opt/conda/envs/llava1.5env/lib/python3.8/site-packages/torch/nn/modules/module.py:2025: UserWarning: for vision_model.encoder.layers.5.self_attn.v_proj.weight: copying from a non-meta parameter in the checkpoint to a meta parameter in the current model, which is a no-op. (Did you mean to pass `assign=True` to assign items in the state dictionary to their corresponding key in the module instead of copying them in place?)\n",
            "  warnings.warn(f'for {key}: copying from a non-meta parameter in the checkpoint to a meta '\n",
            "/opt/conda/envs/llava1.5env/lib/python3.8/site-packages/torch/nn/modules/module.py:2025: UserWarning: for vision_model.encoder.layers.5.self_attn.v_proj.bias: copying from a non-meta parameter in the checkpoint to a meta parameter in the current model, which is a no-op. (Did you mean to pass `assign=True` to assign items in the state dictionary to their corresponding key in the module instead of copying them in place?)\n",
            "  warnings.warn(f'for {key}: copying from a non-meta parameter in the checkpoint to a meta '\n",
            "/opt/conda/envs/llava1.5env/lib/python3.8/site-packages/torch/nn/modules/module.py:2025: UserWarning: for vision_model.encoder.layers.5.self_attn.q_proj.weight: copying from a non-meta parameter in the checkpoint to a meta parameter in the current model, which is a no-op. (Did you mean to pass `assign=True` to assign items in the state dictionary to their corresponding key in the module instead of copying them in place?)\n",
            "  warnings.warn(f'for {key}: copying from a non-meta parameter in the checkpoint to a meta '\n",
            "/opt/conda/envs/llava1.5env/lib/python3.8/site-packages/torch/nn/modules/module.py:2025: UserWarning: for vision_model.encoder.layers.5.self_attn.q_proj.bias: copying from a non-meta parameter in the checkpoint to a meta parameter in the current model, which is a no-op. (Did you mean to pass `assign=True` to assign items in the state dictionary to their corresponding key in the module instead of copying them in place?)\n",
            "  warnings.warn(f'for {key}: copying from a non-meta parameter in the checkpoint to a meta '\n",
            "/opt/conda/envs/llava1.5env/lib/python3.8/site-packages/torch/nn/modules/module.py:2025: UserWarning: for vision_model.encoder.layers.5.self_attn.out_proj.weight: copying from a non-meta parameter in the checkpoint to a meta parameter in the current model, which is a no-op. (Did you mean to pass `assign=True` to assign items in the state dictionary to their corresponding key in the module instead of copying them in place?)\n",
            "  warnings.warn(f'for {key}: copying from a non-meta parameter in the checkpoint to a meta '\n",
            "/opt/conda/envs/llava1.5env/lib/python3.8/site-packages/torch/nn/modules/module.py:2025: UserWarning: for vision_model.encoder.layers.5.self_attn.out_proj.bias: copying from a non-meta parameter in the checkpoint to a meta parameter in the current model, which is a no-op. (Did you mean to pass `assign=True` to assign items in the state dictionary to their corresponding key in the module instead of copying them in place?)\n",
            "  warnings.warn(f'for {key}: copying from a non-meta parameter in the checkpoint to a meta '\n",
            "/opt/conda/envs/llava1.5env/lib/python3.8/site-packages/torch/nn/modules/module.py:2025: UserWarning: for vision_model.encoder.layers.5.layer_norm1.weight: copying from a non-meta parameter in the checkpoint to a meta parameter in the current model, which is a no-op. (Did you mean to pass `assign=True` to assign items in the state dictionary to their corresponding key in the module instead of copying them in place?)\n",
            "  warnings.warn(f'for {key}: copying from a non-meta parameter in the checkpoint to a meta '\n",
            "/opt/conda/envs/llava1.5env/lib/python3.8/site-packages/torch/nn/modules/module.py:2025: UserWarning: for vision_model.encoder.layers.5.layer_norm1.bias: copying from a non-meta parameter in the checkpoint to a meta parameter in the current model, which is a no-op. (Did you mean to pass `assign=True` to assign items in the state dictionary to their corresponding key in the module instead of copying them in place?)\n",
            "  warnings.warn(f'for {key}: copying from a non-meta parameter in the checkpoint to a meta '\n",
            "/opt/conda/envs/llava1.5env/lib/python3.8/site-packages/torch/nn/modules/module.py:2025: UserWarning: for vision_model.encoder.layers.5.mlp.fc1.weight: copying from a non-meta parameter in the checkpoint to a meta parameter in the current model, which is a no-op. (Did you mean to pass `assign=True` to assign items in the state dictionary to their corresponding key in the module instead of copying them in place?)\n",
            "  warnings.warn(f'for {key}: copying from a non-meta parameter in the checkpoint to a meta '\n",
            "/opt/conda/envs/llava1.5env/lib/python3.8/site-packages/torch/nn/modules/module.py:2025: UserWarning: for vision_model.encoder.layers.5.mlp.fc1.bias: copying from a non-meta parameter in the checkpoint to a meta parameter in the current model, which is a no-op. (Did you mean to pass `assign=True` to assign items in the state dictionary to their corresponding key in the module instead of copying them in place?)\n",
            "  warnings.warn(f'for {key}: copying from a non-meta parameter in the checkpoint to a meta '\n",
            "/opt/conda/envs/llava1.5env/lib/python3.8/site-packages/torch/nn/modules/module.py:2025: UserWarning: for vision_model.encoder.layers.5.mlp.fc2.weight: copying from a non-meta parameter in the checkpoint to a meta parameter in the current model, which is a no-op. (Did you mean to pass `assign=True` to assign items in the state dictionary to their corresponding key in the module instead of copying them in place?)\n",
            "  warnings.warn(f'for {key}: copying from a non-meta parameter in the checkpoint to a meta '\n",
            "/opt/conda/envs/llava1.5env/lib/python3.8/site-packages/torch/nn/modules/module.py:2025: UserWarning: for vision_model.encoder.layers.5.mlp.fc2.bias: copying from a non-meta parameter in the checkpoint to a meta parameter in the current model, which is a no-op. (Did you mean to pass `assign=True` to assign items in the state dictionary to their corresponding key in the module instead of copying them in place?)\n",
            "  warnings.warn(f'for {key}: copying from a non-meta parameter in the checkpoint to a meta '\n",
            "/opt/conda/envs/llava1.5env/lib/python3.8/site-packages/torch/nn/modules/module.py:2025: UserWarning: for vision_model.encoder.layers.5.layer_norm2.weight: copying from a non-meta parameter in the checkpoint to a meta parameter in the current model, which is a no-op. (Did you mean to pass `assign=True` to assign items in the state dictionary to their corresponding key in the module instead of copying them in place?)\n",
            "  warnings.warn(f'for {key}: copying from a non-meta parameter in the checkpoint to a meta '\n",
            "/opt/conda/envs/llava1.5env/lib/python3.8/site-packages/torch/nn/modules/module.py:2025: UserWarning: for vision_model.encoder.layers.5.layer_norm2.bias: copying from a non-meta parameter in the checkpoint to a meta parameter in the current model, which is a no-op. (Did you mean to pass `assign=True` to assign items in the state dictionary to their corresponding key in the module instead of copying them in place?)\n",
            "  warnings.warn(f'for {key}: copying from a non-meta parameter in the checkpoint to a meta '\n",
            "/opt/conda/envs/llava1.5env/lib/python3.8/site-packages/torch/nn/modules/module.py:2025: UserWarning: for vision_model.encoder.layers.6.self_attn.k_proj.weight: copying from a non-meta parameter in the checkpoint to a meta parameter in the current model, which is a no-op. (Did you mean to pass `assign=True` to assign items in the state dictionary to their corresponding key in the module instead of copying them in place?)\n",
            "  warnings.warn(f'for {key}: copying from a non-meta parameter in the checkpoint to a meta '\n",
            "/opt/conda/envs/llava1.5env/lib/python3.8/site-packages/torch/nn/modules/module.py:2025: UserWarning: for vision_model.encoder.layers.6.self_attn.k_proj.bias: copying from a non-meta parameter in the checkpoint to a meta parameter in the current model, which is a no-op. (Did you mean to pass `assign=True` to assign items in the state dictionary to their corresponding key in the module instead of copying them in place?)\n",
            "  warnings.warn(f'for {key}: copying from a non-meta parameter in the checkpoint to a meta '\n",
            "/opt/conda/envs/llava1.5env/lib/python3.8/site-packages/torch/nn/modules/module.py:2025: UserWarning: for vision_model.encoder.layers.6.self_attn.v_proj.weight: copying from a non-meta parameter in the checkpoint to a meta parameter in the current model, which is a no-op. (Did you mean to pass `assign=True` to assign items in the state dictionary to their corresponding key in the module instead of copying them in place?)\n",
            "  warnings.warn(f'for {key}: copying from a non-meta parameter in the checkpoint to a meta '\n",
            "/opt/conda/envs/llava1.5env/lib/python3.8/site-packages/torch/nn/modules/module.py:2025: UserWarning: for vision_model.encoder.layers.6.self_attn.v_proj.bias: copying from a non-meta parameter in the checkpoint to a meta parameter in the current model, which is a no-op. (Did you mean to pass `assign=True` to assign items in the state dictionary to their corresponding key in the module instead of copying them in place?)\n",
            "  warnings.warn(f'for {key}: copying from a non-meta parameter in the checkpoint to a meta '\n",
            "/opt/conda/envs/llava1.5env/lib/python3.8/site-packages/torch/nn/modules/module.py:2025: UserWarning: for vision_model.encoder.layers.6.self_attn.q_proj.weight: copying from a non-meta parameter in the checkpoint to a meta parameter in the current model, which is a no-op. (Did you mean to pass `assign=True` to assign items in the state dictionary to their corresponding key in the module instead of copying them in place?)\n",
            "  warnings.warn(f'for {key}: copying from a non-meta parameter in the checkpoint to a meta '\n",
            "/opt/conda/envs/llava1.5env/lib/python3.8/site-packages/torch/nn/modules/module.py:2025: UserWarning: for vision_model.encoder.layers.6.self_attn.q_proj.bias: copying from a non-meta parameter in the checkpoint to a meta parameter in the current model, which is a no-op. (Did you mean to pass `assign=True` to assign items in the state dictionary to their corresponding key in the module instead of copying them in place?)\n",
            "  warnings.warn(f'for {key}: copying from a non-meta parameter in the checkpoint to a meta '\n",
            "/opt/conda/envs/llava1.5env/lib/python3.8/site-packages/torch/nn/modules/module.py:2025: UserWarning: for vision_model.encoder.layers.6.self_attn.out_proj.weight: copying from a non-meta parameter in the checkpoint to a meta parameter in the current model, which is a no-op. (Did you mean to pass `assign=True` to assign items in the state dictionary to their corresponding key in the module instead of copying them in place?)\n",
            "  warnings.warn(f'for {key}: copying from a non-meta parameter in the checkpoint to a meta '\n",
            "/opt/conda/envs/llava1.5env/lib/python3.8/site-packages/torch/nn/modules/module.py:2025: UserWarning: for vision_model.encoder.layers.6.self_attn.out_proj.bias: copying from a non-meta parameter in the checkpoint to a meta parameter in the current model, which is a no-op. (Did you mean to pass `assign=True` to assign items in the state dictionary to their corresponding key in the module instead of copying them in place?)\n",
            "  warnings.warn(f'for {key}: copying from a non-meta parameter in the checkpoint to a meta '\n",
            "/opt/conda/envs/llava1.5env/lib/python3.8/site-packages/torch/nn/modules/module.py:2025: UserWarning: for vision_model.encoder.layers.6.layer_norm1.weight: copying from a non-meta parameter in the checkpoint to a meta parameter in the current model, which is a no-op. (Did you mean to pass `assign=True` to assign items in the state dictionary to their corresponding key in the module instead of copying them in place?)\n",
            "  warnings.warn(f'for {key}: copying from a non-meta parameter in the checkpoint to a meta '\n",
            "/opt/conda/envs/llava1.5env/lib/python3.8/site-packages/torch/nn/modules/module.py:2025: UserWarning: for vision_model.encoder.layers.6.layer_norm1.bias: copying from a non-meta parameter in the checkpoint to a meta parameter in the current model, which is a no-op. (Did you mean to pass `assign=True` to assign items in the state dictionary to their corresponding key in the module instead of copying them in place?)\n",
            "  warnings.warn(f'for {key}: copying from a non-meta parameter in the checkpoint to a meta '\n",
            "/opt/conda/envs/llava1.5env/lib/python3.8/site-packages/torch/nn/modules/module.py:2025: UserWarning: for vision_model.encoder.layers.6.mlp.fc1.weight: copying from a non-meta parameter in the checkpoint to a meta parameter in the current model, which is a no-op. (Did you mean to pass `assign=True` to assign items in the state dictionary to their corresponding key in the module instead of copying them in place?)\n",
            "  warnings.warn(f'for {key}: copying from a non-meta parameter in the checkpoint to a meta '\n",
            "/opt/conda/envs/llava1.5env/lib/python3.8/site-packages/torch/nn/modules/module.py:2025: UserWarning: for vision_model.encoder.layers.6.mlp.fc1.bias: copying from a non-meta parameter in the checkpoint to a meta parameter in the current model, which is a no-op. (Did you mean to pass `assign=True` to assign items in the state dictionary to their corresponding key in the module instead of copying them in place?)\n",
            "  warnings.warn(f'for {key}: copying from a non-meta parameter in the checkpoint to a meta '\n",
            "/opt/conda/envs/llava1.5env/lib/python3.8/site-packages/torch/nn/modules/module.py:2025: UserWarning: for vision_model.encoder.layers.6.mlp.fc2.weight: copying from a non-meta parameter in the checkpoint to a meta parameter in the current model, which is a no-op. (Did you mean to pass `assign=True` to assign items in the state dictionary to their corresponding key in the module instead of copying them in place?)\n",
            "  warnings.warn(f'for {key}: copying from a non-meta parameter in the checkpoint to a meta '\n",
            "/opt/conda/envs/llava1.5env/lib/python3.8/site-packages/torch/nn/modules/module.py:2025: UserWarning: for vision_model.encoder.layers.6.mlp.fc2.bias: copying from a non-meta parameter in the checkpoint to a meta parameter in the current model, which is a no-op. (Did you mean to pass `assign=True` to assign items in the state dictionary to their corresponding key in the module instead of copying them in place?)\n",
            "  warnings.warn(f'for {key}: copying from a non-meta parameter in the checkpoint to a meta '\n",
            "/opt/conda/envs/llava1.5env/lib/python3.8/site-packages/torch/nn/modules/module.py:2025: UserWarning: for vision_model.encoder.layers.6.layer_norm2.weight: copying from a non-meta parameter in the checkpoint to a meta parameter in the current model, which is a no-op. (Did you mean to pass `assign=True` to assign items in the state dictionary to their corresponding key in the module instead of copying them in place?)\n",
            "  warnings.warn(f'for {key}: copying from a non-meta parameter in the checkpoint to a meta '\n",
            "/opt/conda/envs/llava1.5env/lib/python3.8/site-packages/torch/nn/modules/module.py:2025: UserWarning: for vision_model.encoder.layers.6.layer_norm2.bias: copying from a non-meta parameter in the checkpoint to a meta parameter in the current model, which is a no-op. (Did you mean to pass `assign=True` to assign items in the state dictionary to their corresponding key in the module instead of copying them in place?)\n",
            "  warnings.warn(f'for {key}: copying from a non-meta parameter in the checkpoint to a meta '\n",
            "/opt/conda/envs/llava1.5env/lib/python3.8/site-packages/torch/nn/modules/module.py:2025: UserWarning: for vision_model.encoder.layers.7.self_attn.k_proj.weight: copying from a non-meta parameter in the checkpoint to a meta parameter in the current model, which is a no-op. (Did you mean to pass `assign=True` to assign items in the state dictionary to their corresponding key in the module instead of copying them in place?)\n",
            "  warnings.warn(f'for {key}: copying from a non-meta parameter in the checkpoint to a meta '\n",
            "/opt/conda/envs/llava1.5env/lib/python3.8/site-packages/torch/nn/modules/module.py:2025: UserWarning: for vision_model.encoder.layers.7.self_attn.k_proj.bias: copying from a non-meta parameter in the checkpoint to a meta parameter in the current model, which is a no-op. (Did you mean to pass `assign=True` to assign items in the state dictionary to their corresponding key in the module instead of copying them in place?)\n",
            "  warnings.warn(f'for {key}: copying from a non-meta parameter in the checkpoint to a meta '\n",
            "/opt/conda/envs/llava1.5env/lib/python3.8/site-packages/torch/nn/modules/module.py:2025: UserWarning: for vision_model.encoder.layers.7.self_attn.v_proj.weight: copying from a non-meta parameter in the checkpoint to a meta parameter in the current model, which is a no-op. (Did you mean to pass `assign=True` to assign items in the state dictionary to their corresponding key in the module instead of copying them in place?)\n",
            "  warnings.warn(f'for {key}: copying from a non-meta parameter in the checkpoint to a meta '\n",
            "/opt/conda/envs/llava1.5env/lib/python3.8/site-packages/torch/nn/modules/module.py:2025: UserWarning: for vision_model.encoder.layers.7.self_attn.v_proj.bias: copying from a non-meta parameter in the checkpoint to a meta parameter in the current model, which is a no-op. (Did you mean to pass `assign=True` to assign items in the state dictionary to their corresponding key in the module instead of copying them in place?)\n",
            "  warnings.warn(f'for {key}: copying from a non-meta parameter in the checkpoint to a meta '\n",
            "/opt/conda/envs/llava1.5env/lib/python3.8/site-packages/torch/nn/modules/module.py:2025: UserWarning: for vision_model.encoder.layers.7.self_attn.q_proj.weight: copying from a non-meta parameter in the checkpoint to a meta parameter in the current model, which is a no-op. (Did you mean to pass `assign=True` to assign items in the state dictionary to their corresponding key in the module instead of copying them in place?)\n",
            "  warnings.warn(f'for {key}: copying from a non-meta parameter in the checkpoint to a meta '\n",
            "/opt/conda/envs/llava1.5env/lib/python3.8/site-packages/torch/nn/modules/module.py:2025: UserWarning: for vision_model.encoder.layers.7.self_attn.q_proj.bias: copying from a non-meta parameter in the checkpoint to a meta parameter in the current model, which is a no-op. (Did you mean to pass `assign=True` to assign items in the state dictionary to their corresponding key in the module instead of copying them in place?)\n",
            "  warnings.warn(f'for {key}: copying from a non-meta parameter in the checkpoint to a meta '\n",
            "/opt/conda/envs/llava1.5env/lib/python3.8/site-packages/torch/nn/modules/module.py:2025: UserWarning: for vision_model.encoder.layers.7.self_attn.out_proj.weight: copying from a non-meta parameter in the checkpoint to a meta parameter in the current model, which is a no-op. (Did you mean to pass `assign=True` to assign items in the state dictionary to their corresponding key in the module instead of copying them in place?)\n",
            "  warnings.warn(f'for {key}: copying from a non-meta parameter in the checkpoint to a meta '\n",
            "/opt/conda/envs/llava1.5env/lib/python3.8/site-packages/torch/nn/modules/module.py:2025: UserWarning: for vision_model.encoder.layers.7.self_attn.out_proj.bias: copying from a non-meta parameter in the checkpoint to a meta parameter in the current model, which is a no-op. (Did you mean to pass `assign=True` to assign items in the state dictionary to their corresponding key in the module instead of copying them in place?)\n",
            "  warnings.warn(f'for {key}: copying from a non-meta parameter in the checkpoint to a meta '\n",
            "/opt/conda/envs/llava1.5env/lib/python3.8/site-packages/torch/nn/modules/module.py:2025: UserWarning: for vision_model.encoder.layers.7.layer_norm1.weight: copying from a non-meta parameter in the checkpoint to a meta parameter in the current model, which is a no-op. (Did you mean to pass `assign=True` to assign items in the state dictionary to their corresponding key in the module instead of copying them in place?)\n",
            "  warnings.warn(f'for {key}: copying from a non-meta parameter in the checkpoint to a meta '\n",
            "/opt/conda/envs/llava1.5env/lib/python3.8/site-packages/torch/nn/modules/module.py:2025: UserWarning: for vision_model.encoder.layers.7.layer_norm1.bias: copying from a non-meta parameter in the checkpoint to a meta parameter in the current model, which is a no-op. (Did you mean to pass `assign=True` to assign items in the state dictionary to their corresponding key in the module instead of copying them in place?)\n",
            "  warnings.warn(f'for {key}: copying from a non-meta parameter in the checkpoint to a meta '\n",
            "/opt/conda/envs/llava1.5env/lib/python3.8/site-packages/torch/nn/modules/module.py:2025: UserWarning: for vision_model.encoder.layers.7.mlp.fc1.weight: copying from a non-meta parameter in the checkpoint to a meta parameter in the current model, which is a no-op. (Did you mean to pass `assign=True` to assign items in the state dictionary to their corresponding key in the module instead of copying them in place?)\n",
            "  warnings.warn(f'for {key}: copying from a non-meta parameter in the checkpoint to a meta '\n",
            "/opt/conda/envs/llava1.5env/lib/python3.8/site-packages/torch/nn/modules/module.py:2025: UserWarning: for vision_model.encoder.layers.7.mlp.fc1.bias: copying from a non-meta parameter in the checkpoint to a meta parameter in the current model, which is a no-op. (Did you mean to pass `assign=True` to assign items in the state dictionary to their corresponding key in the module instead of copying them in place?)\n",
            "  warnings.warn(f'for {key}: copying from a non-meta parameter in the checkpoint to a meta '\n",
            "/opt/conda/envs/llava1.5env/lib/python3.8/site-packages/torch/nn/modules/module.py:2025: UserWarning: for vision_model.encoder.layers.7.mlp.fc2.weight: copying from a non-meta parameter in the checkpoint to a meta parameter in the current model, which is a no-op. (Did you mean to pass `assign=True` to assign items in the state dictionary to their corresponding key in the module instead of copying them in place?)\n",
            "  warnings.warn(f'for {key}: copying from a non-meta parameter in the checkpoint to a meta '\n",
            "/opt/conda/envs/llava1.5env/lib/python3.8/site-packages/torch/nn/modules/module.py:2025: UserWarning: for vision_model.encoder.layers.7.mlp.fc2.bias: copying from a non-meta parameter in the checkpoint to a meta parameter in the current model, which is a no-op. (Did you mean to pass `assign=True` to assign items in the state dictionary to their corresponding key in the module instead of copying them in place?)\n",
            "  warnings.warn(f'for {key}: copying from a non-meta parameter in the checkpoint to a meta '\n",
            "/opt/conda/envs/llava1.5env/lib/python3.8/site-packages/torch/nn/modules/module.py:2025: UserWarning: for vision_model.encoder.layers.7.layer_norm2.weight: copying from a non-meta parameter in the checkpoint to a meta parameter in the current model, which is a no-op. (Did you mean to pass `assign=True` to assign items in the state dictionary to their corresponding key in the module instead of copying them in place?)\n",
            "  warnings.warn(f'for {key}: copying from a non-meta parameter in the checkpoint to a meta '\n",
            "/opt/conda/envs/llava1.5env/lib/python3.8/site-packages/torch/nn/modules/module.py:2025: UserWarning: for vision_model.encoder.layers.7.layer_norm2.bias: copying from a non-meta parameter in the checkpoint to a meta parameter in the current model, which is a no-op. (Did you mean to pass `assign=True` to assign items in the state dictionary to their corresponding key in the module instead of copying them in place?)\n",
            "  warnings.warn(f'for {key}: copying from a non-meta parameter in the checkpoint to a meta '\n",
            "/opt/conda/envs/llava1.5env/lib/python3.8/site-packages/torch/nn/modules/module.py:2025: UserWarning: for vision_model.encoder.layers.8.self_attn.k_proj.weight: copying from a non-meta parameter in the checkpoint to a meta parameter in the current model, which is a no-op. (Did you mean to pass `assign=True` to assign items in the state dictionary to their corresponding key in the module instead of copying them in place?)\n",
            "  warnings.warn(f'for {key}: copying from a non-meta parameter in the checkpoint to a meta '\n",
            "/opt/conda/envs/llava1.5env/lib/python3.8/site-packages/torch/nn/modules/module.py:2025: UserWarning: for vision_model.encoder.layers.8.self_attn.k_proj.bias: copying from a non-meta parameter in the checkpoint to a meta parameter in the current model, which is a no-op. (Did you mean to pass `assign=True` to assign items in the state dictionary to their corresponding key in the module instead of copying them in place?)\n",
            "  warnings.warn(f'for {key}: copying from a non-meta parameter in the checkpoint to a meta '\n",
            "/opt/conda/envs/llava1.5env/lib/python3.8/site-packages/torch/nn/modules/module.py:2025: UserWarning: for vision_model.encoder.layers.8.self_attn.v_proj.weight: copying from a non-meta parameter in the checkpoint to a meta parameter in the current model, which is a no-op. (Did you mean to pass `assign=True` to assign items in the state dictionary to their corresponding key in the module instead of copying them in place?)\n",
            "  warnings.warn(f'for {key}: copying from a non-meta parameter in the checkpoint to a meta '\n",
            "/opt/conda/envs/llava1.5env/lib/python3.8/site-packages/torch/nn/modules/module.py:2025: UserWarning: for vision_model.encoder.layers.8.self_attn.v_proj.bias: copying from a non-meta parameter in the checkpoint to a meta parameter in the current model, which is a no-op. (Did you mean to pass `assign=True` to assign items in the state dictionary to their corresponding key in the module instead of copying them in place?)\n",
            "  warnings.warn(f'for {key}: copying from a non-meta parameter in the checkpoint to a meta '\n",
            "/opt/conda/envs/llava1.5env/lib/python3.8/site-packages/torch/nn/modules/module.py:2025: UserWarning: for vision_model.encoder.layers.8.self_attn.q_proj.weight: copying from a non-meta parameter in the checkpoint to a meta parameter in the current model, which is a no-op. (Did you mean to pass `assign=True` to assign items in the state dictionary to their corresponding key in the module instead of copying them in place?)\n",
            "  warnings.warn(f'for {key}: copying from a non-meta parameter in the checkpoint to a meta '\n",
            "/opt/conda/envs/llava1.5env/lib/python3.8/site-packages/torch/nn/modules/module.py:2025: UserWarning: for vision_model.encoder.layers.8.self_attn.q_proj.bias: copying from a non-meta parameter in the checkpoint to a meta parameter in the current model, which is a no-op. (Did you mean to pass `assign=True` to assign items in the state dictionary to their corresponding key in the module instead of copying them in place?)\n",
            "  warnings.warn(f'for {key}: copying from a non-meta parameter in the checkpoint to a meta '\n",
            "/opt/conda/envs/llava1.5env/lib/python3.8/site-packages/torch/nn/modules/module.py:2025: UserWarning: for vision_model.encoder.layers.8.self_attn.out_proj.weight: copying from a non-meta parameter in the checkpoint to a meta parameter in the current model, which is a no-op. (Did you mean to pass `assign=True` to assign items in the state dictionary to their corresponding key in the module instead of copying them in place?)\n",
            "  warnings.warn(f'for {key}: copying from a non-meta parameter in the checkpoint to a meta '\n",
            "/opt/conda/envs/llava1.5env/lib/python3.8/site-packages/torch/nn/modules/module.py:2025: UserWarning: for vision_model.encoder.layers.8.self_attn.out_proj.bias: copying from a non-meta parameter in the checkpoint to a meta parameter in the current model, which is a no-op. (Did you mean to pass `assign=True` to assign items in the state dictionary to their corresponding key in the module instead of copying them in place?)\n",
            "  warnings.warn(f'for {key}: copying from a non-meta parameter in the checkpoint to a meta '\n",
            "/opt/conda/envs/llava1.5env/lib/python3.8/site-packages/torch/nn/modules/module.py:2025: UserWarning: for vision_model.encoder.layers.8.layer_norm1.weight: copying from a non-meta parameter in the checkpoint to a meta parameter in the current model, which is a no-op. (Did you mean to pass `assign=True` to assign items in the state dictionary to their corresponding key in the module instead of copying them in place?)\n",
            "  warnings.warn(f'for {key}: copying from a non-meta parameter in the checkpoint to a meta '\n",
            "/opt/conda/envs/llava1.5env/lib/python3.8/site-packages/torch/nn/modules/module.py:2025: UserWarning: for vision_model.encoder.layers.8.layer_norm1.bias: copying from a non-meta parameter in the checkpoint to a meta parameter in the current model, which is a no-op. (Did you mean to pass `assign=True` to assign items in the state dictionary to their corresponding key in the module instead of copying them in place?)\n",
            "  warnings.warn(f'for {key}: copying from a non-meta parameter in the checkpoint to a meta '\n",
            "/opt/conda/envs/llava1.5env/lib/python3.8/site-packages/torch/nn/modules/module.py:2025: UserWarning: for vision_model.encoder.layers.8.mlp.fc1.weight: copying from a non-meta parameter in the checkpoint to a meta parameter in the current model, which is a no-op. (Did you mean to pass `assign=True` to assign items in the state dictionary to their corresponding key in the module instead of copying them in place?)\n",
            "  warnings.warn(f'for {key}: copying from a non-meta parameter in the checkpoint to a meta '\n",
            "/opt/conda/envs/llava1.5env/lib/python3.8/site-packages/torch/nn/modules/module.py:2025: UserWarning: for vision_model.encoder.layers.8.mlp.fc1.bias: copying from a non-meta parameter in the checkpoint to a meta parameter in the current model, which is a no-op. (Did you mean to pass `assign=True` to assign items in the state dictionary to their corresponding key in the module instead of copying them in place?)\n",
            "  warnings.warn(f'for {key}: copying from a non-meta parameter in the checkpoint to a meta '\n",
            "/opt/conda/envs/llava1.5env/lib/python3.8/site-packages/torch/nn/modules/module.py:2025: UserWarning: for vision_model.encoder.layers.8.mlp.fc2.weight: copying from a non-meta parameter in the checkpoint to a meta parameter in the current model, which is a no-op. (Did you mean to pass `assign=True` to assign items in the state dictionary to their corresponding key in the module instead of copying them in place?)\n",
            "  warnings.warn(f'for {key}: copying from a non-meta parameter in the checkpoint to a meta '\n",
            "/opt/conda/envs/llava1.5env/lib/python3.8/site-packages/torch/nn/modules/module.py:2025: UserWarning: for vision_model.encoder.layers.8.mlp.fc2.bias: copying from a non-meta parameter in the checkpoint to a meta parameter in the current model, which is a no-op. (Did you mean to pass `assign=True` to assign items in the state dictionary to their corresponding key in the module instead of copying them in place?)\n",
            "  warnings.warn(f'for {key}: copying from a non-meta parameter in the checkpoint to a meta '\n",
            "/opt/conda/envs/llava1.5env/lib/python3.8/site-packages/torch/nn/modules/module.py:2025: UserWarning: for vision_model.encoder.layers.8.layer_norm2.weight: copying from a non-meta parameter in the checkpoint to a meta parameter in the current model, which is a no-op. (Did you mean to pass `assign=True` to assign items in the state dictionary to their corresponding key in the module instead of copying them in place?)\n",
            "  warnings.warn(f'for {key}: copying from a non-meta parameter in the checkpoint to a meta '\n",
            "/opt/conda/envs/llava1.5env/lib/python3.8/site-packages/torch/nn/modules/module.py:2025: UserWarning: for vision_model.encoder.layers.8.layer_norm2.bias: copying from a non-meta parameter in the checkpoint to a meta parameter in the current model, which is a no-op. (Did you mean to pass `assign=True` to assign items in the state dictionary to their corresponding key in the module instead of copying them in place?)\n",
            "  warnings.warn(f'for {key}: copying from a non-meta parameter in the checkpoint to a meta '\n",
            "/opt/conda/envs/llava1.5env/lib/python3.8/site-packages/torch/nn/modules/module.py:2025: UserWarning: for vision_model.encoder.layers.9.self_attn.k_proj.weight: copying from a non-meta parameter in the checkpoint to a meta parameter in the current model, which is a no-op. (Did you mean to pass `assign=True` to assign items in the state dictionary to their corresponding key in the module instead of copying them in place?)\n",
            "  warnings.warn(f'for {key}: copying from a non-meta parameter in the checkpoint to a meta '\n",
            "/opt/conda/envs/llava1.5env/lib/python3.8/site-packages/torch/nn/modules/module.py:2025: UserWarning: for vision_model.encoder.layers.9.self_attn.k_proj.bias: copying from a non-meta parameter in the checkpoint to a meta parameter in the current model, which is a no-op. (Did you mean to pass `assign=True` to assign items in the state dictionary to their corresponding key in the module instead of copying them in place?)\n",
            "  warnings.warn(f'for {key}: copying from a non-meta parameter in the checkpoint to a meta '\n",
            "/opt/conda/envs/llava1.5env/lib/python3.8/site-packages/torch/nn/modules/module.py:2025: UserWarning: for vision_model.encoder.layers.9.self_attn.v_proj.weight: copying from a non-meta parameter in the checkpoint to a meta parameter in the current model, which is a no-op. (Did you mean to pass `assign=True` to assign items in the state dictionary to their corresponding key in the module instead of copying them in place?)\n",
            "  warnings.warn(f'for {key}: copying from a non-meta parameter in the checkpoint to a meta '\n",
            "/opt/conda/envs/llava1.5env/lib/python3.8/site-packages/torch/nn/modules/module.py:2025: UserWarning: for vision_model.encoder.layers.9.self_attn.v_proj.bias: copying from a non-meta parameter in the checkpoint to a meta parameter in the current model, which is a no-op. (Did you mean to pass `assign=True` to assign items in the state dictionary to their corresponding key in the module instead of copying them in place?)\n",
            "  warnings.warn(f'for {key}: copying from a non-meta parameter in the checkpoint to a meta '\n",
            "/opt/conda/envs/llava1.5env/lib/python3.8/site-packages/torch/nn/modules/module.py:2025: UserWarning: for vision_model.encoder.layers.9.self_attn.q_proj.weight: copying from a non-meta parameter in the checkpoint to a meta parameter in the current model, which is a no-op. (Did you mean to pass `assign=True` to assign items in the state dictionary to their corresponding key in the module instead of copying them in place?)\n",
            "  warnings.warn(f'for {key}: copying from a non-meta parameter in the checkpoint to a meta '\n",
            "/opt/conda/envs/llava1.5env/lib/python3.8/site-packages/torch/nn/modules/module.py:2025: UserWarning: for vision_model.encoder.layers.9.self_attn.q_proj.bias: copying from a non-meta parameter in the checkpoint to a meta parameter in the current model, which is a no-op. (Did you mean to pass `assign=True` to assign items in the state dictionary to their corresponding key in the module instead of copying them in place?)\n",
            "  warnings.warn(f'for {key}: copying from a non-meta parameter in the checkpoint to a meta '\n",
            "/opt/conda/envs/llava1.5env/lib/python3.8/site-packages/torch/nn/modules/module.py:2025: UserWarning: for vision_model.encoder.layers.9.self_attn.out_proj.weight: copying from a non-meta parameter in the checkpoint to a meta parameter in the current model, which is a no-op. (Did you mean to pass `assign=True` to assign items in the state dictionary to their corresponding key in the module instead of copying them in place?)\n",
            "  warnings.warn(f'for {key}: copying from a non-meta parameter in the checkpoint to a meta '\n",
            "/opt/conda/envs/llava1.5env/lib/python3.8/site-packages/torch/nn/modules/module.py:2025: UserWarning: for vision_model.encoder.layers.9.self_attn.out_proj.bias: copying from a non-meta parameter in the checkpoint to a meta parameter in the current model, which is a no-op. (Did you mean to pass `assign=True` to assign items in the state dictionary to their corresponding key in the module instead of copying them in place?)\n",
            "  warnings.warn(f'for {key}: copying from a non-meta parameter in the checkpoint to a meta '\n",
            "/opt/conda/envs/llava1.5env/lib/python3.8/site-packages/torch/nn/modules/module.py:2025: UserWarning: for vision_model.encoder.layers.9.layer_norm1.weight: copying from a non-meta parameter in the checkpoint to a meta parameter in the current model, which is a no-op. (Did you mean to pass `assign=True` to assign items in the state dictionary to their corresponding key in the module instead of copying them in place?)\n",
            "  warnings.warn(f'for {key}: copying from a non-meta parameter in the checkpoint to a meta '\n",
            "/opt/conda/envs/llava1.5env/lib/python3.8/site-packages/torch/nn/modules/module.py:2025: UserWarning: for vision_model.encoder.layers.9.layer_norm1.bias: copying from a non-meta parameter in the checkpoint to a meta parameter in the current model, which is a no-op. (Did you mean to pass `assign=True` to assign items in the state dictionary to their corresponding key in the module instead of copying them in place?)\n",
            "  warnings.warn(f'for {key}: copying from a non-meta parameter in the checkpoint to a meta '\n",
            "/opt/conda/envs/llava1.5env/lib/python3.8/site-packages/torch/nn/modules/module.py:2025: UserWarning: for vision_model.encoder.layers.9.mlp.fc1.weight: copying from a non-meta parameter in the checkpoint to a meta parameter in the current model, which is a no-op. (Did you mean to pass `assign=True` to assign items in the state dictionary to their corresponding key in the module instead of copying them in place?)\n",
            "  warnings.warn(f'for {key}: copying from a non-meta parameter in the checkpoint to a meta '\n",
            "/opt/conda/envs/llava1.5env/lib/python3.8/site-packages/torch/nn/modules/module.py:2025: UserWarning: for vision_model.encoder.layers.9.mlp.fc1.bias: copying from a non-meta parameter in the checkpoint to a meta parameter in the current model, which is a no-op. (Did you mean to pass `assign=True` to assign items in the state dictionary to their corresponding key in the module instead of copying them in place?)\n",
            "  warnings.warn(f'for {key}: copying from a non-meta parameter in the checkpoint to a meta '\n",
            "/opt/conda/envs/llava1.5env/lib/python3.8/site-packages/torch/nn/modules/module.py:2025: UserWarning: for vision_model.encoder.layers.9.mlp.fc2.weight: copying from a non-meta parameter in the checkpoint to a meta parameter in the current model, which is a no-op. (Did you mean to pass `assign=True` to assign items in the state dictionary to their corresponding key in the module instead of copying them in place?)\n",
            "  warnings.warn(f'for {key}: copying from a non-meta parameter in the checkpoint to a meta '\n",
            "/opt/conda/envs/llava1.5env/lib/python3.8/site-packages/torch/nn/modules/module.py:2025: UserWarning: for vision_model.encoder.layers.9.mlp.fc2.bias: copying from a non-meta parameter in the checkpoint to a meta parameter in the current model, which is a no-op. (Did you mean to pass `assign=True` to assign items in the state dictionary to their corresponding key in the module instead of copying them in place?)\n",
            "  warnings.warn(f'for {key}: copying from a non-meta parameter in the checkpoint to a meta '\n",
            "/opt/conda/envs/llava1.5env/lib/python3.8/site-packages/torch/nn/modules/module.py:2025: UserWarning: for vision_model.encoder.layers.9.layer_norm2.weight: copying from a non-meta parameter in the checkpoint to a meta parameter in the current model, which is a no-op. (Did you mean to pass `assign=True` to assign items in the state dictionary to their corresponding key in the module instead of copying them in place?)\n",
            "  warnings.warn(f'for {key}: copying from a non-meta parameter in the checkpoint to a meta '\n",
            "/opt/conda/envs/llava1.5env/lib/python3.8/site-packages/torch/nn/modules/module.py:2025: UserWarning: for vision_model.encoder.layers.9.layer_norm2.bias: copying from a non-meta parameter in the checkpoint to a meta parameter in the current model, which is a no-op. (Did you mean to pass `assign=True` to assign items in the state dictionary to their corresponding key in the module instead of copying them in place?)\n",
            "  warnings.warn(f'for {key}: copying from a non-meta parameter in the checkpoint to a meta '\n",
            "/opt/conda/envs/llava1.5env/lib/python3.8/site-packages/torch/nn/modules/module.py:2025: UserWarning: for vision_model.encoder.layers.10.self_attn.k_proj.weight: copying from a non-meta parameter in the checkpoint to a meta parameter in the current model, which is a no-op. (Did you mean to pass `assign=True` to assign items in the state dictionary to their corresponding key in the module instead of copying them in place?)\n",
            "  warnings.warn(f'for {key}: copying from a non-meta parameter in the checkpoint to a meta '\n",
            "/opt/conda/envs/llava1.5env/lib/python3.8/site-packages/torch/nn/modules/module.py:2025: UserWarning: for vision_model.encoder.layers.10.self_attn.k_proj.bias: copying from a non-meta parameter in the checkpoint to a meta parameter in the current model, which is a no-op. (Did you mean to pass `assign=True` to assign items in the state dictionary to their corresponding key in the module instead of copying them in place?)\n",
            "  warnings.warn(f'for {key}: copying from a non-meta parameter in the checkpoint to a meta '\n",
            "/opt/conda/envs/llava1.5env/lib/python3.8/site-packages/torch/nn/modules/module.py:2025: UserWarning: for vision_model.encoder.layers.10.self_attn.v_proj.weight: copying from a non-meta parameter in the checkpoint to a meta parameter in the current model, which is a no-op. (Did you mean to pass `assign=True` to assign items in the state dictionary to their corresponding key in the module instead of copying them in place?)\n",
            "  warnings.warn(f'for {key}: copying from a non-meta parameter in the checkpoint to a meta '\n",
            "/opt/conda/envs/llava1.5env/lib/python3.8/site-packages/torch/nn/modules/module.py:2025: UserWarning: for vision_model.encoder.layers.10.self_attn.v_proj.bias: copying from a non-meta parameter in the checkpoint to a meta parameter in the current model, which is a no-op. (Did you mean to pass `assign=True` to assign items in the state dictionary to their corresponding key in the module instead of copying them in place?)\n",
            "  warnings.warn(f'for {key}: copying from a non-meta parameter in the checkpoint to a meta '\n",
            "/opt/conda/envs/llava1.5env/lib/python3.8/site-packages/torch/nn/modules/module.py:2025: UserWarning: for vision_model.encoder.layers.10.self_attn.q_proj.weight: copying from a non-meta parameter in the checkpoint to a meta parameter in the current model, which is a no-op. (Did you mean to pass `assign=True` to assign items in the state dictionary to their corresponding key in the module instead of copying them in place?)\n",
            "  warnings.warn(f'for {key}: copying from a non-meta parameter in the checkpoint to a meta '\n",
            "/opt/conda/envs/llava1.5env/lib/python3.8/site-packages/torch/nn/modules/module.py:2025: UserWarning: for vision_model.encoder.layers.10.self_attn.q_proj.bias: copying from a non-meta parameter in the checkpoint to a meta parameter in the current model, which is a no-op. (Did you mean to pass `assign=True` to assign items in the state dictionary to their corresponding key in the module instead of copying them in place?)\n",
            "  warnings.warn(f'for {key}: copying from a non-meta parameter in the checkpoint to a meta '\n",
            "/opt/conda/envs/llava1.5env/lib/python3.8/site-packages/torch/nn/modules/module.py:2025: UserWarning: for vision_model.encoder.layers.10.self_attn.out_proj.weight: copying from a non-meta parameter in the checkpoint to a meta parameter in the current model, which is a no-op. (Did you mean to pass `assign=True` to assign items in the state dictionary to their corresponding key in the module instead of copying them in place?)\n",
            "  warnings.warn(f'for {key}: copying from a non-meta parameter in the checkpoint to a meta '\n",
            "/opt/conda/envs/llava1.5env/lib/python3.8/site-packages/torch/nn/modules/module.py:2025: UserWarning: for vision_model.encoder.layers.10.self_attn.out_proj.bias: copying from a non-meta parameter in the checkpoint to a meta parameter in the current model, which is a no-op. (Did you mean to pass `assign=True` to assign items in the state dictionary to their corresponding key in the module instead of copying them in place?)\n",
            "  warnings.warn(f'for {key}: copying from a non-meta parameter in the checkpoint to a meta '\n",
            "/opt/conda/envs/llava1.5env/lib/python3.8/site-packages/torch/nn/modules/module.py:2025: UserWarning: for vision_model.encoder.layers.10.layer_norm1.weight: copying from a non-meta parameter in the checkpoint to a meta parameter in the current model, which is a no-op. (Did you mean to pass `assign=True` to assign items in the state dictionary to their corresponding key in the module instead of copying them in place?)\n",
            "  warnings.warn(f'for {key}: copying from a non-meta parameter in the checkpoint to a meta '\n",
            "/opt/conda/envs/llava1.5env/lib/python3.8/site-packages/torch/nn/modules/module.py:2025: UserWarning: for vision_model.encoder.layers.10.layer_norm1.bias: copying from a non-meta parameter in the checkpoint to a meta parameter in the current model, which is a no-op. (Did you mean to pass `assign=True` to assign items in the state dictionary to their corresponding key in the module instead of copying them in place?)\n",
            "  warnings.warn(f'for {key}: copying from a non-meta parameter in the checkpoint to a meta '\n",
            "/opt/conda/envs/llava1.5env/lib/python3.8/site-packages/torch/nn/modules/module.py:2025: UserWarning: for vision_model.encoder.layers.10.mlp.fc1.weight: copying from a non-meta parameter in the checkpoint to a meta parameter in the current model, which is a no-op. (Did you mean to pass `assign=True` to assign items in the state dictionary to their corresponding key in the module instead of copying them in place?)\n",
            "  warnings.warn(f'for {key}: copying from a non-meta parameter in the checkpoint to a meta '\n",
            "/opt/conda/envs/llava1.5env/lib/python3.8/site-packages/torch/nn/modules/module.py:2025: UserWarning: for vision_model.encoder.layers.10.mlp.fc1.bias: copying from a non-meta parameter in the checkpoint to a meta parameter in the current model, which is a no-op. (Did you mean to pass `assign=True` to assign items in the state dictionary to their corresponding key in the module instead of copying them in place?)\n",
            "  warnings.warn(f'for {key}: copying from a non-meta parameter in the checkpoint to a meta '\n",
            "/opt/conda/envs/llava1.5env/lib/python3.8/site-packages/torch/nn/modules/module.py:2025: UserWarning: for vision_model.encoder.layers.10.mlp.fc2.weight: copying from a non-meta parameter in the checkpoint to a meta parameter in the current model, which is a no-op. (Did you mean to pass `assign=True` to assign items in the state dictionary to their corresponding key in the module instead of copying them in place?)\n",
            "  warnings.warn(f'for {key}: copying from a non-meta parameter in the checkpoint to a meta '\n",
            "/opt/conda/envs/llava1.5env/lib/python3.8/site-packages/torch/nn/modules/module.py:2025: UserWarning: for vision_model.encoder.layers.10.mlp.fc2.bias: copying from a non-meta parameter in the checkpoint to a meta parameter in the current model, which is a no-op. (Did you mean to pass `assign=True` to assign items in the state dictionary to their corresponding key in the module instead of copying them in place?)\n",
            "  warnings.warn(f'for {key}: copying from a non-meta parameter in the checkpoint to a meta '\n",
            "/opt/conda/envs/llava1.5env/lib/python3.8/site-packages/torch/nn/modules/module.py:2025: UserWarning: for vision_model.encoder.layers.10.layer_norm2.weight: copying from a non-meta parameter in the checkpoint to a meta parameter in the current model, which is a no-op. (Did you mean to pass `assign=True` to assign items in the state dictionary to their corresponding key in the module instead of copying them in place?)\n",
            "  warnings.warn(f'for {key}: copying from a non-meta parameter in the checkpoint to a meta '\n",
            "/opt/conda/envs/llava1.5env/lib/python3.8/site-packages/torch/nn/modules/module.py:2025: UserWarning: for vision_model.encoder.layers.10.layer_norm2.bias: copying from a non-meta parameter in the checkpoint to a meta parameter in the current model, which is a no-op. (Did you mean to pass `assign=True` to assign items in the state dictionary to their corresponding key in the module instead of copying them in place?)\n",
            "  warnings.warn(f'for {key}: copying from a non-meta parameter in the checkpoint to a meta '\n",
            "/opt/conda/envs/llava1.5env/lib/python3.8/site-packages/torch/nn/modules/module.py:2025: UserWarning: for vision_model.encoder.layers.11.self_attn.k_proj.weight: copying from a non-meta parameter in the checkpoint to a meta parameter in the current model, which is a no-op. (Did you mean to pass `assign=True` to assign items in the state dictionary to their corresponding key in the module instead of copying them in place?)\n",
            "  warnings.warn(f'for {key}: copying from a non-meta parameter in the checkpoint to a meta '\n",
            "/opt/conda/envs/llava1.5env/lib/python3.8/site-packages/torch/nn/modules/module.py:2025: UserWarning: for vision_model.encoder.layers.11.self_attn.k_proj.bias: copying from a non-meta parameter in the checkpoint to a meta parameter in the current model, which is a no-op. (Did you mean to pass `assign=True` to assign items in the state dictionary to their corresponding key in the module instead of copying them in place?)\n",
            "  warnings.warn(f'for {key}: copying from a non-meta parameter in the checkpoint to a meta '\n",
            "/opt/conda/envs/llava1.5env/lib/python3.8/site-packages/torch/nn/modules/module.py:2025: UserWarning: for vision_model.encoder.layers.11.self_attn.v_proj.weight: copying from a non-meta parameter in the checkpoint to a meta parameter in the current model, which is a no-op. (Did you mean to pass `assign=True` to assign items in the state dictionary to their corresponding key in the module instead of copying them in place?)\n",
            "  warnings.warn(f'for {key}: copying from a non-meta parameter in the checkpoint to a meta '\n",
            "/opt/conda/envs/llava1.5env/lib/python3.8/site-packages/torch/nn/modules/module.py:2025: UserWarning: for vision_model.encoder.layers.11.self_attn.v_proj.bias: copying from a non-meta parameter in the checkpoint to a meta parameter in the current model, which is a no-op. (Did you mean to pass `assign=True` to assign items in the state dictionary to their corresponding key in the module instead of copying them in place?)\n",
            "  warnings.warn(f'for {key}: copying from a non-meta parameter in the checkpoint to a meta '\n",
            "/opt/conda/envs/llava1.5env/lib/python3.8/site-packages/torch/nn/modules/module.py:2025: UserWarning: for vision_model.encoder.layers.11.self_attn.q_proj.weight: copying from a non-meta parameter in the checkpoint to a meta parameter in the current model, which is a no-op. (Did you mean to pass `assign=True` to assign items in the state dictionary to their corresponding key in the module instead of copying them in place?)\n",
            "  warnings.warn(f'for {key}: copying from a non-meta parameter in the checkpoint to a meta '\n",
            "/opt/conda/envs/llava1.5env/lib/python3.8/site-packages/torch/nn/modules/module.py:2025: UserWarning: for vision_model.encoder.layers.11.self_attn.q_proj.bias: copying from a non-meta parameter in the checkpoint to a meta parameter in the current model, which is a no-op. (Did you mean to pass `assign=True` to assign items in the state dictionary to their corresponding key in the module instead of copying them in place?)\n",
            "  warnings.warn(f'for {key}: copying from a non-meta parameter in the checkpoint to a meta '\n",
            "/opt/conda/envs/llava1.5env/lib/python3.8/site-packages/torch/nn/modules/module.py:2025: UserWarning: for vision_model.encoder.layers.11.self_attn.out_proj.weight: copying from a non-meta parameter in the checkpoint to a meta parameter in the current model, which is a no-op. (Did you mean to pass `assign=True` to assign items in the state dictionary to their corresponding key in the module instead of copying them in place?)\n",
            "  warnings.warn(f'for {key}: copying from a non-meta parameter in the checkpoint to a meta '\n",
            "/opt/conda/envs/llava1.5env/lib/python3.8/site-packages/torch/nn/modules/module.py:2025: UserWarning: for vision_model.encoder.layers.11.self_attn.out_proj.bias: copying from a non-meta parameter in the checkpoint to a meta parameter in the current model, which is a no-op. (Did you mean to pass `assign=True` to assign items in the state dictionary to their corresponding key in the module instead of copying them in place?)\n",
            "  warnings.warn(f'for {key}: copying from a non-meta parameter in the checkpoint to a meta '\n",
            "/opt/conda/envs/llava1.5env/lib/python3.8/site-packages/torch/nn/modules/module.py:2025: UserWarning: for vision_model.encoder.layers.11.layer_norm1.weight: copying from a non-meta parameter in the checkpoint to a meta parameter in the current model, which is a no-op. (Did you mean to pass `assign=True` to assign items in the state dictionary to their corresponding key in the module instead of copying them in place?)\n",
            "  warnings.warn(f'for {key}: copying from a non-meta parameter in the checkpoint to a meta '\n",
            "/opt/conda/envs/llava1.5env/lib/python3.8/site-packages/torch/nn/modules/module.py:2025: UserWarning: for vision_model.encoder.layers.11.layer_norm1.bias: copying from a non-meta parameter in the checkpoint to a meta parameter in the current model, which is a no-op. (Did you mean to pass `assign=True` to assign items in the state dictionary to their corresponding key in the module instead of copying them in place?)\n",
            "  warnings.warn(f'for {key}: copying from a non-meta parameter in the checkpoint to a meta '\n",
            "/opt/conda/envs/llava1.5env/lib/python3.8/site-packages/torch/nn/modules/module.py:2025: UserWarning: for vision_model.encoder.layers.11.mlp.fc1.weight: copying from a non-meta parameter in the checkpoint to a meta parameter in the current model, which is a no-op. (Did you mean to pass `assign=True` to assign items in the state dictionary to their corresponding key in the module instead of copying them in place?)\n",
            "  warnings.warn(f'for {key}: copying from a non-meta parameter in the checkpoint to a meta '\n",
            "/opt/conda/envs/llava1.5env/lib/python3.8/site-packages/torch/nn/modules/module.py:2025: UserWarning: for vision_model.encoder.layers.11.mlp.fc1.bias: copying from a non-meta parameter in the checkpoint to a meta parameter in the current model, which is a no-op. (Did you mean to pass `assign=True` to assign items in the state dictionary to their corresponding key in the module instead of copying them in place?)\n",
            "  warnings.warn(f'for {key}: copying from a non-meta parameter in the checkpoint to a meta '\n",
            "/opt/conda/envs/llava1.5env/lib/python3.8/site-packages/torch/nn/modules/module.py:2025: UserWarning: for vision_model.encoder.layers.11.mlp.fc2.weight: copying from a non-meta parameter in the checkpoint to a meta parameter in the current model, which is a no-op. (Did you mean to pass `assign=True` to assign items in the state dictionary to their corresponding key in the module instead of copying them in place?)\n",
            "  warnings.warn(f'for {key}: copying from a non-meta parameter in the checkpoint to a meta '\n",
            "/opt/conda/envs/llava1.5env/lib/python3.8/site-packages/torch/nn/modules/module.py:2025: UserWarning: for vision_model.encoder.layers.11.mlp.fc2.bias: copying from a non-meta parameter in the checkpoint to a meta parameter in the current model, which is a no-op. (Did you mean to pass `assign=True` to assign items in the state dictionary to their corresponding key in the module instead of copying them in place?)\n",
            "  warnings.warn(f'for {key}: copying from a non-meta parameter in the checkpoint to a meta '\n",
            "/opt/conda/envs/llava1.5env/lib/python3.8/site-packages/torch/nn/modules/module.py:2025: UserWarning: for vision_model.encoder.layers.11.layer_norm2.weight: copying from a non-meta parameter in the checkpoint to a meta parameter in the current model, which is a no-op. (Did you mean to pass `assign=True` to assign items in the state dictionary to their corresponding key in the module instead of copying them in place?)\n",
            "  warnings.warn(f'for {key}: copying from a non-meta parameter in the checkpoint to a meta '\n",
            "/opt/conda/envs/llava1.5env/lib/python3.8/site-packages/torch/nn/modules/module.py:2025: UserWarning: for vision_model.encoder.layers.11.layer_norm2.bias: copying from a non-meta parameter in the checkpoint to a meta parameter in the current model, which is a no-op. (Did you mean to pass `assign=True` to assign items in the state dictionary to their corresponding key in the module instead of copying them in place?)\n",
            "  warnings.warn(f'for {key}: copying from a non-meta parameter in the checkpoint to a meta '\n",
            "/opt/conda/envs/llava1.5env/lib/python3.8/site-packages/torch/nn/modules/module.py:2025: UserWarning: for vision_model.encoder.layers.12.self_attn.k_proj.weight: copying from a non-meta parameter in the checkpoint to a meta parameter in the current model, which is a no-op. (Did you mean to pass `assign=True` to assign items in the state dictionary to their corresponding key in the module instead of copying them in place?)\n",
            "  warnings.warn(f'for {key}: copying from a non-meta parameter in the checkpoint to a meta '\n",
            "/opt/conda/envs/llava1.5env/lib/python3.8/site-packages/torch/nn/modules/module.py:2025: UserWarning: for vision_model.encoder.layers.12.self_attn.k_proj.bias: copying from a non-meta parameter in the checkpoint to a meta parameter in the current model, which is a no-op. (Did you mean to pass `assign=True` to assign items in the state dictionary to their corresponding key in the module instead of copying them in place?)\n",
            "  warnings.warn(f'for {key}: copying from a non-meta parameter in the checkpoint to a meta '\n",
            "/opt/conda/envs/llava1.5env/lib/python3.8/site-packages/torch/nn/modules/module.py:2025: UserWarning: for vision_model.encoder.layers.12.self_attn.v_proj.weight: copying from a non-meta parameter in the checkpoint to a meta parameter in the current model, which is a no-op. (Did you mean to pass `assign=True` to assign items in the state dictionary to their corresponding key in the module instead of copying them in place?)\n",
            "  warnings.warn(f'for {key}: copying from a non-meta parameter in the checkpoint to a meta '\n",
            "/opt/conda/envs/llava1.5env/lib/python3.8/site-packages/torch/nn/modules/module.py:2025: UserWarning: for vision_model.encoder.layers.12.self_attn.v_proj.bias: copying from a non-meta parameter in the checkpoint to a meta parameter in the current model, which is a no-op. (Did you mean to pass `assign=True` to assign items in the state dictionary to their corresponding key in the module instead of copying them in place?)\n",
            "  warnings.warn(f'for {key}: copying from a non-meta parameter in the checkpoint to a meta '\n",
            "/opt/conda/envs/llava1.5env/lib/python3.8/site-packages/torch/nn/modules/module.py:2025: UserWarning: for vision_model.encoder.layers.12.self_attn.q_proj.weight: copying from a non-meta parameter in the checkpoint to a meta parameter in the current model, which is a no-op. (Did you mean to pass `assign=True` to assign items in the state dictionary to their corresponding key in the module instead of copying them in place?)\n",
            "  warnings.warn(f'for {key}: copying from a non-meta parameter in the checkpoint to a meta '\n",
            "/opt/conda/envs/llava1.5env/lib/python3.8/site-packages/torch/nn/modules/module.py:2025: UserWarning: for vision_model.encoder.layers.12.self_attn.q_proj.bias: copying from a non-meta parameter in the checkpoint to a meta parameter in the current model, which is a no-op. (Did you mean to pass `assign=True` to assign items in the state dictionary to their corresponding key in the module instead of copying them in place?)\n",
            "  warnings.warn(f'for {key}: copying from a non-meta parameter in the checkpoint to a meta '\n",
            "/opt/conda/envs/llava1.5env/lib/python3.8/site-packages/torch/nn/modules/module.py:2025: UserWarning: for vision_model.encoder.layers.12.self_attn.out_proj.weight: copying from a non-meta parameter in the checkpoint to a meta parameter in the current model, which is a no-op. (Did you mean to pass `assign=True` to assign items in the state dictionary to their corresponding key in the module instead of copying them in place?)\n",
            "  warnings.warn(f'for {key}: copying from a non-meta parameter in the checkpoint to a meta '\n",
            "/opt/conda/envs/llava1.5env/lib/python3.8/site-packages/torch/nn/modules/module.py:2025: UserWarning: for vision_model.encoder.layers.12.self_attn.out_proj.bias: copying from a non-meta parameter in the checkpoint to a meta parameter in the current model, which is a no-op. (Did you mean to pass `assign=True` to assign items in the state dictionary to their corresponding key in the module instead of copying them in place?)\n",
            "  warnings.warn(f'for {key}: copying from a non-meta parameter in the checkpoint to a meta '\n",
            "/opt/conda/envs/llava1.5env/lib/python3.8/site-packages/torch/nn/modules/module.py:2025: UserWarning: for vision_model.encoder.layers.12.layer_norm1.weight: copying from a non-meta parameter in the checkpoint to a meta parameter in the current model, which is a no-op. (Did you mean to pass `assign=True` to assign items in the state dictionary to their corresponding key in the module instead of copying them in place?)\n",
            "  warnings.warn(f'for {key}: copying from a non-meta parameter in the checkpoint to a meta '\n",
            "/opt/conda/envs/llava1.5env/lib/python3.8/site-packages/torch/nn/modules/module.py:2025: UserWarning: for vision_model.encoder.layers.12.layer_norm1.bias: copying from a non-meta parameter in the checkpoint to a meta parameter in the current model, which is a no-op. (Did you mean to pass `assign=True` to assign items in the state dictionary to their corresponding key in the module instead of copying them in place?)\n",
            "  warnings.warn(f'for {key}: copying from a non-meta parameter in the checkpoint to a meta '\n",
            "/opt/conda/envs/llava1.5env/lib/python3.8/site-packages/torch/nn/modules/module.py:2025: UserWarning: for vision_model.encoder.layers.12.mlp.fc1.weight: copying from a non-meta parameter in the checkpoint to a meta parameter in the current model, which is a no-op. (Did you mean to pass `assign=True` to assign items in the state dictionary to their corresponding key in the module instead of copying them in place?)\n",
            "  warnings.warn(f'for {key}: copying from a non-meta parameter in the checkpoint to a meta '\n",
            "/opt/conda/envs/llava1.5env/lib/python3.8/site-packages/torch/nn/modules/module.py:2025: UserWarning: for vision_model.encoder.layers.12.mlp.fc1.bias: copying from a non-meta parameter in the checkpoint to a meta parameter in the current model, which is a no-op. (Did you mean to pass `assign=True` to assign items in the state dictionary to their corresponding key in the module instead of copying them in place?)\n",
            "  warnings.warn(f'for {key}: copying from a non-meta parameter in the checkpoint to a meta '\n",
            "/opt/conda/envs/llava1.5env/lib/python3.8/site-packages/torch/nn/modules/module.py:2025: UserWarning: for vision_model.encoder.layers.12.mlp.fc2.weight: copying from a non-meta parameter in the checkpoint to a meta parameter in the current model, which is a no-op. (Did you mean to pass `assign=True` to assign items in the state dictionary to their corresponding key in the module instead of copying them in place?)\n",
            "  warnings.warn(f'for {key}: copying from a non-meta parameter in the checkpoint to a meta '\n",
            "/opt/conda/envs/llava1.5env/lib/python3.8/site-packages/torch/nn/modules/module.py:2025: UserWarning: for vision_model.encoder.layers.12.mlp.fc2.bias: copying from a non-meta parameter in the checkpoint to a meta parameter in the current model, which is a no-op. (Did you mean to pass `assign=True` to assign items in the state dictionary to their corresponding key in the module instead of copying them in place?)\n",
            "  warnings.warn(f'for {key}: copying from a non-meta parameter in the checkpoint to a meta '\n",
            "/opt/conda/envs/llava1.5env/lib/python3.8/site-packages/torch/nn/modules/module.py:2025: UserWarning: for vision_model.encoder.layers.12.layer_norm2.weight: copying from a non-meta parameter in the checkpoint to a meta parameter in the current model, which is a no-op. (Did you mean to pass `assign=True` to assign items in the state dictionary to their corresponding key in the module instead of copying them in place?)\n",
            "  warnings.warn(f'for {key}: copying from a non-meta parameter in the checkpoint to a meta '\n",
            "/opt/conda/envs/llava1.5env/lib/python3.8/site-packages/torch/nn/modules/module.py:2025: UserWarning: for vision_model.encoder.layers.12.layer_norm2.bias: copying from a non-meta parameter in the checkpoint to a meta parameter in the current model, which is a no-op. (Did you mean to pass `assign=True` to assign items in the state dictionary to their corresponding key in the module instead of copying them in place?)\n",
            "  warnings.warn(f'for {key}: copying from a non-meta parameter in the checkpoint to a meta '\n",
            "/opt/conda/envs/llava1.5env/lib/python3.8/site-packages/torch/nn/modules/module.py:2025: UserWarning: for vision_model.encoder.layers.13.self_attn.k_proj.weight: copying from a non-meta parameter in the checkpoint to a meta parameter in the current model, which is a no-op. (Did you mean to pass `assign=True` to assign items in the state dictionary to their corresponding key in the module instead of copying them in place?)\n",
            "  warnings.warn(f'for {key}: copying from a non-meta parameter in the checkpoint to a meta '\n",
            "/opt/conda/envs/llava1.5env/lib/python3.8/site-packages/torch/nn/modules/module.py:2025: UserWarning: for vision_model.encoder.layers.13.self_attn.k_proj.bias: copying from a non-meta parameter in the checkpoint to a meta parameter in the current model, which is a no-op. (Did you mean to pass `assign=True` to assign items in the state dictionary to their corresponding key in the module instead of copying them in place?)\n",
            "  warnings.warn(f'for {key}: copying from a non-meta parameter in the checkpoint to a meta '\n",
            "/opt/conda/envs/llava1.5env/lib/python3.8/site-packages/torch/nn/modules/module.py:2025: UserWarning: for vision_model.encoder.layers.13.self_attn.v_proj.weight: copying from a non-meta parameter in the checkpoint to a meta parameter in the current model, which is a no-op. (Did you mean to pass `assign=True` to assign items in the state dictionary to their corresponding key in the module instead of copying them in place?)\n",
            "  warnings.warn(f'for {key}: copying from a non-meta parameter in the checkpoint to a meta '\n",
            "/opt/conda/envs/llava1.5env/lib/python3.8/site-packages/torch/nn/modules/module.py:2025: UserWarning: for vision_model.encoder.layers.13.self_attn.v_proj.bias: copying from a non-meta parameter in the checkpoint to a meta parameter in the current model, which is a no-op. (Did you mean to pass `assign=True` to assign items in the state dictionary to their corresponding key in the module instead of copying them in place?)\n",
            "  warnings.warn(f'for {key}: copying from a non-meta parameter in the checkpoint to a meta '\n",
            "/opt/conda/envs/llava1.5env/lib/python3.8/site-packages/torch/nn/modules/module.py:2025: UserWarning: for vision_model.encoder.layers.13.self_attn.q_proj.weight: copying from a non-meta parameter in the checkpoint to a meta parameter in the current model, which is a no-op. (Did you mean to pass `assign=True` to assign items in the state dictionary to their corresponding key in the module instead of copying them in place?)\n",
            "  warnings.warn(f'for {key}: copying from a non-meta parameter in the checkpoint to a meta '\n",
            "/opt/conda/envs/llava1.5env/lib/python3.8/site-packages/torch/nn/modules/module.py:2025: UserWarning: for vision_model.encoder.layers.13.self_attn.q_proj.bias: copying from a non-meta parameter in the checkpoint to a meta parameter in the current model, which is a no-op. (Did you mean to pass `assign=True` to assign items in the state dictionary to their corresponding key in the module instead of copying them in place?)\n",
            "  warnings.warn(f'for {key}: copying from a non-meta parameter in the checkpoint to a meta '\n",
            "/opt/conda/envs/llava1.5env/lib/python3.8/site-packages/torch/nn/modules/module.py:2025: UserWarning: for vision_model.encoder.layers.13.self_attn.out_proj.weight: copying from a non-meta parameter in the checkpoint to a meta parameter in the current model, which is a no-op. (Did you mean to pass `assign=True` to assign items in the state dictionary to their corresponding key in the module instead of copying them in place?)\n",
            "  warnings.warn(f'for {key}: copying from a non-meta parameter in the checkpoint to a meta '\n",
            "/opt/conda/envs/llava1.5env/lib/python3.8/site-packages/torch/nn/modules/module.py:2025: UserWarning: for vision_model.encoder.layers.13.self_attn.out_proj.bias: copying from a non-meta parameter in the checkpoint to a meta parameter in the current model, which is a no-op. (Did you mean to pass `assign=True` to assign items in the state dictionary to their corresponding key in the module instead of copying them in place?)\n",
            "  warnings.warn(f'for {key}: copying from a non-meta parameter in the checkpoint to a meta '\n",
            "/opt/conda/envs/llava1.5env/lib/python3.8/site-packages/torch/nn/modules/module.py:2025: UserWarning: for vision_model.encoder.layers.13.layer_norm1.weight: copying from a non-meta parameter in the checkpoint to a meta parameter in the current model, which is a no-op. (Did you mean to pass `assign=True` to assign items in the state dictionary to their corresponding key in the module instead of copying them in place?)\n",
            "  warnings.warn(f'for {key}: copying from a non-meta parameter in the checkpoint to a meta '\n",
            "/opt/conda/envs/llava1.5env/lib/python3.8/site-packages/torch/nn/modules/module.py:2025: UserWarning: for vision_model.encoder.layers.13.layer_norm1.bias: copying from a non-meta parameter in the checkpoint to a meta parameter in the current model, which is a no-op. (Did you mean to pass `assign=True` to assign items in the state dictionary to their corresponding key in the module instead of copying them in place?)\n",
            "  warnings.warn(f'for {key}: copying from a non-meta parameter in the checkpoint to a meta '\n",
            "/opt/conda/envs/llava1.5env/lib/python3.8/site-packages/torch/nn/modules/module.py:2025: UserWarning: for vision_model.encoder.layers.13.mlp.fc1.weight: copying from a non-meta parameter in the checkpoint to a meta parameter in the current model, which is a no-op. (Did you mean to pass `assign=True` to assign items in the state dictionary to their corresponding key in the module instead of copying them in place?)\n",
            "  warnings.warn(f'for {key}: copying from a non-meta parameter in the checkpoint to a meta '\n",
            "/opt/conda/envs/llava1.5env/lib/python3.8/site-packages/torch/nn/modules/module.py:2025: UserWarning: for vision_model.encoder.layers.13.mlp.fc1.bias: copying from a non-meta parameter in the checkpoint to a meta parameter in the current model, which is a no-op. (Did you mean to pass `assign=True` to assign items in the state dictionary to their corresponding key in the module instead of copying them in place?)\n",
            "  warnings.warn(f'for {key}: copying from a non-meta parameter in the checkpoint to a meta '\n",
            "/opt/conda/envs/llava1.5env/lib/python3.8/site-packages/torch/nn/modules/module.py:2025: UserWarning: for vision_model.encoder.layers.13.mlp.fc2.weight: copying from a non-meta parameter in the checkpoint to a meta parameter in the current model, which is a no-op. (Did you mean to pass `assign=True` to assign items in the state dictionary to their corresponding key in the module instead of copying them in place?)\n",
            "  warnings.warn(f'for {key}: copying from a non-meta parameter in the checkpoint to a meta '\n",
            "/opt/conda/envs/llava1.5env/lib/python3.8/site-packages/torch/nn/modules/module.py:2025: UserWarning: for vision_model.encoder.layers.13.mlp.fc2.bias: copying from a non-meta parameter in the checkpoint to a meta parameter in the current model, which is a no-op. (Did you mean to pass `assign=True` to assign items in the state dictionary to their corresponding key in the module instead of copying them in place?)\n",
            "  warnings.warn(f'for {key}: copying from a non-meta parameter in the checkpoint to a meta '\n",
            "/opt/conda/envs/llava1.5env/lib/python3.8/site-packages/torch/nn/modules/module.py:2025: UserWarning: for vision_model.encoder.layers.13.layer_norm2.weight: copying from a non-meta parameter in the checkpoint to a meta parameter in the current model, which is a no-op. (Did you mean to pass `assign=True` to assign items in the state dictionary to their corresponding key in the module instead of copying them in place?)\n",
            "  warnings.warn(f'for {key}: copying from a non-meta parameter in the checkpoint to a meta '\n",
            "/opt/conda/envs/llava1.5env/lib/python3.8/site-packages/torch/nn/modules/module.py:2025: UserWarning: for vision_model.encoder.layers.13.layer_norm2.bias: copying from a non-meta parameter in the checkpoint to a meta parameter in the current model, which is a no-op. (Did you mean to pass `assign=True` to assign items in the state dictionary to their corresponding key in the module instead of copying them in place?)\n",
            "  warnings.warn(f'for {key}: copying from a non-meta parameter in the checkpoint to a meta '\n",
            "/opt/conda/envs/llava1.5env/lib/python3.8/site-packages/torch/nn/modules/module.py:2025: UserWarning: for vision_model.encoder.layers.14.self_attn.k_proj.weight: copying from a non-meta parameter in the checkpoint to a meta parameter in the current model, which is a no-op. (Did you mean to pass `assign=True` to assign items in the state dictionary to their corresponding key in the module instead of copying them in place?)\n",
            "  warnings.warn(f'for {key}: copying from a non-meta parameter in the checkpoint to a meta '\n",
            "/opt/conda/envs/llava1.5env/lib/python3.8/site-packages/torch/nn/modules/module.py:2025: UserWarning: for vision_model.encoder.layers.14.self_attn.k_proj.bias: copying from a non-meta parameter in the checkpoint to a meta parameter in the current model, which is a no-op. (Did you mean to pass `assign=True` to assign items in the state dictionary to their corresponding key in the module instead of copying them in place?)\n",
            "  warnings.warn(f'for {key}: copying from a non-meta parameter in the checkpoint to a meta '\n",
            "/opt/conda/envs/llava1.5env/lib/python3.8/site-packages/torch/nn/modules/module.py:2025: UserWarning: for vision_model.encoder.layers.14.self_attn.v_proj.weight: copying from a non-meta parameter in the checkpoint to a meta parameter in the current model, which is a no-op. (Did you mean to pass `assign=True` to assign items in the state dictionary to their corresponding key in the module instead of copying them in place?)\n",
            "  warnings.warn(f'for {key}: copying from a non-meta parameter in the checkpoint to a meta '\n",
            "/opt/conda/envs/llava1.5env/lib/python3.8/site-packages/torch/nn/modules/module.py:2025: UserWarning: for vision_model.encoder.layers.14.self_attn.v_proj.bias: copying from a non-meta parameter in the checkpoint to a meta parameter in the current model, which is a no-op. (Did you mean to pass `assign=True` to assign items in the state dictionary to their corresponding key in the module instead of copying them in place?)\n",
            "  warnings.warn(f'for {key}: copying from a non-meta parameter in the checkpoint to a meta '\n",
            "/opt/conda/envs/llava1.5env/lib/python3.8/site-packages/torch/nn/modules/module.py:2025: UserWarning: for vision_model.encoder.layers.14.self_attn.q_proj.weight: copying from a non-meta parameter in the checkpoint to a meta parameter in the current model, which is a no-op. (Did you mean to pass `assign=True` to assign items in the state dictionary to their corresponding key in the module instead of copying them in place?)\n",
            "  warnings.warn(f'for {key}: copying from a non-meta parameter in the checkpoint to a meta '\n",
            "/opt/conda/envs/llava1.5env/lib/python3.8/site-packages/torch/nn/modules/module.py:2025: UserWarning: for vision_model.encoder.layers.14.self_attn.q_proj.bias: copying from a non-meta parameter in the checkpoint to a meta parameter in the current model, which is a no-op. (Did you mean to pass `assign=True` to assign items in the state dictionary to their corresponding key in the module instead of copying them in place?)\n",
            "  warnings.warn(f'for {key}: copying from a non-meta parameter in the checkpoint to a meta '\n",
            "/opt/conda/envs/llava1.5env/lib/python3.8/site-packages/torch/nn/modules/module.py:2025: UserWarning: for vision_model.encoder.layers.14.self_attn.out_proj.weight: copying from a non-meta parameter in the checkpoint to a meta parameter in the current model, which is a no-op. (Did you mean to pass `assign=True` to assign items in the state dictionary to their corresponding key in the module instead of copying them in place?)\n",
            "  warnings.warn(f'for {key}: copying from a non-meta parameter in the checkpoint to a meta '\n",
            "/opt/conda/envs/llava1.5env/lib/python3.8/site-packages/torch/nn/modules/module.py:2025: UserWarning: for vision_model.encoder.layers.14.self_attn.out_proj.bias: copying from a non-meta parameter in the checkpoint to a meta parameter in the current model, which is a no-op. (Did you mean to pass `assign=True` to assign items in the state dictionary to their corresponding key in the module instead of copying them in place?)\n",
            "  warnings.warn(f'for {key}: copying from a non-meta parameter in the checkpoint to a meta '\n",
            "/opt/conda/envs/llava1.5env/lib/python3.8/site-packages/torch/nn/modules/module.py:2025: UserWarning: for vision_model.encoder.layers.14.layer_norm1.weight: copying from a non-meta parameter in the checkpoint to a meta parameter in the current model, which is a no-op. (Did you mean to pass `assign=True` to assign items in the state dictionary to their corresponding key in the module instead of copying them in place?)\n",
            "  warnings.warn(f'for {key}: copying from a non-meta parameter in the checkpoint to a meta '\n",
            "/opt/conda/envs/llava1.5env/lib/python3.8/site-packages/torch/nn/modules/module.py:2025: UserWarning: for vision_model.encoder.layers.14.layer_norm1.bias: copying from a non-meta parameter in the checkpoint to a meta parameter in the current model, which is a no-op. (Did you mean to pass `assign=True` to assign items in the state dictionary to their corresponding key in the module instead of copying them in place?)\n",
            "  warnings.warn(f'for {key}: copying from a non-meta parameter in the checkpoint to a meta '\n",
            "/opt/conda/envs/llava1.5env/lib/python3.8/site-packages/torch/nn/modules/module.py:2025: UserWarning: for vision_model.encoder.layers.14.mlp.fc1.weight: copying from a non-meta parameter in the checkpoint to a meta parameter in the current model, which is a no-op. (Did you mean to pass `assign=True` to assign items in the state dictionary to their corresponding key in the module instead of copying them in place?)\n",
            "  warnings.warn(f'for {key}: copying from a non-meta parameter in the checkpoint to a meta '\n",
            "/opt/conda/envs/llava1.5env/lib/python3.8/site-packages/torch/nn/modules/module.py:2025: UserWarning: for vision_model.encoder.layers.14.mlp.fc1.bias: copying from a non-meta parameter in the checkpoint to a meta parameter in the current model, which is a no-op. (Did you mean to pass `assign=True` to assign items in the state dictionary to their corresponding key in the module instead of copying them in place?)\n",
            "  warnings.warn(f'for {key}: copying from a non-meta parameter in the checkpoint to a meta '\n",
            "/opt/conda/envs/llava1.5env/lib/python3.8/site-packages/torch/nn/modules/module.py:2025: UserWarning: for vision_model.encoder.layers.14.mlp.fc2.weight: copying from a non-meta parameter in the checkpoint to a meta parameter in the current model, which is a no-op. (Did you mean to pass `assign=True` to assign items in the state dictionary to their corresponding key in the module instead of copying them in place?)\n",
            "  warnings.warn(f'for {key}: copying from a non-meta parameter in the checkpoint to a meta '\n",
            "/opt/conda/envs/llava1.5env/lib/python3.8/site-packages/torch/nn/modules/module.py:2025: UserWarning: for vision_model.encoder.layers.14.mlp.fc2.bias: copying from a non-meta parameter in the checkpoint to a meta parameter in the current model, which is a no-op. (Did you mean to pass `assign=True` to assign items in the state dictionary to their corresponding key in the module instead of copying them in place?)\n",
            "  warnings.warn(f'for {key}: copying from a non-meta parameter in the checkpoint to a meta '\n",
            "/opt/conda/envs/llava1.5env/lib/python3.8/site-packages/torch/nn/modules/module.py:2025: UserWarning: for vision_model.encoder.layers.14.layer_norm2.weight: copying from a non-meta parameter in the checkpoint to a meta parameter in the current model, which is a no-op. (Did you mean to pass `assign=True` to assign items in the state dictionary to their corresponding key in the module instead of copying them in place?)\n",
            "  warnings.warn(f'for {key}: copying from a non-meta parameter in the checkpoint to a meta '\n",
            "/opt/conda/envs/llava1.5env/lib/python3.8/site-packages/torch/nn/modules/module.py:2025: UserWarning: for vision_model.encoder.layers.14.layer_norm2.bias: copying from a non-meta parameter in the checkpoint to a meta parameter in the current model, which is a no-op. (Did you mean to pass `assign=True` to assign items in the state dictionary to their corresponding key in the module instead of copying them in place?)\n",
            "  warnings.warn(f'for {key}: copying from a non-meta parameter in the checkpoint to a meta '\n",
            "/opt/conda/envs/llava1.5env/lib/python3.8/site-packages/torch/nn/modules/module.py:2025: UserWarning: for vision_model.encoder.layers.15.self_attn.k_proj.weight: copying from a non-meta parameter in the checkpoint to a meta parameter in the current model, which is a no-op. (Did you mean to pass `assign=True` to assign items in the state dictionary to their corresponding key in the module instead of copying them in place?)\n",
            "  warnings.warn(f'for {key}: copying from a non-meta parameter in the checkpoint to a meta '\n",
            "/opt/conda/envs/llava1.5env/lib/python3.8/site-packages/torch/nn/modules/module.py:2025: UserWarning: for vision_model.encoder.layers.15.self_attn.k_proj.bias: copying from a non-meta parameter in the checkpoint to a meta parameter in the current model, which is a no-op. (Did you mean to pass `assign=True` to assign items in the state dictionary to their corresponding key in the module instead of copying them in place?)\n",
            "  warnings.warn(f'for {key}: copying from a non-meta parameter in the checkpoint to a meta '\n",
            "/opt/conda/envs/llava1.5env/lib/python3.8/site-packages/torch/nn/modules/module.py:2025: UserWarning: for vision_model.encoder.layers.15.self_attn.v_proj.weight: copying from a non-meta parameter in the checkpoint to a meta parameter in the current model, which is a no-op. (Did you mean to pass `assign=True` to assign items in the state dictionary to their corresponding key in the module instead of copying them in place?)\n",
            "  warnings.warn(f'for {key}: copying from a non-meta parameter in the checkpoint to a meta '\n",
            "/opt/conda/envs/llava1.5env/lib/python3.8/site-packages/torch/nn/modules/module.py:2025: UserWarning: for vision_model.encoder.layers.15.self_attn.v_proj.bias: copying from a non-meta parameter in the checkpoint to a meta parameter in the current model, which is a no-op. (Did you mean to pass `assign=True` to assign items in the state dictionary to their corresponding key in the module instead of copying them in place?)\n",
            "  warnings.warn(f'for {key}: copying from a non-meta parameter in the checkpoint to a meta '\n",
            "/opt/conda/envs/llava1.5env/lib/python3.8/site-packages/torch/nn/modules/module.py:2025: UserWarning: for vision_model.encoder.layers.15.self_attn.q_proj.weight: copying from a non-meta parameter in the checkpoint to a meta parameter in the current model, which is a no-op. (Did you mean to pass `assign=True` to assign items in the state dictionary to their corresponding key in the module instead of copying them in place?)\n",
            "  warnings.warn(f'for {key}: copying from a non-meta parameter in the checkpoint to a meta '\n",
            "/opt/conda/envs/llava1.5env/lib/python3.8/site-packages/torch/nn/modules/module.py:2025: UserWarning: for vision_model.encoder.layers.15.self_attn.q_proj.bias: copying from a non-meta parameter in the checkpoint to a meta parameter in the current model, which is a no-op. (Did you mean to pass `assign=True` to assign items in the state dictionary to their corresponding key in the module instead of copying them in place?)\n",
            "  warnings.warn(f'for {key}: copying from a non-meta parameter in the checkpoint to a meta '\n",
            "/opt/conda/envs/llava1.5env/lib/python3.8/site-packages/torch/nn/modules/module.py:2025: UserWarning: for vision_model.encoder.layers.15.self_attn.out_proj.weight: copying from a non-meta parameter in the checkpoint to a meta parameter in the current model, which is a no-op. (Did you mean to pass `assign=True` to assign items in the state dictionary to their corresponding key in the module instead of copying them in place?)\n",
            "  warnings.warn(f'for {key}: copying from a non-meta parameter in the checkpoint to a meta '\n",
            "/opt/conda/envs/llava1.5env/lib/python3.8/site-packages/torch/nn/modules/module.py:2025: UserWarning: for vision_model.encoder.layers.15.self_attn.out_proj.bias: copying from a non-meta parameter in the checkpoint to a meta parameter in the current model, which is a no-op. (Did you mean to pass `assign=True` to assign items in the state dictionary to their corresponding key in the module instead of copying them in place?)\n",
            "  warnings.warn(f'for {key}: copying from a non-meta parameter in the checkpoint to a meta '\n",
            "/opt/conda/envs/llava1.5env/lib/python3.8/site-packages/torch/nn/modules/module.py:2025: UserWarning: for vision_model.encoder.layers.15.layer_norm1.weight: copying from a non-meta parameter in the checkpoint to a meta parameter in the current model, which is a no-op. (Did you mean to pass `assign=True` to assign items in the state dictionary to their corresponding key in the module instead of copying them in place?)\n",
            "  warnings.warn(f'for {key}: copying from a non-meta parameter in the checkpoint to a meta '\n",
            "/opt/conda/envs/llava1.5env/lib/python3.8/site-packages/torch/nn/modules/module.py:2025: UserWarning: for vision_model.encoder.layers.15.layer_norm1.bias: copying from a non-meta parameter in the checkpoint to a meta parameter in the current model, which is a no-op. (Did you mean to pass `assign=True` to assign items in the state dictionary to their corresponding key in the module instead of copying them in place?)\n",
            "  warnings.warn(f'for {key}: copying from a non-meta parameter in the checkpoint to a meta '\n",
            "/opt/conda/envs/llava1.5env/lib/python3.8/site-packages/torch/nn/modules/module.py:2025: UserWarning: for vision_model.encoder.layers.15.mlp.fc1.weight: copying from a non-meta parameter in the checkpoint to a meta parameter in the current model, which is a no-op. (Did you mean to pass `assign=True` to assign items in the state dictionary to their corresponding key in the module instead of copying them in place?)\n",
            "  warnings.warn(f'for {key}: copying from a non-meta parameter in the checkpoint to a meta '\n",
            "/opt/conda/envs/llava1.5env/lib/python3.8/site-packages/torch/nn/modules/module.py:2025: UserWarning: for vision_model.encoder.layers.15.mlp.fc1.bias: copying from a non-meta parameter in the checkpoint to a meta parameter in the current model, which is a no-op. (Did you mean to pass `assign=True` to assign items in the state dictionary to their corresponding key in the module instead of copying them in place?)\n",
            "  warnings.warn(f'for {key}: copying from a non-meta parameter in the checkpoint to a meta '\n",
            "/opt/conda/envs/llava1.5env/lib/python3.8/site-packages/torch/nn/modules/module.py:2025: UserWarning: for vision_model.encoder.layers.15.mlp.fc2.weight: copying from a non-meta parameter in the checkpoint to a meta parameter in the current model, which is a no-op. (Did you mean to pass `assign=True` to assign items in the state dictionary to their corresponding key in the module instead of copying them in place?)\n",
            "  warnings.warn(f'for {key}: copying from a non-meta parameter in the checkpoint to a meta '\n",
            "/opt/conda/envs/llava1.5env/lib/python3.8/site-packages/torch/nn/modules/module.py:2025: UserWarning: for vision_model.encoder.layers.15.mlp.fc2.bias: copying from a non-meta parameter in the checkpoint to a meta parameter in the current model, which is a no-op. (Did you mean to pass `assign=True` to assign items in the state dictionary to their corresponding key in the module instead of copying them in place?)\n",
            "  warnings.warn(f'for {key}: copying from a non-meta parameter in the checkpoint to a meta '\n",
            "/opt/conda/envs/llava1.5env/lib/python3.8/site-packages/torch/nn/modules/module.py:2025: UserWarning: for vision_model.encoder.layers.15.layer_norm2.weight: copying from a non-meta parameter in the checkpoint to a meta parameter in the current model, which is a no-op. (Did you mean to pass `assign=True` to assign items in the state dictionary to their corresponding key in the module instead of copying them in place?)\n",
            "  warnings.warn(f'for {key}: copying from a non-meta parameter in the checkpoint to a meta '\n",
            "/opt/conda/envs/llava1.5env/lib/python3.8/site-packages/torch/nn/modules/module.py:2025: UserWarning: for vision_model.encoder.layers.15.layer_norm2.bias: copying from a non-meta parameter in the checkpoint to a meta parameter in the current model, which is a no-op. (Did you mean to pass `assign=True` to assign items in the state dictionary to their corresponding key in the module instead of copying them in place?)\n",
            "  warnings.warn(f'for {key}: copying from a non-meta parameter in the checkpoint to a meta '\n",
            "/opt/conda/envs/llava1.5env/lib/python3.8/site-packages/torch/nn/modules/module.py:2025: UserWarning: for vision_model.encoder.layers.16.self_attn.k_proj.weight: copying from a non-meta parameter in the checkpoint to a meta parameter in the current model, which is a no-op. (Did you mean to pass `assign=True` to assign items in the state dictionary to their corresponding key in the module instead of copying them in place?)\n",
            "  warnings.warn(f'for {key}: copying from a non-meta parameter in the checkpoint to a meta '\n",
            "/opt/conda/envs/llava1.5env/lib/python3.8/site-packages/torch/nn/modules/module.py:2025: UserWarning: for vision_model.encoder.layers.16.self_attn.k_proj.bias: copying from a non-meta parameter in the checkpoint to a meta parameter in the current model, which is a no-op. (Did you mean to pass `assign=True` to assign items in the state dictionary to their corresponding key in the module instead of copying them in place?)\n",
            "  warnings.warn(f'for {key}: copying from a non-meta parameter in the checkpoint to a meta '\n",
            "/opt/conda/envs/llava1.5env/lib/python3.8/site-packages/torch/nn/modules/module.py:2025: UserWarning: for vision_model.encoder.layers.16.self_attn.v_proj.weight: copying from a non-meta parameter in the checkpoint to a meta parameter in the current model, which is a no-op. (Did you mean to pass `assign=True` to assign items in the state dictionary to their corresponding key in the module instead of copying them in place?)\n",
            "  warnings.warn(f'for {key}: copying from a non-meta parameter in the checkpoint to a meta '\n",
            "/opt/conda/envs/llava1.5env/lib/python3.8/site-packages/torch/nn/modules/module.py:2025: UserWarning: for vision_model.encoder.layers.16.self_attn.v_proj.bias: copying from a non-meta parameter in the checkpoint to a meta parameter in the current model, which is a no-op. (Did you mean to pass `assign=True` to assign items in the state dictionary to their corresponding key in the module instead of copying them in place?)\n",
            "  warnings.warn(f'for {key}: copying from a non-meta parameter in the checkpoint to a meta '\n",
            "/opt/conda/envs/llava1.5env/lib/python3.8/site-packages/torch/nn/modules/module.py:2025: UserWarning: for vision_model.encoder.layers.16.self_attn.q_proj.weight: copying from a non-meta parameter in the checkpoint to a meta parameter in the current model, which is a no-op. (Did you mean to pass `assign=True` to assign items in the state dictionary to their corresponding key in the module instead of copying them in place?)\n",
            "  warnings.warn(f'for {key}: copying from a non-meta parameter in the checkpoint to a meta '\n",
            "/opt/conda/envs/llava1.5env/lib/python3.8/site-packages/torch/nn/modules/module.py:2025: UserWarning: for vision_model.encoder.layers.16.self_attn.q_proj.bias: copying from a non-meta parameter in the checkpoint to a meta parameter in the current model, which is a no-op. (Did you mean to pass `assign=True` to assign items in the state dictionary to their corresponding key in the module instead of copying them in place?)\n",
            "  warnings.warn(f'for {key}: copying from a non-meta parameter in the checkpoint to a meta '\n",
            "/opt/conda/envs/llava1.5env/lib/python3.8/site-packages/torch/nn/modules/module.py:2025: UserWarning: for vision_model.encoder.layers.16.self_attn.out_proj.weight: copying from a non-meta parameter in the checkpoint to a meta parameter in the current model, which is a no-op. (Did you mean to pass `assign=True` to assign items in the state dictionary to their corresponding key in the module instead of copying them in place?)\n",
            "  warnings.warn(f'for {key}: copying from a non-meta parameter in the checkpoint to a meta '\n",
            "/opt/conda/envs/llava1.5env/lib/python3.8/site-packages/torch/nn/modules/module.py:2025: UserWarning: for vision_model.encoder.layers.16.self_attn.out_proj.bias: copying from a non-meta parameter in the checkpoint to a meta parameter in the current model, which is a no-op. (Did you mean to pass `assign=True` to assign items in the state dictionary to their corresponding key in the module instead of copying them in place?)\n",
            "  warnings.warn(f'for {key}: copying from a non-meta parameter in the checkpoint to a meta '\n",
            "/opt/conda/envs/llava1.5env/lib/python3.8/site-packages/torch/nn/modules/module.py:2025: UserWarning: for vision_model.encoder.layers.16.layer_norm1.weight: copying from a non-meta parameter in the checkpoint to a meta parameter in the current model, which is a no-op. (Did you mean to pass `assign=True` to assign items in the state dictionary to their corresponding key in the module instead of copying them in place?)\n",
            "  warnings.warn(f'for {key}: copying from a non-meta parameter in the checkpoint to a meta '\n",
            "/opt/conda/envs/llava1.5env/lib/python3.8/site-packages/torch/nn/modules/module.py:2025: UserWarning: for vision_model.encoder.layers.16.layer_norm1.bias: copying from a non-meta parameter in the checkpoint to a meta parameter in the current model, which is a no-op. (Did you mean to pass `assign=True` to assign items in the state dictionary to their corresponding key in the module instead of copying them in place?)\n",
            "  warnings.warn(f'for {key}: copying from a non-meta parameter in the checkpoint to a meta '\n",
            "/opt/conda/envs/llava1.5env/lib/python3.8/site-packages/torch/nn/modules/module.py:2025: UserWarning: for vision_model.encoder.layers.16.mlp.fc1.weight: copying from a non-meta parameter in the checkpoint to a meta parameter in the current model, which is a no-op. (Did you mean to pass `assign=True` to assign items in the state dictionary to their corresponding key in the module instead of copying them in place?)\n",
            "  warnings.warn(f'for {key}: copying from a non-meta parameter in the checkpoint to a meta '\n",
            "/opt/conda/envs/llava1.5env/lib/python3.8/site-packages/torch/nn/modules/module.py:2025: UserWarning: for vision_model.encoder.layers.16.mlp.fc1.bias: copying from a non-meta parameter in the checkpoint to a meta parameter in the current model, which is a no-op. (Did you mean to pass `assign=True` to assign items in the state dictionary to their corresponding key in the module instead of copying them in place?)\n",
            "  warnings.warn(f'for {key}: copying from a non-meta parameter in the checkpoint to a meta '\n",
            "/opt/conda/envs/llava1.5env/lib/python3.8/site-packages/torch/nn/modules/module.py:2025: UserWarning: for vision_model.encoder.layers.16.mlp.fc2.weight: copying from a non-meta parameter in the checkpoint to a meta parameter in the current model, which is a no-op. (Did you mean to pass `assign=True` to assign items in the state dictionary to their corresponding key in the module instead of copying them in place?)\n",
            "  warnings.warn(f'for {key}: copying from a non-meta parameter in the checkpoint to a meta '\n",
            "/opt/conda/envs/llava1.5env/lib/python3.8/site-packages/torch/nn/modules/module.py:2025: UserWarning: for vision_model.encoder.layers.16.mlp.fc2.bias: copying from a non-meta parameter in the checkpoint to a meta parameter in the current model, which is a no-op. (Did you mean to pass `assign=True` to assign items in the state dictionary to their corresponding key in the module instead of copying them in place?)\n",
            "  warnings.warn(f'for {key}: copying from a non-meta parameter in the checkpoint to a meta '\n",
            "/opt/conda/envs/llava1.5env/lib/python3.8/site-packages/torch/nn/modules/module.py:2025: UserWarning: for vision_model.encoder.layers.16.layer_norm2.weight: copying from a non-meta parameter in the checkpoint to a meta parameter in the current model, which is a no-op. (Did you mean to pass `assign=True` to assign items in the state dictionary to their corresponding key in the module instead of copying them in place?)\n",
            "  warnings.warn(f'for {key}: copying from a non-meta parameter in the checkpoint to a meta '\n",
            "/opt/conda/envs/llava1.5env/lib/python3.8/site-packages/torch/nn/modules/module.py:2025: UserWarning: for vision_model.encoder.layers.16.layer_norm2.bias: copying from a non-meta parameter in the checkpoint to a meta parameter in the current model, which is a no-op. (Did you mean to pass `assign=True` to assign items in the state dictionary to their corresponding key in the module instead of copying them in place?)\n",
            "  warnings.warn(f'for {key}: copying from a non-meta parameter in the checkpoint to a meta '\n",
            "/opt/conda/envs/llava1.5env/lib/python3.8/site-packages/torch/nn/modules/module.py:2025: UserWarning: for vision_model.encoder.layers.17.self_attn.k_proj.weight: copying from a non-meta parameter in the checkpoint to a meta parameter in the current model, which is a no-op. (Did you mean to pass `assign=True` to assign items in the state dictionary to their corresponding key in the module instead of copying them in place?)\n",
            "  warnings.warn(f'for {key}: copying from a non-meta parameter in the checkpoint to a meta '\n",
            "/opt/conda/envs/llava1.5env/lib/python3.8/site-packages/torch/nn/modules/module.py:2025: UserWarning: for vision_model.encoder.layers.17.self_attn.k_proj.bias: copying from a non-meta parameter in the checkpoint to a meta parameter in the current model, which is a no-op. (Did you mean to pass `assign=True` to assign items in the state dictionary to their corresponding key in the module instead of copying them in place?)\n",
            "  warnings.warn(f'for {key}: copying from a non-meta parameter in the checkpoint to a meta '\n",
            "/opt/conda/envs/llava1.5env/lib/python3.8/site-packages/torch/nn/modules/module.py:2025: UserWarning: for vision_model.encoder.layers.17.self_attn.v_proj.weight: copying from a non-meta parameter in the checkpoint to a meta parameter in the current model, which is a no-op. (Did you mean to pass `assign=True` to assign items in the state dictionary to their corresponding key in the module instead of copying them in place?)\n",
            "  warnings.warn(f'for {key}: copying from a non-meta parameter in the checkpoint to a meta '\n",
            "/opt/conda/envs/llava1.5env/lib/python3.8/site-packages/torch/nn/modules/module.py:2025: UserWarning: for vision_model.encoder.layers.17.self_attn.v_proj.bias: copying from a non-meta parameter in the checkpoint to a meta parameter in the current model, which is a no-op. (Did you mean to pass `assign=True` to assign items in the state dictionary to their corresponding key in the module instead of copying them in place?)\n",
            "  warnings.warn(f'for {key}: copying from a non-meta parameter in the checkpoint to a meta '\n",
            "/opt/conda/envs/llava1.5env/lib/python3.8/site-packages/torch/nn/modules/module.py:2025: UserWarning: for vision_model.encoder.layers.17.self_attn.q_proj.weight: copying from a non-meta parameter in the checkpoint to a meta parameter in the current model, which is a no-op. (Did you mean to pass `assign=True` to assign items in the state dictionary to their corresponding key in the module instead of copying them in place?)\n",
            "  warnings.warn(f'for {key}: copying from a non-meta parameter in the checkpoint to a meta '\n",
            "/opt/conda/envs/llava1.5env/lib/python3.8/site-packages/torch/nn/modules/module.py:2025: UserWarning: for vision_model.encoder.layers.17.self_attn.q_proj.bias: copying from a non-meta parameter in the checkpoint to a meta parameter in the current model, which is a no-op. (Did you mean to pass `assign=True` to assign items in the state dictionary to their corresponding key in the module instead of copying them in place?)\n",
            "  warnings.warn(f'for {key}: copying from a non-meta parameter in the checkpoint to a meta '\n",
            "/opt/conda/envs/llava1.5env/lib/python3.8/site-packages/torch/nn/modules/module.py:2025: UserWarning: for vision_model.encoder.layers.17.self_attn.out_proj.weight: copying from a non-meta parameter in the checkpoint to a meta parameter in the current model, which is a no-op. (Did you mean to pass `assign=True` to assign items in the state dictionary to their corresponding key in the module instead of copying them in place?)\n",
            "  warnings.warn(f'for {key}: copying from a non-meta parameter in the checkpoint to a meta '\n",
            "/opt/conda/envs/llava1.5env/lib/python3.8/site-packages/torch/nn/modules/module.py:2025: UserWarning: for vision_model.encoder.layers.17.self_attn.out_proj.bias: copying from a non-meta parameter in the checkpoint to a meta parameter in the current model, which is a no-op. (Did you mean to pass `assign=True` to assign items in the state dictionary to their corresponding key in the module instead of copying them in place?)\n",
            "  warnings.warn(f'for {key}: copying from a non-meta parameter in the checkpoint to a meta '\n",
            "/opt/conda/envs/llava1.5env/lib/python3.8/site-packages/torch/nn/modules/module.py:2025: UserWarning: for vision_model.encoder.layers.17.layer_norm1.weight: copying from a non-meta parameter in the checkpoint to a meta parameter in the current model, which is a no-op. (Did you mean to pass `assign=True` to assign items in the state dictionary to their corresponding key in the module instead of copying them in place?)\n",
            "  warnings.warn(f'for {key}: copying from a non-meta parameter in the checkpoint to a meta '\n",
            "/opt/conda/envs/llava1.5env/lib/python3.8/site-packages/torch/nn/modules/module.py:2025: UserWarning: for vision_model.encoder.layers.17.layer_norm1.bias: copying from a non-meta parameter in the checkpoint to a meta parameter in the current model, which is a no-op. (Did you mean to pass `assign=True` to assign items in the state dictionary to their corresponding key in the module instead of copying them in place?)\n",
            "  warnings.warn(f'for {key}: copying from a non-meta parameter in the checkpoint to a meta '\n",
            "/opt/conda/envs/llava1.5env/lib/python3.8/site-packages/torch/nn/modules/module.py:2025: UserWarning: for vision_model.encoder.layers.17.mlp.fc1.weight: copying from a non-meta parameter in the checkpoint to a meta parameter in the current model, which is a no-op. (Did you mean to pass `assign=True` to assign items in the state dictionary to their corresponding key in the module instead of copying them in place?)\n",
            "  warnings.warn(f'for {key}: copying from a non-meta parameter in the checkpoint to a meta '\n",
            "/opt/conda/envs/llava1.5env/lib/python3.8/site-packages/torch/nn/modules/module.py:2025: UserWarning: for vision_model.encoder.layers.17.mlp.fc1.bias: copying from a non-meta parameter in the checkpoint to a meta parameter in the current model, which is a no-op. (Did you mean to pass `assign=True` to assign items in the state dictionary to their corresponding key in the module instead of copying them in place?)\n",
            "  warnings.warn(f'for {key}: copying from a non-meta parameter in the checkpoint to a meta '\n",
            "/opt/conda/envs/llava1.5env/lib/python3.8/site-packages/torch/nn/modules/module.py:2025: UserWarning: for vision_model.encoder.layers.17.mlp.fc2.weight: copying from a non-meta parameter in the checkpoint to a meta parameter in the current model, which is a no-op. (Did you mean to pass `assign=True` to assign items in the state dictionary to their corresponding key in the module instead of copying them in place?)\n",
            "  warnings.warn(f'for {key}: copying from a non-meta parameter in the checkpoint to a meta '\n",
            "/opt/conda/envs/llava1.5env/lib/python3.8/site-packages/torch/nn/modules/module.py:2025: UserWarning: for vision_model.encoder.layers.17.mlp.fc2.bias: copying from a non-meta parameter in the checkpoint to a meta parameter in the current model, which is a no-op. (Did you mean to pass `assign=True` to assign items in the state dictionary to their corresponding key in the module instead of copying them in place?)\n",
            "  warnings.warn(f'for {key}: copying from a non-meta parameter in the checkpoint to a meta '\n",
            "/opt/conda/envs/llava1.5env/lib/python3.8/site-packages/torch/nn/modules/module.py:2025: UserWarning: for vision_model.encoder.layers.17.layer_norm2.weight: copying from a non-meta parameter in the checkpoint to a meta parameter in the current model, which is a no-op. (Did you mean to pass `assign=True` to assign items in the state dictionary to their corresponding key in the module instead of copying them in place?)\n",
            "  warnings.warn(f'for {key}: copying from a non-meta parameter in the checkpoint to a meta '\n",
            "/opt/conda/envs/llava1.5env/lib/python3.8/site-packages/torch/nn/modules/module.py:2025: UserWarning: for vision_model.encoder.layers.17.layer_norm2.bias: copying from a non-meta parameter in the checkpoint to a meta parameter in the current model, which is a no-op. (Did you mean to pass `assign=True` to assign items in the state dictionary to their corresponding key in the module instead of copying them in place?)\n",
            "  warnings.warn(f'for {key}: copying from a non-meta parameter in the checkpoint to a meta '\n",
            "/opt/conda/envs/llava1.5env/lib/python3.8/site-packages/torch/nn/modules/module.py:2025: UserWarning: for vision_model.encoder.layers.18.self_attn.k_proj.weight: copying from a non-meta parameter in the checkpoint to a meta parameter in the current model, which is a no-op. (Did you mean to pass `assign=True` to assign items in the state dictionary to their corresponding key in the module instead of copying them in place?)\n",
            "  warnings.warn(f'for {key}: copying from a non-meta parameter in the checkpoint to a meta '\n",
            "/opt/conda/envs/llava1.5env/lib/python3.8/site-packages/torch/nn/modules/module.py:2025: UserWarning: for vision_model.encoder.layers.18.self_attn.k_proj.bias: copying from a non-meta parameter in the checkpoint to a meta parameter in the current model, which is a no-op. (Did you mean to pass `assign=True` to assign items in the state dictionary to their corresponding key in the module instead of copying them in place?)\n",
            "  warnings.warn(f'for {key}: copying from a non-meta parameter in the checkpoint to a meta '\n",
            "/opt/conda/envs/llava1.5env/lib/python3.8/site-packages/torch/nn/modules/module.py:2025: UserWarning: for vision_model.encoder.layers.18.self_attn.v_proj.weight: copying from a non-meta parameter in the checkpoint to a meta parameter in the current model, which is a no-op. (Did you mean to pass `assign=True` to assign items in the state dictionary to their corresponding key in the module instead of copying them in place?)\n",
            "  warnings.warn(f'for {key}: copying from a non-meta parameter in the checkpoint to a meta '\n",
            "/opt/conda/envs/llava1.5env/lib/python3.8/site-packages/torch/nn/modules/module.py:2025: UserWarning: for vision_model.encoder.layers.18.self_attn.v_proj.bias: copying from a non-meta parameter in the checkpoint to a meta parameter in the current model, which is a no-op. (Did you mean to pass `assign=True` to assign items in the state dictionary to their corresponding key in the module instead of copying them in place?)\n",
            "  warnings.warn(f'for {key}: copying from a non-meta parameter in the checkpoint to a meta '\n",
            "/opt/conda/envs/llava1.5env/lib/python3.8/site-packages/torch/nn/modules/module.py:2025: UserWarning: for vision_model.encoder.layers.18.self_attn.q_proj.weight: copying from a non-meta parameter in the checkpoint to a meta parameter in the current model, which is a no-op. (Did you mean to pass `assign=True` to assign items in the state dictionary to their corresponding key in the module instead of copying them in place?)\n",
            "  warnings.warn(f'for {key}: copying from a non-meta parameter in the checkpoint to a meta '\n",
            "/opt/conda/envs/llava1.5env/lib/python3.8/site-packages/torch/nn/modules/module.py:2025: UserWarning: for vision_model.encoder.layers.18.self_attn.q_proj.bias: copying from a non-meta parameter in the checkpoint to a meta parameter in the current model, which is a no-op. (Did you mean to pass `assign=True` to assign items in the state dictionary to their corresponding key in the module instead of copying them in place?)\n",
            "  warnings.warn(f'for {key}: copying from a non-meta parameter in the checkpoint to a meta '\n",
            "/opt/conda/envs/llava1.5env/lib/python3.8/site-packages/torch/nn/modules/module.py:2025: UserWarning: for vision_model.encoder.layers.18.self_attn.out_proj.weight: copying from a non-meta parameter in the checkpoint to a meta parameter in the current model, which is a no-op. (Did you mean to pass `assign=True` to assign items in the state dictionary to their corresponding key in the module instead of copying them in place?)\n",
            "  warnings.warn(f'for {key}: copying from a non-meta parameter in the checkpoint to a meta '\n",
            "/opt/conda/envs/llava1.5env/lib/python3.8/site-packages/torch/nn/modules/module.py:2025: UserWarning: for vision_model.encoder.layers.18.self_attn.out_proj.bias: copying from a non-meta parameter in the checkpoint to a meta parameter in the current model, which is a no-op. (Did you mean to pass `assign=True` to assign items in the state dictionary to their corresponding key in the module instead of copying them in place?)\n",
            "  warnings.warn(f'for {key}: copying from a non-meta parameter in the checkpoint to a meta '\n",
            "/opt/conda/envs/llava1.5env/lib/python3.8/site-packages/torch/nn/modules/module.py:2025: UserWarning: for vision_model.encoder.layers.18.layer_norm1.weight: copying from a non-meta parameter in the checkpoint to a meta parameter in the current model, which is a no-op. (Did you mean to pass `assign=True` to assign items in the state dictionary to their corresponding key in the module instead of copying them in place?)\n",
            "  warnings.warn(f'for {key}: copying from a non-meta parameter in the checkpoint to a meta '\n",
            "/opt/conda/envs/llava1.5env/lib/python3.8/site-packages/torch/nn/modules/module.py:2025: UserWarning: for vision_model.encoder.layers.18.layer_norm1.bias: copying from a non-meta parameter in the checkpoint to a meta parameter in the current model, which is a no-op. (Did you mean to pass `assign=True` to assign items in the state dictionary to their corresponding key in the module instead of copying them in place?)\n",
            "  warnings.warn(f'for {key}: copying from a non-meta parameter in the checkpoint to a meta '\n",
            "/opt/conda/envs/llava1.5env/lib/python3.8/site-packages/torch/nn/modules/module.py:2025: UserWarning: for vision_model.encoder.layers.18.mlp.fc1.weight: copying from a non-meta parameter in the checkpoint to a meta parameter in the current model, which is a no-op. (Did you mean to pass `assign=True` to assign items in the state dictionary to their corresponding key in the module instead of copying them in place?)\n",
            "  warnings.warn(f'for {key}: copying from a non-meta parameter in the checkpoint to a meta '\n",
            "/opt/conda/envs/llava1.5env/lib/python3.8/site-packages/torch/nn/modules/module.py:2025: UserWarning: for vision_model.encoder.layers.18.mlp.fc1.bias: copying from a non-meta parameter in the checkpoint to a meta parameter in the current model, which is a no-op. (Did you mean to pass `assign=True` to assign items in the state dictionary to their corresponding key in the module instead of copying them in place?)\n",
            "  warnings.warn(f'for {key}: copying from a non-meta parameter in the checkpoint to a meta '\n",
            "/opt/conda/envs/llava1.5env/lib/python3.8/site-packages/torch/nn/modules/module.py:2025: UserWarning: for vision_model.encoder.layers.18.mlp.fc2.weight: copying from a non-meta parameter in the checkpoint to a meta parameter in the current model, which is a no-op. (Did you mean to pass `assign=True` to assign items in the state dictionary to their corresponding key in the module instead of copying them in place?)\n",
            "  warnings.warn(f'for {key}: copying from a non-meta parameter in the checkpoint to a meta '\n",
            "/opt/conda/envs/llava1.5env/lib/python3.8/site-packages/torch/nn/modules/module.py:2025: UserWarning: for vision_model.encoder.layers.18.mlp.fc2.bias: copying from a non-meta parameter in the checkpoint to a meta parameter in the current model, which is a no-op. (Did you mean to pass `assign=True` to assign items in the state dictionary to their corresponding key in the module instead of copying them in place?)\n",
            "  warnings.warn(f'for {key}: copying from a non-meta parameter in the checkpoint to a meta '\n",
            "/opt/conda/envs/llava1.5env/lib/python3.8/site-packages/torch/nn/modules/module.py:2025: UserWarning: for vision_model.encoder.layers.18.layer_norm2.weight: copying from a non-meta parameter in the checkpoint to a meta parameter in the current model, which is a no-op. (Did you mean to pass `assign=True` to assign items in the state dictionary to their corresponding key in the module instead of copying them in place?)\n",
            "  warnings.warn(f'for {key}: copying from a non-meta parameter in the checkpoint to a meta '\n",
            "/opt/conda/envs/llava1.5env/lib/python3.8/site-packages/torch/nn/modules/module.py:2025: UserWarning: for vision_model.encoder.layers.18.layer_norm2.bias: copying from a non-meta parameter in the checkpoint to a meta parameter in the current model, which is a no-op. (Did you mean to pass `assign=True` to assign items in the state dictionary to their corresponding key in the module instead of copying them in place?)\n",
            "  warnings.warn(f'for {key}: copying from a non-meta parameter in the checkpoint to a meta '\n",
            "/opt/conda/envs/llava1.5env/lib/python3.8/site-packages/torch/nn/modules/module.py:2025: UserWarning: for vision_model.encoder.layers.19.self_attn.k_proj.weight: copying from a non-meta parameter in the checkpoint to a meta parameter in the current model, which is a no-op. (Did you mean to pass `assign=True` to assign items in the state dictionary to their corresponding key in the module instead of copying them in place?)\n",
            "  warnings.warn(f'for {key}: copying from a non-meta parameter in the checkpoint to a meta '\n",
            "/opt/conda/envs/llava1.5env/lib/python3.8/site-packages/torch/nn/modules/module.py:2025: UserWarning: for vision_model.encoder.layers.19.self_attn.k_proj.bias: copying from a non-meta parameter in the checkpoint to a meta parameter in the current model, which is a no-op. (Did you mean to pass `assign=True` to assign items in the state dictionary to their corresponding key in the module instead of copying them in place?)\n",
            "  warnings.warn(f'for {key}: copying from a non-meta parameter in the checkpoint to a meta '\n",
            "/opt/conda/envs/llava1.5env/lib/python3.8/site-packages/torch/nn/modules/module.py:2025: UserWarning: for vision_model.encoder.layers.19.self_attn.v_proj.weight: copying from a non-meta parameter in the checkpoint to a meta parameter in the current model, which is a no-op. (Did you mean to pass `assign=True` to assign items in the state dictionary to their corresponding key in the module instead of copying them in place?)\n",
            "  warnings.warn(f'for {key}: copying from a non-meta parameter in the checkpoint to a meta '\n",
            "/opt/conda/envs/llava1.5env/lib/python3.8/site-packages/torch/nn/modules/module.py:2025: UserWarning: for vision_model.encoder.layers.19.self_attn.v_proj.bias: copying from a non-meta parameter in the checkpoint to a meta parameter in the current model, which is a no-op. (Did you mean to pass `assign=True` to assign items in the state dictionary to their corresponding key in the module instead of copying them in place?)\n",
            "  warnings.warn(f'for {key}: copying from a non-meta parameter in the checkpoint to a meta '\n",
            "/opt/conda/envs/llava1.5env/lib/python3.8/site-packages/torch/nn/modules/module.py:2025: UserWarning: for vision_model.encoder.layers.19.self_attn.q_proj.weight: copying from a non-meta parameter in the checkpoint to a meta parameter in the current model, which is a no-op. (Did you mean to pass `assign=True` to assign items in the state dictionary to their corresponding key in the module instead of copying them in place?)\n",
            "  warnings.warn(f'for {key}: copying from a non-meta parameter in the checkpoint to a meta '\n",
            "/opt/conda/envs/llava1.5env/lib/python3.8/site-packages/torch/nn/modules/module.py:2025: UserWarning: for vision_model.encoder.layers.19.self_attn.q_proj.bias: copying from a non-meta parameter in the checkpoint to a meta parameter in the current model, which is a no-op. (Did you mean to pass `assign=True` to assign items in the state dictionary to their corresponding key in the module instead of copying them in place?)\n",
            "  warnings.warn(f'for {key}: copying from a non-meta parameter in the checkpoint to a meta '\n",
            "/opt/conda/envs/llava1.5env/lib/python3.8/site-packages/torch/nn/modules/module.py:2025: UserWarning: for vision_model.encoder.layers.19.self_attn.out_proj.weight: copying from a non-meta parameter in the checkpoint to a meta parameter in the current model, which is a no-op. (Did you mean to pass `assign=True` to assign items in the state dictionary to their corresponding key in the module instead of copying them in place?)\n",
            "  warnings.warn(f'for {key}: copying from a non-meta parameter in the checkpoint to a meta '\n",
            "/opt/conda/envs/llava1.5env/lib/python3.8/site-packages/torch/nn/modules/module.py:2025: UserWarning: for vision_model.encoder.layers.19.self_attn.out_proj.bias: copying from a non-meta parameter in the checkpoint to a meta parameter in the current model, which is a no-op. (Did you mean to pass `assign=True` to assign items in the state dictionary to their corresponding key in the module instead of copying them in place?)\n",
            "  warnings.warn(f'for {key}: copying from a non-meta parameter in the checkpoint to a meta '\n",
            "/opt/conda/envs/llava1.5env/lib/python3.8/site-packages/torch/nn/modules/module.py:2025: UserWarning: for vision_model.encoder.layers.19.layer_norm1.weight: copying from a non-meta parameter in the checkpoint to a meta parameter in the current model, which is a no-op. (Did you mean to pass `assign=True` to assign items in the state dictionary to their corresponding key in the module instead of copying them in place?)\n",
            "  warnings.warn(f'for {key}: copying from a non-meta parameter in the checkpoint to a meta '\n",
            "/opt/conda/envs/llava1.5env/lib/python3.8/site-packages/torch/nn/modules/module.py:2025: UserWarning: for vision_model.encoder.layers.19.layer_norm1.bias: copying from a non-meta parameter in the checkpoint to a meta parameter in the current model, which is a no-op. (Did you mean to pass `assign=True` to assign items in the state dictionary to their corresponding key in the module instead of copying them in place?)\n",
            "  warnings.warn(f'for {key}: copying from a non-meta parameter in the checkpoint to a meta '\n",
            "/opt/conda/envs/llava1.5env/lib/python3.8/site-packages/torch/nn/modules/module.py:2025: UserWarning: for vision_model.encoder.layers.19.mlp.fc1.weight: copying from a non-meta parameter in the checkpoint to a meta parameter in the current model, which is a no-op. (Did you mean to pass `assign=True` to assign items in the state dictionary to their corresponding key in the module instead of copying them in place?)\n",
            "  warnings.warn(f'for {key}: copying from a non-meta parameter in the checkpoint to a meta '\n",
            "/opt/conda/envs/llava1.5env/lib/python3.8/site-packages/torch/nn/modules/module.py:2025: UserWarning: for vision_model.encoder.layers.19.mlp.fc1.bias: copying from a non-meta parameter in the checkpoint to a meta parameter in the current model, which is a no-op. (Did you mean to pass `assign=True` to assign items in the state dictionary to their corresponding key in the module instead of copying them in place?)\n",
            "  warnings.warn(f'for {key}: copying from a non-meta parameter in the checkpoint to a meta '\n",
            "/opt/conda/envs/llava1.5env/lib/python3.8/site-packages/torch/nn/modules/module.py:2025: UserWarning: for vision_model.encoder.layers.19.mlp.fc2.weight: copying from a non-meta parameter in the checkpoint to a meta parameter in the current model, which is a no-op. (Did you mean to pass `assign=True` to assign items in the state dictionary to their corresponding key in the module instead of copying them in place?)\n",
            "  warnings.warn(f'for {key}: copying from a non-meta parameter in the checkpoint to a meta '\n",
            "/opt/conda/envs/llava1.5env/lib/python3.8/site-packages/torch/nn/modules/module.py:2025: UserWarning: for vision_model.encoder.layers.19.mlp.fc2.bias: copying from a non-meta parameter in the checkpoint to a meta parameter in the current model, which is a no-op. (Did you mean to pass `assign=True` to assign items in the state dictionary to their corresponding key in the module instead of copying them in place?)\n",
            "  warnings.warn(f'for {key}: copying from a non-meta parameter in the checkpoint to a meta '\n",
            "/opt/conda/envs/llava1.5env/lib/python3.8/site-packages/torch/nn/modules/module.py:2025: UserWarning: for vision_model.encoder.layers.19.layer_norm2.weight: copying from a non-meta parameter in the checkpoint to a meta parameter in the current model, which is a no-op. (Did you mean to pass `assign=True` to assign items in the state dictionary to their corresponding key in the module instead of copying them in place?)\n",
            "  warnings.warn(f'for {key}: copying from a non-meta parameter in the checkpoint to a meta '\n",
            "/opt/conda/envs/llava1.5env/lib/python3.8/site-packages/torch/nn/modules/module.py:2025: UserWarning: for vision_model.encoder.layers.19.layer_norm2.bias: copying from a non-meta parameter in the checkpoint to a meta parameter in the current model, which is a no-op. (Did you mean to pass `assign=True` to assign items in the state dictionary to their corresponding key in the module instead of copying them in place?)\n",
            "  warnings.warn(f'for {key}: copying from a non-meta parameter in the checkpoint to a meta '\n",
            "/opt/conda/envs/llava1.5env/lib/python3.8/site-packages/torch/nn/modules/module.py:2025: UserWarning: for vision_model.encoder.layers.20.self_attn.k_proj.weight: copying from a non-meta parameter in the checkpoint to a meta parameter in the current model, which is a no-op. (Did you mean to pass `assign=True` to assign items in the state dictionary to their corresponding key in the module instead of copying them in place?)\n",
            "  warnings.warn(f'for {key}: copying from a non-meta parameter in the checkpoint to a meta '\n",
            "/opt/conda/envs/llava1.5env/lib/python3.8/site-packages/torch/nn/modules/module.py:2025: UserWarning: for vision_model.encoder.layers.20.self_attn.k_proj.bias: copying from a non-meta parameter in the checkpoint to a meta parameter in the current model, which is a no-op. (Did you mean to pass `assign=True` to assign items in the state dictionary to their corresponding key in the module instead of copying them in place?)\n",
            "  warnings.warn(f'for {key}: copying from a non-meta parameter in the checkpoint to a meta '\n",
            "/opt/conda/envs/llava1.5env/lib/python3.8/site-packages/torch/nn/modules/module.py:2025: UserWarning: for vision_model.encoder.layers.20.self_attn.v_proj.weight: copying from a non-meta parameter in the checkpoint to a meta parameter in the current model, which is a no-op. (Did you mean to pass `assign=True` to assign items in the state dictionary to their corresponding key in the module instead of copying them in place?)\n",
            "  warnings.warn(f'for {key}: copying from a non-meta parameter in the checkpoint to a meta '\n",
            "/opt/conda/envs/llava1.5env/lib/python3.8/site-packages/torch/nn/modules/module.py:2025: UserWarning: for vision_model.encoder.layers.20.self_attn.v_proj.bias: copying from a non-meta parameter in the checkpoint to a meta parameter in the current model, which is a no-op. (Did you mean to pass `assign=True` to assign items in the state dictionary to their corresponding key in the module instead of copying them in place?)\n",
            "  warnings.warn(f'for {key}: copying from a non-meta parameter in the checkpoint to a meta '\n",
            "/opt/conda/envs/llava1.5env/lib/python3.8/site-packages/torch/nn/modules/module.py:2025: UserWarning: for vision_model.encoder.layers.20.self_attn.q_proj.weight: copying from a non-meta parameter in the checkpoint to a meta parameter in the current model, which is a no-op. (Did you mean to pass `assign=True` to assign items in the state dictionary to their corresponding key in the module instead of copying them in place?)\n",
            "  warnings.warn(f'for {key}: copying from a non-meta parameter in the checkpoint to a meta '\n",
            "/opt/conda/envs/llava1.5env/lib/python3.8/site-packages/torch/nn/modules/module.py:2025: UserWarning: for vision_model.encoder.layers.20.self_attn.q_proj.bias: copying from a non-meta parameter in the checkpoint to a meta parameter in the current model, which is a no-op. (Did you mean to pass `assign=True` to assign items in the state dictionary to their corresponding key in the module instead of copying them in place?)\n",
            "  warnings.warn(f'for {key}: copying from a non-meta parameter in the checkpoint to a meta '\n",
            "/opt/conda/envs/llava1.5env/lib/python3.8/site-packages/torch/nn/modules/module.py:2025: UserWarning: for vision_model.encoder.layers.20.self_attn.out_proj.weight: copying from a non-meta parameter in the checkpoint to a meta parameter in the current model, which is a no-op. (Did you mean to pass `assign=True` to assign items in the state dictionary to their corresponding key in the module instead of copying them in place?)\n",
            "  warnings.warn(f'for {key}: copying from a non-meta parameter in the checkpoint to a meta '\n",
            "/opt/conda/envs/llava1.5env/lib/python3.8/site-packages/torch/nn/modules/module.py:2025: UserWarning: for vision_model.encoder.layers.20.self_attn.out_proj.bias: copying from a non-meta parameter in the checkpoint to a meta parameter in the current model, which is a no-op. (Did you mean to pass `assign=True` to assign items in the state dictionary to their corresponding key in the module instead of copying them in place?)\n",
            "  warnings.warn(f'for {key}: copying from a non-meta parameter in the checkpoint to a meta '\n",
            "/opt/conda/envs/llava1.5env/lib/python3.8/site-packages/torch/nn/modules/module.py:2025: UserWarning: for vision_model.encoder.layers.20.layer_norm1.weight: copying from a non-meta parameter in the checkpoint to a meta parameter in the current model, which is a no-op. (Did you mean to pass `assign=True` to assign items in the state dictionary to their corresponding key in the module instead of copying them in place?)\n",
            "  warnings.warn(f'for {key}: copying from a non-meta parameter in the checkpoint to a meta '\n",
            "/opt/conda/envs/llava1.5env/lib/python3.8/site-packages/torch/nn/modules/module.py:2025: UserWarning: for vision_model.encoder.layers.20.layer_norm1.bias: copying from a non-meta parameter in the checkpoint to a meta parameter in the current model, which is a no-op. (Did you mean to pass `assign=True` to assign items in the state dictionary to their corresponding key in the module instead of copying them in place?)\n",
            "  warnings.warn(f'for {key}: copying from a non-meta parameter in the checkpoint to a meta '\n",
            "/opt/conda/envs/llava1.5env/lib/python3.8/site-packages/torch/nn/modules/module.py:2025: UserWarning: for vision_model.encoder.layers.20.mlp.fc1.weight: copying from a non-meta parameter in the checkpoint to a meta parameter in the current model, which is a no-op. (Did you mean to pass `assign=True` to assign items in the state dictionary to their corresponding key in the module instead of copying them in place?)\n",
            "  warnings.warn(f'for {key}: copying from a non-meta parameter in the checkpoint to a meta '\n",
            "/opt/conda/envs/llava1.5env/lib/python3.8/site-packages/torch/nn/modules/module.py:2025: UserWarning: for vision_model.encoder.layers.20.mlp.fc1.bias: copying from a non-meta parameter in the checkpoint to a meta parameter in the current model, which is a no-op. (Did you mean to pass `assign=True` to assign items in the state dictionary to their corresponding key in the module instead of copying them in place?)\n",
            "  warnings.warn(f'for {key}: copying from a non-meta parameter in the checkpoint to a meta '\n",
            "/opt/conda/envs/llava1.5env/lib/python3.8/site-packages/torch/nn/modules/module.py:2025: UserWarning: for vision_model.encoder.layers.20.mlp.fc2.weight: copying from a non-meta parameter in the checkpoint to a meta parameter in the current model, which is a no-op. (Did you mean to pass `assign=True` to assign items in the state dictionary to their corresponding key in the module instead of copying them in place?)\n",
            "  warnings.warn(f'for {key}: copying from a non-meta parameter in the checkpoint to a meta '\n",
            "/opt/conda/envs/llava1.5env/lib/python3.8/site-packages/torch/nn/modules/module.py:2025: UserWarning: for vision_model.encoder.layers.20.mlp.fc2.bias: copying from a non-meta parameter in the checkpoint to a meta parameter in the current model, which is a no-op. (Did you mean to pass `assign=True` to assign items in the state dictionary to their corresponding key in the module instead of copying them in place?)\n",
            "  warnings.warn(f'for {key}: copying from a non-meta parameter in the checkpoint to a meta '\n",
            "/opt/conda/envs/llava1.5env/lib/python3.8/site-packages/torch/nn/modules/module.py:2025: UserWarning: for vision_model.encoder.layers.20.layer_norm2.weight: copying from a non-meta parameter in the checkpoint to a meta parameter in the current model, which is a no-op. (Did you mean to pass `assign=True` to assign items in the state dictionary to their corresponding key in the module instead of copying them in place?)\n",
            "  warnings.warn(f'for {key}: copying from a non-meta parameter in the checkpoint to a meta '\n",
            "/opt/conda/envs/llava1.5env/lib/python3.8/site-packages/torch/nn/modules/module.py:2025: UserWarning: for vision_model.encoder.layers.20.layer_norm2.bias: copying from a non-meta parameter in the checkpoint to a meta parameter in the current model, which is a no-op. (Did you mean to pass `assign=True` to assign items in the state dictionary to their corresponding key in the module instead of copying them in place?)\n",
            "  warnings.warn(f'for {key}: copying from a non-meta parameter in the checkpoint to a meta '\n",
            "/opt/conda/envs/llava1.5env/lib/python3.8/site-packages/torch/nn/modules/module.py:2025: UserWarning: for vision_model.encoder.layers.21.self_attn.k_proj.weight: copying from a non-meta parameter in the checkpoint to a meta parameter in the current model, which is a no-op. (Did you mean to pass `assign=True` to assign items in the state dictionary to their corresponding key in the module instead of copying them in place?)\n",
            "  warnings.warn(f'for {key}: copying from a non-meta parameter in the checkpoint to a meta '\n",
            "/opt/conda/envs/llava1.5env/lib/python3.8/site-packages/torch/nn/modules/module.py:2025: UserWarning: for vision_model.encoder.layers.21.self_attn.k_proj.bias: copying from a non-meta parameter in the checkpoint to a meta parameter in the current model, which is a no-op. (Did you mean to pass `assign=True` to assign items in the state dictionary to their corresponding key in the module instead of copying them in place?)\n",
            "  warnings.warn(f'for {key}: copying from a non-meta parameter in the checkpoint to a meta '\n",
            "/opt/conda/envs/llava1.5env/lib/python3.8/site-packages/torch/nn/modules/module.py:2025: UserWarning: for vision_model.encoder.layers.21.self_attn.v_proj.weight: copying from a non-meta parameter in the checkpoint to a meta parameter in the current model, which is a no-op. (Did you mean to pass `assign=True` to assign items in the state dictionary to their corresponding key in the module instead of copying them in place?)\n",
            "  warnings.warn(f'for {key}: copying from a non-meta parameter in the checkpoint to a meta '\n",
            "/opt/conda/envs/llava1.5env/lib/python3.8/site-packages/torch/nn/modules/module.py:2025: UserWarning: for vision_model.encoder.layers.21.self_attn.v_proj.bias: copying from a non-meta parameter in the checkpoint to a meta parameter in the current model, which is a no-op. (Did you mean to pass `assign=True` to assign items in the state dictionary to their corresponding key in the module instead of copying them in place?)\n",
            "  warnings.warn(f'for {key}: copying from a non-meta parameter in the checkpoint to a meta '\n",
            "/opt/conda/envs/llava1.5env/lib/python3.8/site-packages/torch/nn/modules/module.py:2025: UserWarning: for vision_model.encoder.layers.21.self_attn.q_proj.weight: copying from a non-meta parameter in the checkpoint to a meta parameter in the current model, which is a no-op. (Did you mean to pass `assign=True` to assign items in the state dictionary to their corresponding key in the module instead of copying them in place?)\n",
            "  warnings.warn(f'for {key}: copying from a non-meta parameter in the checkpoint to a meta '\n",
            "/opt/conda/envs/llava1.5env/lib/python3.8/site-packages/torch/nn/modules/module.py:2025: UserWarning: for vision_model.encoder.layers.21.self_attn.q_proj.bias: copying from a non-meta parameter in the checkpoint to a meta parameter in the current model, which is a no-op. (Did you mean to pass `assign=True` to assign items in the state dictionary to their corresponding key in the module instead of copying them in place?)\n",
            "  warnings.warn(f'for {key}: copying from a non-meta parameter in the checkpoint to a meta '\n",
            "/opt/conda/envs/llava1.5env/lib/python3.8/site-packages/torch/nn/modules/module.py:2025: UserWarning: for vision_model.encoder.layers.21.self_attn.out_proj.weight: copying from a non-meta parameter in the checkpoint to a meta parameter in the current model, which is a no-op. (Did you mean to pass `assign=True` to assign items in the state dictionary to their corresponding key in the module instead of copying them in place?)\n",
            "  warnings.warn(f'for {key}: copying from a non-meta parameter in the checkpoint to a meta '\n",
            "/opt/conda/envs/llava1.5env/lib/python3.8/site-packages/torch/nn/modules/module.py:2025: UserWarning: for vision_model.encoder.layers.21.self_attn.out_proj.bias: copying from a non-meta parameter in the checkpoint to a meta parameter in the current model, which is a no-op. (Did you mean to pass `assign=True` to assign items in the state dictionary to their corresponding key in the module instead of copying them in place?)\n",
            "  warnings.warn(f'for {key}: copying from a non-meta parameter in the checkpoint to a meta '\n",
            "/opt/conda/envs/llava1.5env/lib/python3.8/site-packages/torch/nn/modules/module.py:2025: UserWarning: for vision_model.encoder.layers.21.layer_norm1.weight: copying from a non-meta parameter in the checkpoint to a meta parameter in the current model, which is a no-op. (Did you mean to pass `assign=True` to assign items in the state dictionary to their corresponding key in the module instead of copying them in place?)\n",
            "  warnings.warn(f'for {key}: copying from a non-meta parameter in the checkpoint to a meta '\n",
            "/opt/conda/envs/llava1.5env/lib/python3.8/site-packages/torch/nn/modules/module.py:2025: UserWarning: for vision_model.encoder.layers.21.layer_norm1.bias: copying from a non-meta parameter in the checkpoint to a meta parameter in the current model, which is a no-op. (Did you mean to pass `assign=True` to assign items in the state dictionary to their corresponding key in the module instead of copying them in place?)\n",
            "  warnings.warn(f'for {key}: copying from a non-meta parameter in the checkpoint to a meta '\n",
            "/opt/conda/envs/llava1.5env/lib/python3.8/site-packages/torch/nn/modules/module.py:2025: UserWarning: for vision_model.encoder.layers.21.mlp.fc1.weight: copying from a non-meta parameter in the checkpoint to a meta parameter in the current model, which is a no-op. (Did you mean to pass `assign=True` to assign items in the state dictionary to their corresponding key in the module instead of copying them in place?)\n",
            "  warnings.warn(f'for {key}: copying from a non-meta parameter in the checkpoint to a meta '\n",
            "/opt/conda/envs/llava1.5env/lib/python3.8/site-packages/torch/nn/modules/module.py:2025: UserWarning: for vision_model.encoder.layers.21.mlp.fc1.bias: copying from a non-meta parameter in the checkpoint to a meta parameter in the current model, which is a no-op. (Did you mean to pass `assign=True` to assign items in the state dictionary to their corresponding key in the module instead of copying them in place?)\n",
            "  warnings.warn(f'for {key}: copying from a non-meta parameter in the checkpoint to a meta '\n",
            "/opt/conda/envs/llava1.5env/lib/python3.8/site-packages/torch/nn/modules/module.py:2025: UserWarning: for vision_model.encoder.layers.21.mlp.fc2.weight: copying from a non-meta parameter in the checkpoint to a meta parameter in the current model, which is a no-op. (Did you mean to pass `assign=True` to assign items in the state dictionary to their corresponding key in the module instead of copying them in place?)\n",
            "  warnings.warn(f'for {key}: copying from a non-meta parameter in the checkpoint to a meta '\n",
            "/opt/conda/envs/llava1.5env/lib/python3.8/site-packages/torch/nn/modules/module.py:2025: UserWarning: for vision_model.encoder.layers.21.mlp.fc2.bias: copying from a non-meta parameter in the checkpoint to a meta parameter in the current model, which is a no-op. (Did you mean to pass `assign=True` to assign items in the state dictionary to their corresponding key in the module instead of copying them in place?)\n",
            "  warnings.warn(f'for {key}: copying from a non-meta parameter in the checkpoint to a meta '\n",
            "/opt/conda/envs/llava1.5env/lib/python3.8/site-packages/torch/nn/modules/module.py:2025: UserWarning: for vision_model.encoder.layers.21.layer_norm2.weight: copying from a non-meta parameter in the checkpoint to a meta parameter in the current model, which is a no-op. (Did you mean to pass `assign=True` to assign items in the state dictionary to their corresponding key in the module instead of copying them in place?)\n",
            "  warnings.warn(f'for {key}: copying from a non-meta parameter in the checkpoint to a meta '\n",
            "/opt/conda/envs/llava1.5env/lib/python3.8/site-packages/torch/nn/modules/module.py:2025: UserWarning: for vision_model.encoder.layers.21.layer_norm2.bias: copying from a non-meta parameter in the checkpoint to a meta parameter in the current model, which is a no-op. (Did you mean to pass `assign=True` to assign items in the state dictionary to their corresponding key in the module instead of copying them in place?)\n",
            "  warnings.warn(f'for {key}: copying from a non-meta parameter in the checkpoint to a meta '\n",
            "/opt/conda/envs/llava1.5env/lib/python3.8/site-packages/torch/nn/modules/module.py:2025: UserWarning: for vision_model.encoder.layers.22.self_attn.k_proj.weight: copying from a non-meta parameter in the checkpoint to a meta parameter in the current model, which is a no-op. (Did you mean to pass `assign=True` to assign items in the state dictionary to their corresponding key in the module instead of copying them in place?)\n",
            "  warnings.warn(f'for {key}: copying from a non-meta parameter in the checkpoint to a meta '\n",
            "/opt/conda/envs/llava1.5env/lib/python3.8/site-packages/torch/nn/modules/module.py:2025: UserWarning: for vision_model.encoder.layers.22.self_attn.k_proj.bias: copying from a non-meta parameter in the checkpoint to a meta parameter in the current model, which is a no-op. (Did you mean to pass `assign=True` to assign items in the state dictionary to their corresponding key in the module instead of copying them in place?)\n",
            "  warnings.warn(f'for {key}: copying from a non-meta parameter in the checkpoint to a meta '\n",
            "/opt/conda/envs/llava1.5env/lib/python3.8/site-packages/torch/nn/modules/module.py:2025: UserWarning: for vision_model.encoder.layers.22.self_attn.v_proj.weight: copying from a non-meta parameter in the checkpoint to a meta parameter in the current model, which is a no-op. (Did you mean to pass `assign=True` to assign items in the state dictionary to their corresponding key in the module instead of copying them in place?)\n",
            "  warnings.warn(f'for {key}: copying from a non-meta parameter in the checkpoint to a meta '\n",
            "/opt/conda/envs/llava1.5env/lib/python3.8/site-packages/torch/nn/modules/module.py:2025: UserWarning: for vision_model.encoder.layers.22.self_attn.v_proj.bias: copying from a non-meta parameter in the checkpoint to a meta parameter in the current model, which is a no-op. (Did you mean to pass `assign=True` to assign items in the state dictionary to their corresponding key in the module instead of copying them in place?)\n",
            "  warnings.warn(f'for {key}: copying from a non-meta parameter in the checkpoint to a meta '\n",
            "/opt/conda/envs/llava1.5env/lib/python3.8/site-packages/torch/nn/modules/module.py:2025: UserWarning: for vision_model.encoder.layers.22.self_attn.q_proj.weight: copying from a non-meta parameter in the checkpoint to a meta parameter in the current model, which is a no-op. (Did you mean to pass `assign=True` to assign items in the state dictionary to their corresponding key in the module instead of copying them in place?)\n",
            "  warnings.warn(f'for {key}: copying from a non-meta parameter in the checkpoint to a meta '\n",
            "/opt/conda/envs/llava1.5env/lib/python3.8/site-packages/torch/nn/modules/module.py:2025: UserWarning: for vision_model.encoder.layers.22.self_attn.q_proj.bias: copying from a non-meta parameter in the checkpoint to a meta parameter in the current model, which is a no-op. (Did you mean to pass `assign=True` to assign items in the state dictionary to their corresponding key in the module instead of copying them in place?)\n",
            "  warnings.warn(f'for {key}: copying from a non-meta parameter in the checkpoint to a meta '\n",
            "/opt/conda/envs/llava1.5env/lib/python3.8/site-packages/torch/nn/modules/module.py:2025: UserWarning: for vision_model.encoder.layers.22.self_attn.out_proj.weight: copying from a non-meta parameter in the checkpoint to a meta parameter in the current model, which is a no-op. (Did you mean to pass `assign=True` to assign items in the state dictionary to their corresponding key in the module instead of copying them in place?)\n",
            "  warnings.warn(f'for {key}: copying from a non-meta parameter in the checkpoint to a meta '\n",
            "/opt/conda/envs/llava1.5env/lib/python3.8/site-packages/torch/nn/modules/module.py:2025: UserWarning: for vision_model.encoder.layers.22.self_attn.out_proj.bias: copying from a non-meta parameter in the checkpoint to a meta parameter in the current model, which is a no-op. (Did you mean to pass `assign=True` to assign items in the state dictionary to their corresponding key in the module instead of copying them in place?)\n",
            "  warnings.warn(f'for {key}: copying from a non-meta parameter in the checkpoint to a meta '\n",
            "/opt/conda/envs/llava1.5env/lib/python3.8/site-packages/torch/nn/modules/module.py:2025: UserWarning: for vision_model.encoder.layers.22.layer_norm1.weight: copying from a non-meta parameter in the checkpoint to a meta parameter in the current model, which is a no-op. (Did you mean to pass `assign=True` to assign items in the state dictionary to their corresponding key in the module instead of copying them in place?)\n",
            "  warnings.warn(f'for {key}: copying from a non-meta parameter in the checkpoint to a meta '\n",
            "/opt/conda/envs/llava1.5env/lib/python3.8/site-packages/torch/nn/modules/module.py:2025: UserWarning: for vision_model.encoder.layers.22.layer_norm1.bias: copying from a non-meta parameter in the checkpoint to a meta parameter in the current model, which is a no-op. (Did you mean to pass `assign=True` to assign items in the state dictionary to their corresponding key in the module instead of copying them in place?)\n",
            "  warnings.warn(f'for {key}: copying from a non-meta parameter in the checkpoint to a meta '\n",
            "/opt/conda/envs/llava1.5env/lib/python3.8/site-packages/torch/nn/modules/module.py:2025: UserWarning: for vision_model.encoder.layers.22.mlp.fc1.weight: copying from a non-meta parameter in the checkpoint to a meta parameter in the current model, which is a no-op. (Did you mean to pass `assign=True` to assign items in the state dictionary to their corresponding key in the module instead of copying them in place?)\n",
            "  warnings.warn(f'for {key}: copying from a non-meta parameter in the checkpoint to a meta '\n",
            "/opt/conda/envs/llava1.5env/lib/python3.8/site-packages/torch/nn/modules/module.py:2025: UserWarning: for vision_model.encoder.layers.22.mlp.fc1.bias: copying from a non-meta parameter in the checkpoint to a meta parameter in the current model, which is a no-op. (Did you mean to pass `assign=True` to assign items in the state dictionary to their corresponding key in the module instead of copying them in place?)\n",
            "  warnings.warn(f'for {key}: copying from a non-meta parameter in the checkpoint to a meta '\n",
            "/opt/conda/envs/llava1.5env/lib/python3.8/site-packages/torch/nn/modules/module.py:2025: UserWarning: for vision_model.encoder.layers.22.mlp.fc2.weight: copying from a non-meta parameter in the checkpoint to a meta parameter in the current model, which is a no-op. (Did you mean to pass `assign=True` to assign items in the state dictionary to their corresponding key in the module instead of copying them in place?)\n",
            "  warnings.warn(f'for {key}: copying from a non-meta parameter in the checkpoint to a meta '\n",
            "/opt/conda/envs/llava1.5env/lib/python3.8/site-packages/torch/nn/modules/module.py:2025: UserWarning: for vision_model.encoder.layers.22.mlp.fc2.bias: copying from a non-meta parameter in the checkpoint to a meta parameter in the current model, which is a no-op. (Did you mean to pass `assign=True` to assign items in the state dictionary to their corresponding key in the module instead of copying them in place?)\n",
            "  warnings.warn(f'for {key}: copying from a non-meta parameter in the checkpoint to a meta '\n",
            "/opt/conda/envs/llava1.5env/lib/python3.8/site-packages/torch/nn/modules/module.py:2025: UserWarning: for vision_model.encoder.layers.22.layer_norm2.weight: copying from a non-meta parameter in the checkpoint to a meta parameter in the current model, which is a no-op. (Did you mean to pass `assign=True` to assign items in the state dictionary to their corresponding key in the module instead of copying them in place?)\n",
            "  warnings.warn(f'for {key}: copying from a non-meta parameter in the checkpoint to a meta '\n",
            "/opt/conda/envs/llava1.5env/lib/python3.8/site-packages/torch/nn/modules/module.py:2025: UserWarning: for vision_model.encoder.layers.22.layer_norm2.bias: copying from a non-meta parameter in the checkpoint to a meta parameter in the current model, which is a no-op. (Did you mean to pass `assign=True` to assign items in the state dictionary to their corresponding key in the module instead of copying them in place?)\n",
            "  warnings.warn(f'for {key}: copying from a non-meta parameter in the checkpoint to a meta '\n",
            "/opt/conda/envs/llava1.5env/lib/python3.8/site-packages/torch/nn/modules/module.py:2025: UserWarning: for vision_model.encoder.layers.23.self_attn.k_proj.weight: copying from a non-meta parameter in the checkpoint to a meta parameter in the current model, which is a no-op. (Did you mean to pass `assign=True` to assign items in the state dictionary to their corresponding key in the module instead of copying them in place?)\n",
            "  warnings.warn(f'for {key}: copying from a non-meta parameter in the checkpoint to a meta '\n",
            "/opt/conda/envs/llava1.5env/lib/python3.8/site-packages/torch/nn/modules/module.py:2025: UserWarning: for vision_model.encoder.layers.23.self_attn.k_proj.bias: copying from a non-meta parameter in the checkpoint to a meta parameter in the current model, which is a no-op. (Did you mean to pass `assign=True` to assign items in the state dictionary to their corresponding key in the module instead of copying them in place?)\n",
            "  warnings.warn(f'for {key}: copying from a non-meta parameter in the checkpoint to a meta '\n",
            "/opt/conda/envs/llava1.5env/lib/python3.8/site-packages/torch/nn/modules/module.py:2025: UserWarning: for vision_model.encoder.layers.23.self_attn.v_proj.weight: copying from a non-meta parameter in the checkpoint to a meta parameter in the current model, which is a no-op. (Did you mean to pass `assign=True` to assign items in the state dictionary to their corresponding key in the module instead of copying them in place?)\n",
            "  warnings.warn(f'for {key}: copying from a non-meta parameter in the checkpoint to a meta '\n",
            "/opt/conda/envs/llava1.5env/lib/python3.8/site-packages/torch/nn/modules/module.py:2025: UserWarning: for vision_model.encoder.layers.23.self_attn.v_proj.bias: copying from a non-meta parameter in the checkpoint to a meta parameter in the current model, which is a no-op. (Did you mean to pass `assign=True` to assign items in the state dictionary to their corresponding key in the module instead of copying them in place?)\n",
            "  warnings.warn(f'for {key}: copying from a non-meta parameter in the checkpoint to a meta '\n",
            "/opt/conda/envs/llava1.5env/lib/python3.8/site-packages/torch/nn/modules/module.py:2025: UserWarning: for vision_model.encoder.layers.23.self_attn.q_proj.weight: copying from a non-meta parameter in the checkpoint to a meta parameter in the current model, which is a no-op. (Did you mean to pass `assign=True` to assign items in the state dictionary to their corresponding key in the module instead of copying them in place?)\n",
            "  warnings.warn(f'for {key}: copying from a non-meta parameter in the checkpoint to a meta '\n",
            "/opt/conda/envs/llava1.5env/lib/python3.8/site-packages/torch/nn/modules/module.py:2025: UserWarning: for vision_model.encoder.layers.23.self_attn.q_proj.bias: copying from a non-meta parameter in the checkpoint to a meta parameter in the current model, which is a no-op. (Did you mean to pass `assign=True` to assign items in the state dictionary to their corresponding key in the module instead of copying them in place?)\n",
            "  warnings.warn(f'for {key}: copying from a non-meta parameter in the checkpoint to a meta '\n",
            "/opt/conda/envs/llava1.5env/lib/python3.8/site-packages/torch/nn/modules/module.py:2025: UserWarning: for vision_model.encoder.layers.23.self_attn.out_proj.weight: copying from a non-meta parameter in the checkpoint to a meta parameter in the current model, which is a no-op. (Did you mean to pass `assign=True` to assign items in the state dictionary to their corresponding key in the module instead of copying them in place?)\n",
            "  warnings.warn(f'for {key}: copying from a non-meta parameter in the checkpoint to a meta '\n",
            "/opt/conda/envs/llava1.5env/lib/python3.8/site-packages/torch/nn/modules/module.py:2025: UserWarning: for vision_model.encoder.layers.23.self_attn.out_proj.bias: copying from a non-meta parameter in the checkpoint to a meta parameter in the current model, which is a no-op. (Did you mean to pass `assign=True` to assign items in the state dictionary to their corresponding key in the module instead of copying them in place?)\n",
            "  warnings.warn(f'for {key}: copying from a non-meta parameter in the checkpoint to a meta '\n",
            "/opt/conda/envs/llava1.5env/lib/python3.8/site-packages/torch/nn/modules/module.py:2025: UserWarning: for vision_model.encoder.layers.23.layer_norm1.weight: copying from a non-meta parameter in the checkpoint to a meta parameter in the current model, which is a no-op. (Did you mean to pass `assign=True` to assign items in the state dictionary to their corresponding key in the module instead of copying them in place?)\n",
            "  warnings.warn(f'for {key}: copying from a non-meta parameter in the checkpoint to a meta '\n",
            "/opt/conda/envs/llava1.5env/lib/python3.8/site-packages/torch/nn/modules/module.py:2025: UserWarning: for vision_model.encoder.layers.23.layer_norm1.bias: copying from a non-meta parameter in the checkpoint to a meta parameter in the current model, which is a no-op. (Did you mean to pass `assign=True` to assign items in the state dictionary to their corresponding key in the module instead of copying them in place?)\n",
            "  warnings.warn(f'for {key}: copying from a non-meta parameter in the checkpoint to a meta '\n",
            "/opt/conda/envs/llava1.5env/lib/python3.8/site-packages/torch/nn/modules/module.py:2025: UserWarning: for vision_model.encoder.layers.23.mlp.fc1.weight: copying from a non-meta parameter in the checkpoint to a meta parameter in the current model, which is a no-op. (Did you mean to pass `assign=True` to assign items in the state dictionary to their corresponding key in the module instead of copying them in place?)\n",
            "  warnings.warn(f'for {key}: copying from a non-meta parameter in the checkpoint to a meta '\n",
            "/opt/conda/envs/llava1.5env/lib/python3.8/site-packages/torch/nn/modules/module.py:2025: UserWarning: for vision_model.encoder.layers.23.mlp.fc1.bias: copying from a non-meta parameter in the checkpoint to a meta parameter in the current model, which is a no-op. (Did you mean to pass `assign=True` to assign items in the state dictionary to their corresponding key in the module instead of copying them in place?)\n",
            "  warnings.warn(f'for {key}: copying from a non-meta parameter in the checkpoint to a meta '\n",
            "/opt/conda/envs/llava1.5env/lib/python3.8/site-packages/torch/nn/modules/module.py:2025: UserWarning: for vision_model.encoder.layers.23.mlp.fc2.weight: copying from a non-meta parameter in the checkpoint to a meta parameter in the current model, which is a no-op. (Did you mean to pass `assign=True` to assign items in the state dictionary to their corresponding key in the module instead of copying them in place?)\n",
            "  warnings.warn(f'for {key}: copying from a non-meta parameter in the checkpoint to a meta '\n",
            "/opt/conda/envs/llava1.5env/lib/python3.8/site-packages/torch/nn/modules/module.py:2025: UserWarning: for vision_model.encoder.layers.23.mlp.fc2.bias: copying from a non-meta parameter in the checkpoint to a meta parameter in the current model, which is a no-op. (Did you mean to pass `assign=True` to assign items in the state dictionary to their corresponding key in the module instead of copying them in place?)\n",
            "  warnings.warn(f'for {key}: copying from a non-meta parameter in the checkpoint to a meta '\n",
            "/opt/conda/envs/llava1.5env/lib/python3.8/site-packages/torch/nn/modules/module.py:2025: UserWarning: for vision_model.encoder.layers.23.layer_norm2.weight: copying from a non-meta parameter in the checkpoint to a meta parameter in the current model, which is a no-op. (Did you mean to pass `assign=True` to assign items in the state dictionary to their corresponding key in the module instead of copying them in place?)\n",
            "  warnings.warn(f'for {key}: copying from a non-meta parameter in the checkpoint to a meta '\n",
            "/opt/conda/envs/llava1.5env/lib/python3.8/site-packages/torch/nn/modules/module.py:2025: UserWarning: for vision_model.encoder.layers.23.layer_norm2.bias: copying from a non-meta parameter in the checkpoint to a meta parameter in the current model, which is a no-op. (Did you mean to pass `assign=True` to assign items in the state dictionary to their corresponding key in the module instead of copying them in place?)\n",
            "  warnings.warn(f'for {key}: copying from a non-meta parameter in the checkpoint to a meta '\n",
            "/opt/conda/envs/llava1.5env/lib/python3.8/site-packages/torch/nn/modules/module.py:2025: UserWarning: for vision_model.post_layernorm.weight: copying from a non-meta parameter in the checkpoint to a meta parameter in the current model, which is a no-op. (Did you mean to pass `assign=True` to assign items in the state dictionary to their corresponding key in the module instead of copying them in place?)\n",
            "  warnings.warn(f'for {key}: copying from a non-meta parameter in the checkpoint to a meta '\n",
            "/opt/conda/envs/llava1.5env/lib/python3.8/site-packages/torch/nn/modules/module.py:2025: UserWarning: for vision_model.post_layernorm.bias: copying from a non-meta parameter in the checkpoint to a meta parameter in the current model, which is a no-op. (Did you mean to pass `assign=True` to assign items in the state dictionary to their corresponding key in the module instead of copying them in place?)\n",
            "  warnings.warn(f'for {key}: copying from a non-meta parameter in the checkpoint to a meta '\n"
          ]
        },
        {
          "data": {
            "application/vnd.jupyter.widget-view+json": {
              "model_id": "5f197a8aecb3436680d907de6cae13bb",
              "version_major": 2,
              "version_minor": 0
            },
            "text/plain": [
              "Loading checkpoint shards:   0%|          | 0/3 [00:00<?, ?it/s]"
            ]
          },
          "metadata": {},
          "output_type": "display_data"
        },
        {
          "name": "stdout",
          "output_type": "stream",
          "text": [
            "vision_tower is loaded\n"
          ]
        }
      ],
      "source": [
        "from llava.model.builder import load_pretrained_model\n",
        "from llava.mm_utils import get_model_name_from_path\n",
        "from llava.eval.run_llava import eval_model\n",
        "\n",
        "device = \"cuda\" if torch.cuda.is_available() else \"cpu\"\n",
        "\n",
        "\n",
        "# LLaVA 1.6B\n",
        "model_path = \"liuhaotian/llava-v1.6-vicuna-7b\"\n",
        "\n",
        "model_name=get_model_name_from_path(model_path)\n",
        "\n",
        "tokenizer, model, image_processor, context_len = load_pretrained_model(\n",
        "    model_path=model_path,\n",
        "    model_base=None,\n",
        "    model_name=model_name,\n",
        "    cache_dir='',\n",
        "    use_flash_attn=True,\n",
        ")"
      ]
    },
    {
      "cell_type": "code",
      "execution_count": null,
      "id": "d2fbccbe-5639-4749-a71d-a8cf6a5fad38",
      "metadata": {
        "id": "d2fbccbe-5639-4749-a71d-a8cf6a5fad38"
      },
      "outputs": [],
      "source": []
    },
    {
      "cell_type": "code",
      "execution_count": null,
      "id": "5381d4ba-437a-461e-991a-41c0fe39592e",
      "metadata": {
        "id": "5381d4ba-437a-461e-991a-41c0fe39592e",
        "tags": []
      },
      "outputs": [],
      "source": [
        "# import sys\n",
        "# !{sys.executable} -m pip install flash-attn --no-build-isolation\n"
      ]
    },
    {
      "cell_type": "code",
      "execution_count": null,
      "id": "3f6703ec-5f00-4391-a1eb-2fc44b76bd23",
      "metadata": {
        "id": "3f6703ec-5f00-4391-a1eb-2fc44b76bd23",
        "outputId": "ca1540dd-da9a-4e12-d7ca-6a7a3bac762c",
        "tags": []
      },
      "outputs": [
        {
          "name": "stdout",
          "output_type": "stream",
          "text": [
            "Failed to import flash_attn: No module named 'flash_attn'\n"
          ]
        }
      ],
      "source": [
        "# try:\n",
        "#     import flash_attn\n",
        "#     print(\"flash_attn successfully imported!\")\n",
        "# except ImportError as e:\n",
        "#     print(f\"Failed to import flash_attn: {e}\")\n",
        "\n"
      ]
    },
    {
      "cell_type": "code",
      "execution_count": null,
      "id": "b5171ff7-28a4-4e96-8b60-b1051308c090",
      "metadata": {
        "id": "b5171ff7-28a4-4e96-8b60-b1051308c090"
      },
      "outputs": [],
      "source": [
        "# !{sys.executable} -m pip install torch torchvision torchaudio --extra-index-url https://download.pytorch.org/whl/cu118"
      ]
    },
    {
      "cell_type": "markdown",
      "id": "c7308fe4-ec7e-4aab-95b1-71bb9550f7fb",
      "metadata": {
        "id": "c7308fe4-ec7e-4aab-95b1-71bb9550f7fb"
      },
      "source": [
        "Examination"
      ]
    },
    {
      "cell_type": "code",
      "execution_count": null,
      "id": "91ef2136-1a44-4ef5-9a22-17e98d8f7db6",
      "metadata": {
        "id": "91ef2136-1a44-4ef5-9a22-17e98d8f7db6",
        "outputId": "2952cebb-ce28-4051-be28-e4738938c68c",
        "tags": []
      },
      "outputs": [
        {
          "name": "stdout",
          "output_type": "stream",
          "text": [
            "LlavaLlamaForCausalLM(\n",
            "  (model): LlavaLlamaModel(\n",
            "    (embed_tokens): Embedding(32000, 4096, padding_idx=0)\n",
            "    (layers): ModuleList(\n",
            "      (0-31): 32 x LlamaDecoderLayer(\n",
            "        (self_attn): LlamaFlashAttention2(\n",
            "          (q_proj): Linear(in_features=4096, out_features=4096, bias=False)\n",
            "          (k_proj): Linear(in_features=4096, out_features=4096, bias=False)\n",
            "          (v_proj): Linear(in_features=4096, out_features=4096, bias=False)\n",
            "          (o_proj): Linear(in_features=4096, out_features=4096, bias=False)\n",
            "          (rotary_emb): LlamaRotaryEmbedding()\n",
            "        )\n",
            "        (mlp): LlamaMLP(\n",
            "          (gate_proj): Linear(in_features=4096, out_features=11008, bias=False)\n",
            "          (up_proj): Linear(in_features=4096, out_features=11008, bias=False)\n",
            "          (down_proj): Linear(in_features=11008, out_features=4096, bias=False)\n",
            "          (act_fn): SiLU()\n",
            "        )\n",
            "        (input_layernorm): LlamaRMSNorm()\n",
            "        (post_attention_layernorm): LlamaRMSNorm()\n",
            "      )\n",
            "    )\n",
            "    (norm): LlamaRMSNorm()\n",
            "    (vision_tower): CLIPVisionTower(\n",
            "      (vision_tower): CLIPVisionModel(\n",
            "        (vision_model): CLIPVisionTransformer(\n",
            "          (embeddings): CLIPVisionEmbeddings(\n",
            "            (patch_embedding): Conv2d(3, 1024, kernel_size=(14, 14), stride=(14, 14), bias=False)\n",
            "            (position_embedding): Embedding(577, 1024)\n",
            "          )\n",
            "          (pre_layrnorm): LayerNorm((1024,), eps=1e-05, elementwise_affine=True)\n",
            "          (encoder): CLIPEncoder(\n",
            "            (layers): ModuleList(\n",
            "              (0-23): 24 x CLIPEncoderLayer(\n",
            "                (self_attn): CLIPAttention(\n",
            "                  (k_proj): Linear(in_features=1024, out_features=1024, bias=True)\n",
            "                  (v_proj): Linear(in_features=1024, out_features=1024, bias=True)\n",
            "                  (q_proj): Linear(in_features=1024, out_features=1024, bias=True)\n",
            "                  (out_proj): Linear(in_features=1024, out_features=1024, bias=True)\n",
            "                )\n",
            "                (layer_norm1): LayerNorm((1024,), eps=1e-05, elementwise_affine=True)\n",
            "                (mlp): CLIPMLP(\n",
            "                  (activation_fn): QuickGELUActivation()\n",
            "                  (fc1): Linear(in_features=1024, out_features=4096, bias=True)\n",
            "                  (fc2): Linear(in_features=4096, out_features=1024, bias=True)\n",
            "                )\n",
            "                (layer_norm2): LayerNorm((1024,), eps=1e-05, elementwise_affine=True)\n",
            "              )\n",
            "            )\n",
            "          )\n",
            "          (post_layernorm): LayerNorm((1024,), eps=1e-05, elementwise_affine=True)\n",
            "        )\n",
            "      )\n",
            "    )\n",
            "    (mm_projector): Sequential(\n",
            "      (0): Linear(in_features=1024, out_features=4096, bias=True)\n",
            "      (1): GELU(approximate='none')\n",
            "      (2): Linear(in_features=4096, out_features=4096, bias=True)\n",
            "    )\n",
            "  )\n",
            "  (lm_head): Linear(in_features=4096, out_features=32000, bias=False)\n",
            ")\n"
          ]
        }
      ],
      "source": [
        "print(model)"
      ]
    },
    {
      "cell_type": "code",
      "execution_count": null,
      "id": "9886c362-b41b-4fca-b2da-1147659cc324",
      "metadata": {
        "id": "9886c362-b41b-4fca-b2da-1147659cc324",
        "tags": []
      },
      "outputs": [],
      "source": [
        "# print(processor)"
      ]
    },
    {
      "cell_type": "code",
      "execution_count": null,
      "id": "460afc62-24d1-4e02-ac61-af81a94d06bc",
      "metadata": {
        "id": "460afc62-24d1-4e02-ac61-af81a94d06bc",
        "outputId": "e04a9dc7-1a82-4465-8acb-49bab7ac4c93",
        "tags": []
      },
      "outputs": [
        {
          "name": "stdout",
          "output_type": "stream",
          "text": [
            "LlavaConfig {\n",
            "  \"_name_or_path\": \"liuhaotian/llava-v1.6-vicuna-7b\",\n",
            "  \"architectures\": [\n",
            "    \"LlavaLlamaForCausalLM\"\n",
            "  ],\n",
            "  \"attention_bias\": false,\n",
            "  \"attention_dropout\": 0.0,\n",
            "  \"bos_token_id\": 1,\n",
            "  \"eos_token_id\": 2,\n",
            "  \"freeze_mm_mlp_adapter\": false,\n",
            "  \"freeze_mm_vision_resampler\": false,\n",
            "  \"hidden_act\": \"silu\",\n",
            "  \"hidden_size\": 4096,\n",
            "  \"image_aspect_ratio\": \"anyres\",\n",
            "  \"image_crop_resolution\": 224,\n",
            "  \"image_grid_pinpoints\": [\n",
            "    [\n",
            "      336,\n",
            "      672\n",
            "    ],\n",
            "    [\n",
            "      672,\n",
            "      336\n",
            "    ],\n",
            "    [\n",
            "      672,\n",
            "      672\n",
            "    ],\n",
            "    [\n",
            "      1008,\n",
            "      336\n",
            "    ],\n",
            "    [\n",
            "      336,\n",
            "      1008\n",
            "    ]\n",
            "  ],\n",
            "  \"image_split_resolution\": 224,\n",
            "  \"initializer_range\": 0.02,\n",
            "  \"intermediate_size\": 11008,\n",
            "  \"max_position_embeddings\": 4096,\n",
            "  \"mm_hidden_size\": 1024,\n",
            "  \"mm_patch_merge_type\": \"spatial_unpad\",\n",
            "  \"mm_projector_lr\": null,\n",
            "  \"mm_projector_type\": \"mlp2x_gelu\",\n",
            "  \"mm_resampler_type\": null,\n",
            "  \"mm_use_im_patch_token\": false,\n",
            "  \"mm_use_im_start_end\": false,\n",
            "  \"mm_vision_select_feature\": \"patch\",\n",
            "  \"mm_vision_select_layer\": -2,\n",
            "  \"mm_vision_tower\": \"openai/clip-vit-large-patch14-336\",\n",
            "  \"mm_vision_tower_lr\": 2e-06,\n",
            "  \"model_type\": \"llava_llama\",\n",
            "  \"num_attention_heads\": 32,\n",
            "  \"num_hidden_layers\": 32,\n",
            "  \"num_key_value_heads\": 32,\n",
            "  \"pad_token_id\": 0,\n",
            "  \"pretraining_tp\": 1,\n",
            "  \"rms_norm_eps\": 1e-05,\n",
            "  \"rope_scaling\": null,\n",
            "  \"rope_theta\": 10000.0,\n",
            "  \"tie_word_embeddings\": false,\n",
            "  \"tokenizer_model_max_length\": 4096,\n",
            "  \"tokenizer_padding_side\": \"right\",\n",
            "  \"torch_dtype\": \"bfloat16\",\n",
            "  \"transformers_version\": \"4.37.2\",\n",
            "  \"tune_mm_mlp_adapter\": false,\n",
            "  \"tune_mm_vision_resampler\": false,\n",
            "  \"unfreeze_mm_vision_tower\": true,\n",
            "  \"use_cache\": true,\n",
            "  \"use_mm_proj\": true,\n",
            "  \"vocab_size\": 32000\n",
            "}\n",
            "\n",
            "0\n",
            "LlamaTokenizer(name_or_path='liuhaotian/llava-v1.6-vicuna-7b', vocab_size=32000, model_max_length=4096, is_fast=False, padding_side='right', truncation_side='right', special_tokens={'bos_token': '<s>', 'eos_token': '</s>', 'unk_token': '<unk>', 'pad_token': '<unk>'}, clean_up_tokenization_spaces=False),  added_tokens_decoder={\n",
            "\t0: AddedToken(\"<unk>\", rstrip=False, lstrip=False, single_word=False, normalized=False, special=True),\n",
            "\t1: AddedToken(\"<s>\", rstrip=False, lstrip=False, single_word=False, normalized=False, special=True),\n",
            "\t2: AddedToken(\"</s>\", rstrip=False, lstrip=False, single_word=False, normalized=False, special=True),\n",
            "}\n"
          ]
        }
      ],
      "source": [
        "print(model.config)\n",
        "print(tokenizer.pad_token_id)\n",
        "print(tokenizer)"
      ]
    },
    {
      "cell_type": "code",
      "execution_count": null,
      "id": "4a8dfbd0-c0bf-4e19-adc1-0f5909413c86",
      "metadata": {
        "id": "4a8dfbd0-c0bf-4e19-adc1-0f5909413c86",
        "outputId": "102a0ffe-4173-49b2-97fe-2f12323ba403",
        "tags": []
      },
      "outputs": [
        {
          "name": "stdout",
          "output_type": "stream",
          "text": [
            "Modules not torch.bfloat16:\n"
          ]
        }
      ],
      "source": [
        "import torch\n",
        "\n",
        "# Check dtype of all modules, focusing on those not torch.bfloat16\n",
        "print(\"Modules not torch.bfloat16:\")\n",
        "for name, module in model.named_modules():\n",
        "    if hasattr(module, 'parameters') and list(module.parameters()):\n",
        "        # Check if any parameter of the module is not bfloat16\n",
        "        if any(param.dtype != torch.bfloat16 for param in module.parameters()):\n",
        "            print(f\"{name}: {next(module.parameters()).dtype}\")\n",
        "    else:\n",
        "        # Optionally, acknowledge modules without parameters if needed\n",
        "        pass"
      ]
    },
    {
      "cell_type": "code",
      "execution_count": null,
      "id": "7f382b7a-ed8e-4066-871f-7dc717eb639b",
      "metadata": {
        "id": "7f382b7a-ed8e-4066-871f-7dc717eb639b",
        "outputId": "4623565c-821b-4cbf-d80d-1a8fb46a7f58",
        "tags": []
      },
      "outputs": [
        {
          "name": "stdout",
          "output_type": "stream",
          "text": [
            "transformers version: 4.37.2\n",
            "accelerate version: 0.21.0\n",
            "torch version: 2.1.2+cu121\n"
          ]
        }
      ],
      "source": [
        "import transformers\n",
        "import accelerate\n",
        "import torch\n",
        "\n",
        "print(f\"transformers version: {transformers.__version__}\")\n",
        "print(f\"accelerate version: {accelerate.__version__}\")\n",
        "print(f\"torch version: {torch.__version__}\")\n"
      ]
    },
    {
      "cell_type": "code",
      "execution_count": null,
      "id": "403e8f93-f50a-43cd-bcb4-410ab4edd657",
      "metadata": {
        "id": "403e8f93-f50a-43cd-bcb4-410ab4edd657",
        "tags": []
      },
      "outputs": [],
      "source": [
        "# !pip install torch==2.1.2"
      ]
    },
    {
      "cell_type": "markdown",
      "id": "40e7f3be-25c5-4d53-ae3c-fd8d44460fb5",
      "metadata": {
        "id": "40e7f3be-25c5-4d53-ae3c-fd8d44460fb5",
        "tags": []
      },
      "source": [
        "## Image loading and processing\n"
      ]
    },
    {
      "cell_type": "code",
      "execution_count": null,
      "id": "4f0837d7-0864-45fd-be49-ac323fd30795",
      "metadata": {
        "id": "4f0837d7-0864-45fd-be49-ac323fd30795",
        "tags": []
      },
      "outputs": [],
      "source": [
        "import re\n",
        "import torch\n",
        "from torchvision.transforms import Compose, ToTensor, Normalize\n",
        "from torchvision.transforms.functional import to_pil_image, to_tensor\n",
        "from PIL import Image\n",
        "import requests\n",
        "from io import BytesIO\n",
        "\n",
        "from llava.constants import (\n",
        "    IMAGE_TOKEN_INDEX,\n",
        "    DEFAULT_IMAGE_TOKEN,\n",
        "    DEFAULT_IM_START_TOKEN,\n",
        "    DEFAULT_IM_END_TOKEN,\n",
        "    IMAGE_PLACEHOLDER,\n",
        ")\n",
        "from llava.conversation import conv_templates, SeparatorStyle\n",
        "from llava.model.builder import load_pretrained_model\n",
        "from llava.utils import disable_torch_init\n",
        "from llava.mm_utils import (\n",
        "    process_images,\n",
        "    tokenizer_image_token,\n",
        "    get_model_name_from_path,\n",
        ")\n",
        "\n",
        "# Common function to create prompts\n",
        "def create_prompt(query, model, model_name=model_name, caption=None):\n",
        "    image_token_se = DEFAULT_IM_START_TOKEN + DEFAULT_IMAGE_TOKEN + DEFAULT_IM_END_TOKEN\n",
        "    if IMAGE_PLACEHOLDER in query:\n",
        "        if model.config.mm_use_im_start_end:\n",
        "            query = re.sub(IMAGE_PLACEHOLDER, image_token_se, query)\n",
        "        else:\n",
        "            query = re.sub(IMAGE_PLACEHOLDER, DEFAULT_IMAGE_TOKEN, query)\n",
        "    else:\n",
        "        if model.config.mm_use_im_start_end:\n",
        "            query = image_token_se + \"\\n\" + query\n",
        "        else:\n",
        "            query = DEFAULT_IMAGE_TOKEN + \"\\n\" + query\n",
        "\n",
        "    # print(f\"Prompt: in create prompt {query}\")\n",
        "\n",
        "    conv_mode = infer_conv_mode(model_name)\n",
        "    conv = conv_templates[conv_mode].copy()\n",
        "    conv.append_message(conv.roles[0], query)\n",
        "    if caption is not None:\n",
        "        conv.append_message(conv.roles[1], caption)\n",
        "    else:\n",
        "        conv.append_message(conv.roles[1], None)\n",
        "    return conv.get_prompt()\n",
        "\n",
        "# Common function to infer conversation mode\n",
        "def infer_conv_mode(model_name):\n",
        "    if \"llama-2\" in model_name.lower():\n",
        "        return \"llava_llama_2\"\n",
        "    elif \"mistral\" in model_name.lower():\n",
        "        return \"mistral_instruct\"\n",
        "    elif \"v1.6-34b\" in model_name.lower():\n",
        "        return \"chatml_direct\"\n",
        "    elif \"v1\" in model_name.lower():\n",
        "        return \"llava_v1\"\n",
        "    elif \"mpt\" in model_name.lower():\n",
        "        return \"mpt\"\n",
        "    else:\n",
        "        return \"llava_v0\"\n",
        "\n",
        "def load_image(image_input):\n",
        "    # Check if the input is a string (path or URL)\n",
        "    if isinstance(image_input, str):\n",
        "        if image_input.startswith(\"http\") or image_input.startswith(\"https\"):\n",
        "            response = requests.get(image_input)\n",
        "            image = Image.open(BytesIO(response.content)).convert(\"RGB\")\n",
        "        else:\n",
        "            image = Image.open(image_input).convert(\"RGB\")\n",
        "    elif isinstance(image_input, Image.Image):\n",
        "        # Input is already an Image object, return as is\n",
        "        image = image_input\n",
        "    else:\n",
        "        raise ValueError(\"Unsupported image input type\")\n",
        "    return image\n",
        "\n",
        "def load_images(image_files):\n",
        "    out = []\n",
        "    for image_file in image_files:\n",
        "        image = load_image(image_file)\n",
        "        out.append(image)\n",
        "    return out"
      ]
    },
    {
      "cell_type": "code",
      "execution_count": null,
      "id": "f07ebd25-d62a-4f0c-9782-032c228e5f30",
      "metadata": {
        "id": "f07ebd25-d62a-4f0c-9782-032c228e5f30",
        "tags": []
      },
      "outputs": [],
      "source": [
        "import torch\n",
        "\n",
        "\n",
        "def process_images(images, image_processor, model_config):\n",
        "    processed_images = []\n",
        "    for image in images:\n",
        "        processed_output = image_processor(image)\n",
        "        # Check the type of 'pixel_values'; if it's a list, convert it to a tensor\n",
        "        if isinstance(processed_output['pixel_values'], list):\n",
        "            tensor = torch.tensor(processed_output['pixel_values'])\n",
        "        else:\n",
        "            tensor = processed_output['pixel_values']\n",
        "        processed_images.append(tensor)\n",
        "\n",
        "    # Stack the processed images into a single tensor\n",
        "    images_tensor = torch.stack(processed_images, dim=0)\n",
        "\n",
        "    return images_tensor\n",
        "\n",
        "\n",
        "def process_and_prepare_images(image_files, image_processor, model, device):\n",
        "    images = load_images(image_files)\n",
        "    image_sizes = [x.size for x in images]  # Calculate image sizes once\n",
        "\n",
        "    # Process images and ensure the output is a tensor\n",
        "    images_tensor = process_images(\n",
        "        images,\n",
        "        image_processor,\n",
        "        model.config\n",
        "    ).to(\n",
        "        device,\n",
        "        dtype=torch.bfloat16\n",
        "    )\n",
        "\n",
        "    return images_tensor, image_sizes\n"
      ]
    },
    {
      "cell_type": "code",
      "execution_count": null,
      "id": "feeb1a79-7b58-4a2b-b28a-040f7819e212",
      "metadata": {
        "id": "feeb1a79-7b58-4a2b-b28a-040f7819e212",
        "tags": []
      },
      "outputs": [],
      "source": [
        "# # Assuming `image_processor` is your image processing function and `sample_image` is a single image loaded into memory\n",
        "# processed_output = image_processor(sample_image)\n",
        "\n",
        "# # Print the keys in the processed output\n",
        "# print(processed_output.keys())\n"
      ]
    },
    {
      "cell_type": "markdown",
      "id": "cbfc2831-23d8-4a0c-b75b-054241968292",
      "metadata": {
        "id": "cbfc2831-23d8-4a0c-b75b-054241968292"
      },
      "source": [
        "## eval model function for generating captions via evaluation"
      ]
    },
    {
      "cell_type": "code",
      "execution_count": null,
      "id": "4435cf0d-936a-4e9f-8f78-44e7b4846517",
      "metadata": {
        "id": "4435cf0d-936a-4e9f-8f78-44e7b4846517",
        "tags": []
      },
      "outputs": [],
      "source": [
        "# import torch\n",
        "# import re\n",
        "\n",
        "# def eval_model(tokenizer, model, image_processor, context_len, image_file, query, model_name=model_name, sep=\",\", temperature=1.0, num_beams=1, max_new_tokens=150):\n",
        "#     # Model\n",
        "#     disable_torch_init()\n",
        "\n",
        "#     # Create prompt using the common function\n",
        "#     prompt = create_prompt(query, model, model_name)\n",
        "\n",
        "#     print(f\"Prompt: {prompt}\")\n",
        "\n",
        "#     # Process images using the common function\n",
        "#     if isinstance(image_file, list):\n",
        "#         images_tensor, image_sizes = process_and_prepare_images(image_file, image_processor, model, model.device)\n",
        "#     elif isinstance(image_file, str):\n",
        "#         images_tensor, image_sizes = process_and_prepare_images([image_file], image_processor, model, model.device)\n",
        "#     else:\n",
        "#         # If image_file is neither a list nor a string, it's likely an Image object or similar; wrap it in a list\n",
        "#         images = [image_file]\n",
        "#         images_tensor, image_sizes = process_and_prepare_images(images, image_processor, model, model.device)\n",
        "\n",
        "#     # Tokenize the prompt using the custom tokenizer_image_token function\n",
        "#     input_ids = (\n",
        "#         tokenizer_image_token(prompt, tokenizer, IMAGE_TOKEN_INDEX, return_tensors=\"pt\")\n",
        "#         .unsqueeze(0)\n",
        "#         .to(model.device)\n",
        "#     )\n",
        "\n",
        "#     # print(images_tensor.size())\n",
        "\n",
        "#     with torch.inference_mode():\n",
        "#         output_ids = model.generate(\n",
        "#             input_ids,\n",
        "#             images=images_tensor,\n",
        "#             image_sizes=image_sizes,\n",
        "#             do_sample=temperature != 1.0,\n",
        "#             temperature=temperature,\n",
        "#             # top_p=top_p,\n",
        "#             num_beams=num_beams,\n",
        "#             max_new_tokens=max_new_tokens,\n",
        "#             use_cache=True,\n",
        "#         )\n",
        "\n",
        "#     outputs = tokenizer.batch_decode(output_ids, skip_special_tokens=False)[0].strip()\n",
        "#     print(outputs)"
      ]
    },
    {
      "cell_type": "code",
      "execution_count": null,
      "id": "3ee6eb95-9e37-4984-a2c3-7da7c3e2b173",
      "metadata": {
        "id": "3ee6eb95-9e37-4984-a2c3-7da7c3e2b173",
        "tags": []
      },
      "outputs": [],
      "source": [
        "import torch\n",
        "import re\n",
        "\n",
        "def eval_model(tokenizer, model, image_processor, context_len, image_file, query, model_name=model_name, sep=\",\", temperature=1.0, num_beams=1, max_new_tokens=150):\n",
        "    # Model setup\n",
        "    disable_torch_init()\n",
        "\n",
        "    # Create prompt using the common function\n",
        "    prompt = create_prompt(query, model, model_name)\n",
        "\n",
        "    # Process images using the common function\n",
        "    if isinstance(image_file, list):\n",
        "        images_tensor, image_sizes = process_and_prepare_images(image_file, image_processor, model, model.device)\n",
        "    elif isinstance(image_file, str):\n",
        "        images_tensor, image_sizes = process_and_prepare_images([image_file], image_processor, model, model.device)\n",
        "    else:\n",
        "        # If image_file is neither a list nor a string, it's likely an Image object or similar; wrap it in a list\n",
        "        images = [image_file]\n",
        "        images_tensor, image_sizes = process_and_prepare_images(images, image_processor, model, model.device)\n",
        "\n",
        "    # Tokenize the prompt using the custom tokenizer_image_token function\n",
        "    input_ids = (\n",
        "        tokenizer_image_token(prompt, tokenizer, IMAGE_TOKEN_INDEX, return_tensors=\"pt\")\n",
        "        .unsqueeze(0)\n",
        "        .to(model.device)\n",
        "    )\n",
        "\n",
        "    with torch.inference_mode():\n",
        "        output_ids = model.generate(\n",
        "            input_ids,\n",
        "            images=images_tensor,\n",
        "            image_sizes=image_sizes,\n",
        "            do_sample=temperature != 1.0,\n",
        "            temperature=temperature,\n",
        "            num_beams=num_beams,    #this decides koita sequence generate hobe, num_beams = 1 disi so 1ta sequence generate hobe\n",
        "            max_new_tokens=max_new_tokens,\n",
        "            use_cache=True,\n",
        "        )\n",
        "\n",
        "    # Decode the output, removing special tokens for cleaner captions\n",
        "    outputs = tokenizer.batch_decode(output_ids, skip_special_tokens=True)[0].strip()\n",
        "\n",
        "    return outputs\n"
      ]
    },
    {
      "cell_type": "markdown",
      "id": "b7a027c4-0c63-4085-be74-4de1c7413bd3",
      "metadata": {
        "id": "b7a027c4-0c63-4085-be74-4de1c7413bd3"
      },
      "source": [
        "### Method to test the model's inference"
      ]
    },
    {
      "cell_type": "code",
      "execution_count": null,
      "id": "a4c56471-fcca-4586-9c47-978cb4320d8a",
      "metadata": {
        "id": "a4c56471-fcca-4586-9c47-978cb4320d8a",
        "outputId": "93b8a451-6376-42c9-d086-6734aea4eac6",
        "tags": []
      },
      "outputs": [
        {
          "data": {
            "text/plain": [
              "'/home/jupyter/LLaVA'"
            ]
          },
          "execution_count": 17,
          "metadata": {},
          "output_type": "execute_result"
        }
      ],
      "source": [
        "os.getcwd()"
      ]
    },
    {
      "cell_type": "code",
      "execution_count": null,
      "id": "13ddb6ff-2062-4f58-aadb-16b7269f376c",
      "metadata": {
        "id": "13ddb6ff-2062-4f58-aadb-16b7269f376c",
        "outputId": "c513831a-e824-4e01-f858-ff7b90626d8f",
        "tags": []
      },
      "outputs": [
        {
          "data": {
            "image/png": "[encoded data removed]",
            "text/plain": [
              "<Figure size 640x480 with 1 Axes>"
            ]
          },
          "metadata": {},
          "output_type": "display_data"
        },
        {
          "name": "stdout",
          "output_type": "stream",
          "text": [
            "Prompt: A chat between a curious human and an artificial intelligence assistant. The assistant gives helpful, detailed, and polite answers to the human's questions. USER: <image>\n",
            "What do you see in this picture? ASSISTANT:\n"
          ]
        },
        {
          "name": "stderr",
          "output_type": "stream",
          "text": [
            "/var/tmp/ipykernel_8579/4265429433.py:22: UserWarning: Creating a tensor from a list of numpy.ndarrays is extremely slow. Please consider converting the list to a single numpy.ndarray with numpy.array() before converting to a tensor. (Triggered internally at ../torch/csrc/utils/tensor_new.cpp:261.)\n",
            "  tensor = torch.tensor(processed_output['pixel_values'])\n"
          ]
        },
        {
          "name": "stdout",
          "output_type": "stream",
          "text": [
            "<s> The image appears to be a medical scan, likely an X-ray or CT scan, showing the abdominal area of a person. There are several areas highlighted with arrows, which are typically used to indicate areas of interest or concern. The red arrow points to a region that might be of interest to a medical professional, possibly indicating a mass or an area of concern that requires further investigation. The other arrows seem to be pointing to other areas of interest, but without additional context, it's difficult to determine what they are specifically highlighting. It's important to note that medical imaging should only be interpreted by qualified medical professionals.</s>\n"
          ]
        }
      ],
      "source": [
        "import requests\n",
        "from PIL import Image\n",
        "from io import BytesIO\n",
        "\n",
        "\n",
        "image_url = '/home/jupyter/imageCLEF 2024 subset/Train/ImageCLEFmedical_Caption_2024_train_000038.jpg'\n",
        "image = Image.open(image_url).convert(\"RGB\")\n",
        "\n",
        "\n",
        "\n",
        "image=load_image(image_url)\n",
        "\n",
        "import matplotlib.pyplot as plt\n",
        "# Display the image using matplotlib\n",
        "plt.imshow(image)\n",
        "plt.axis('off')  # Turn off axis numbers and ticks\n",
        "plt.show()\n",
        "\n",
        "# pass the processed image to eval_model\n",
        "eval_model(\n",
        "    tokenizer,\n",
        "    model,\n",
        "    image_processor,\n",
        "    context_len,\n",
        "    image,  # Use the processed image\n",
        "    \"What do you see in this picture?\"\n",
        ")"
      ]
    },
    {
      "cell_type": "code",
      "execution_count": null,
      "id": "0c18686b-7771-4e3c-89f0-6b4fbe72a6f0",
      "metadata": {
        "id": "0c18686b-7771-4e3c-89f0-6b4fbe72a6f0"
      },
      "outputs": [],
      "source": [
        "# os.chdir('/home/jupyter/LLaVA')"
      ]
    },
    {
      "cell_type": "code",
      "execution_count": null,
      "id": "140fed7c-c5ce-4d04-a610-0ec376733ffc",
      "metadata": {
        "id": "140fed7c-c5ce-4d04-a610-0ec376733ffc",
        "outputId": "af241e77-1ef3-4143-bf6d-5667fa01a227",
        "tags": []
      },
      "outputs": [
        {
          "data": {
            "text/plain": [
              "'/home/jupyter/LLaVA'"
            ]
          },
          "execution_count": 24,
          "metadata": {},
          "output_type": "execute_result"
        }
      ],
      "source": [
        "os.getcwd()"
      ]
    },
    {
      "cell_type": "markdown",
      "id": "a9006832-ac0f-4603-b4f2-7407684f203c",
      "metadata": {
        "id": "a9006832-ac0f-4603-b4f2-7407684f203c"
      },
      "source": [
        "# Finetuning dataset\n",
        "\n",
        "Prepare the dataset that will be used for finetuning"
      ]
    },
    {
      "cell_type": "code",
      "execution_count": null,
      "id": "7fd73a79-8fd9-435e-a446-8cd3b9aad0ab",
      "metadata": {
        "id": "7fd73a79-8fd9-435e-a446-8cd3b9aad0ab",
        "tags": []
      },
      "outputs": [],
      "source": [
        "import pandas as pd\n",
        "from datasets import Dataset, DatasetDict, Features, Value, Image"
      ]
    },
    {
      "cell_type": "code",
      "execution_count": null,
      "id": "37ed7a62-fa03-4e92-97f8-c40371dafc03",
      "metadata": {
        "colab": {
          "referenced_widgets": [
            "fab4aa9dc47f4b5d9db907b399cda82f"
          ]
        },
        "id": "37ed7a62-fa03-4e92-97f8-c40371dafc03",
        "outputId": "b7891b2a-0e20-4dd2-eadf-04b391d08f1a",
        "tags": []
      },
      "outputs": [
        {
          "data": {
            "application/vnd.jupyter.widget-view+json": {
              "model_id": "fab4aa9dc47f4b5d9db907b399cda82f",
              "version_major": 2,
              "version_minor": 0
            },
            "text/plain": [
              "VBox(children=(HTML(value='<center> <img\\nsrc=https://huggingface.co/front/assets/huggingface_logo-noborder.sv…"
            ]
          },
          "metadata": {},
          "output_type": "display_data"
        }
      ],
      "source": [
        "from huggingface_hub import notebook_login\n",
        "\n",
        "notebook_login()\n"
      ]
    },
    {
      "cell_type": "code",
      "execution_count": null,
      "id": "ebd78227-edc4-4245-b467-dd08f7f2448c",
      "metadata": {
        "id": "ebd78227-edc4-4245-b467-dd08f7f2448c",
        "outputId": "f2e7f953-fab2-4e69-a05d-614b5c7db351"
      },
      "outputs": [
        {
          "name": "stderr",
          "output_type": "stream",
          "text": [
            "Parameter 'transform'=<function transform_batch at 0x7f3c66fbee50> of the transform datasets.arrow_dataset.Dataset.set_format couldn't be hashed properly, a random hash was used instead. Make sure your transforms and parameters are serializable with pickle or dill for the dataset fingerprinting and caching to work. If you reuse this transform, the caching mechanism will consider it to be different from the previous calls and recompute everything. This warning is only showed once. Subsequent hashing failures won't be showed.\n"
          ]
        }
      ],
      "source": [
        "from torch.nn.utils.rnn import pad_sequence\n",
        "\n",
        "def tokenize_and_create_labels(example_batch, image_processor, tokenizer, model, device, model_name=model_name, ignore_index=-100, image_token_index=IMAGE_TOKEN_INDEX):\n",
        "    pad_token_id = tokenizer.pad_token_id\n",
        "    image_files = example_batch['image']\n",
        "\n",
        "    images_tensor, image_sizes = process_and_prepare_images(image_files, image_processor, model, device)\n",
        "\n",
        "    query = \"What do you see in this picture?\"\n",
        "\n",
        "    # Tokenize the conversation without the captions to determine which tokens to ignore\n",
        "    tokenized_conversations_without_caption = [\n",
        "        tokenizer_image_token(create_prompt(query, model, model_name, None), tokenizer, image_token_index, return_tensors=\"pt\")\n",
        "        for _ in example_batch['caption']\n",
        "    ]\n",
        "\n",
        "    # Tokenize the full conversations with the captions\n",
        "    tokenized_conversations_with_caption = [\n",
        "        tokenizer_image_token(create_prompt(query, model, model_name, caption), tokenizer, image_token_index, return_tensors=\"pt\")\n",
        "        for caption in example_batch['caption']\n",
        "    ]\n",
        "\n",
        "    # Pad the tokenized conversations to the same length\n",
        "    input_ids = pad_sequence([tcwc.squeeze(0) for tcwc in tokenized_conversations_with_caption], batch_first=True, padding_value=pad_token_id).to(device)\n",
        "\n",
        "    # Create attention_mask (1 for real tokens and 0 for padding tokens)\n",
        "    attention_mask = (input_ids != pad_token_id).long().to(device)\n",
        "\n",
        "    # Create the labels tensor which is a copy of input_ids but with ignore_index for non-caption tokens\n",
        "    labels = torch.full_like(input_ids, fill_value=ignore_index)\n",
        "    for i, tcwc in enumerate(tokenized_conversations_without_caption):\n",
        "        # Set ignore_index for the tokens corresponding to the conversation without the caption\n",
        "        input_id_without_caption = tcwc.squeeze(0)\n",
        "        labels[i, len(input_id_without_caption):] = input_ids[i, len(input_id_without_caption):]\n",
        "\n",
        "    inputs = {\n",
        "        \"input_ids\": input_ids,\n",
        "        \"attention_mask\": attention_mask,\n",
        "        \"images\": images_tensor,\n",
        "        \"image_sizes\": image_sizes,\n",
        "        \"labels\": labels,\n",
        "    }\n",
        "\n",
        "    return inputs\n",
        "\n",
        "# Make sure to define the function outside of the lambda to ensure it's serializable\n",
        "def transform_batch(batch):\n",
        "    return tokenize_and_create_labels(batch, image_processor, tokenizer, model, device, model_name)\n",
        "\n",
        "# load and prepare dataset\n",
        "ds = load_dataset(\"HoqueMahmudul/clef2024_train_valid_a\")\n",
        "\n",
        "train_ds = ds[\"train\"]\n",
        "eval_ds = ds[\"test\"]\n",
        "\n",
        "# print(train_ds)\n",
        "# print(eval_ds)\n",
        "\n",
        "# Apply the transformation function to the dataset\n",
        "train_ds.set_transform(transform_batch)\n",
        "eval_ds.set_transform(transform_batch)"
      ]
    },
    {
      "cell_type": "markdown",
      "id": "f3d24b98-e84e-4af6-a36f-3e5a52dbcf5f",
      "metadata": {
        "id": "f3d24b98-e84e-4af6-a36f-3e5a52dbcf5f"
      },
      "source": [
        "#### Addressing the Attention Mask Warning and Pad Token ID"
      ]
    },
    {
      "cell_type": "code",
      "execution_count": null,
      "id": "45a460c2-3d2e-4cf5-b292-6ea742881140",
      "metadata": {
        "id": "45a460c2-3d2e-4cf5-b292-6ea742881140"
      },
      "outputs": [],
      "source": [
        "# from torch.nn.utils.rnn import pad_sequence\n",
        "\n",
        "# def tokenize_and_create_labels(example_batch, image_processor, tokenizer, model, device, model_name=model_name, ignore_index=-100, image_token_index=IMAGE_TOKEN_INDEX):\n",
        "#     pad_token_id = tokenizer.pad_token_id\n",
        "#     image_files = example_batch['image']\n",
        "\n",
        "#     images_tensor, image_sizes = process_and_prepare_images(image_files, image_processor, model, device)\n",
        "\n",
        "#     query = \"What do you see in this picture?\"\n",
        "\n",
        "#     # Tokenize the conversation without the captions to determine which tokens to ignore\n",
        "#     tokenized_conversations_without_caption = [\n",
        "#         tokenizer_image_token(create_prompt(query, model, model_name, None), tokenizer, image_token_index, return_tensors=\"pt\")\n",
        "#         for _ in example_batch['caption']\n",
        "#     ]\n",
        "\n",
        "#     # Tokenize the full conversations with the captions\n",
        "#     tokenized_conversations_with_caption = [\n",
        "#         tokenizer_image_token(create_prompt(query, model, model_name, caption), tokenizer, image_token_index, return_tensors=\"pt\")\n",
        "#         for caption in example_batch['caption']\n",
        "#     ]\n",
        "\n",
        "#     # Pad the tokenized conversations to the same length\n",
        "#     input_ids = pad_sequence([tcwc.squeeze(0) for tcwc in tokenized_conversations_with_caption], batch_first=True, padding_value=pad_token_id).to(device)\n",
        "\n",
        "#     # Create attention_mask (1 for real tokens and 0 for padding tokens)\n",
        "#     attention_mask = (input_ids != pad_token_id).long().to(device)\n",
        "\n",
        "#     # Create the labels tensor which is a copy of input_ids but with ignore_index for non-caption tokens\n",
        "#     labels = torch.full_like(input_ids, fill_value=ignore_index)\n",
        "#     for i, tcwc in enumerate(tokenized_conversations_without_caption):\n",
        "#         # Set ignore_index for the tokens corresponding to the conversation without the caption\n",
        "#         input_id_without_caption = tcwc.squeeze(0)\n",
        "#         labels[i, len(input_id_without_caption):] = input_ids[i, len(input_id_without_caption):]\n",
        "\n",
        "#     inputs = {\n",
        "#         \"input_ids\": input_ids,\n",
        "#         \"attention_mask\": attention_mask,\n",
        "#         \"images\": images_tensor,\n",
        "#         \"image_sizes\": image_sizes,\n",
        "#         \"labels\": labels,\n",
        "#     }\n",
        "\n",
        "#     return inputs\n",
        "\n",
        "# # Make sure to define the function outside of the lambda to ensure it's serializable\n",
        "# def transform_batch(batch):\n",
        "#     return tokenize_and_create_labels(batch, image_processor, tokenizer, model, device, model_name)\n",
        "\n",
        "# # load and prepare dataset\n",
        "# ds = load_dataset(\"HoqueMahmudul/test\")\n",
        "\n",
        "# train_ds = ds[\"train\"]\n",
        "# eval_ds = ds[\"test\"]\n",
        "\n",
        "# # print(train_ds)\n",
        "# # print(eval_ds)\n",
        "\n",
        "# # Apply the transformation function to the dataset\n",
        "# train_ds.set_transform(transform_batch)\n",
        "# eval_ds.set_transform(transform_batch)"
      ]
    },
    {
      "cell_type": "code",
      "execution_count": null,
      "id": "7405552a-13d4-4f00-8a6f-ec55cb7686aa",
      "metadata": {
        "id": "7405552a-13d4-4f00-8a6f-ec55cb7686aa"
      },
      "outputs": [],
      "source": [
        "# for batch in eval_ds:\n",
        "#     print(batch)"
      ]
    },
    {
      "cell_type": "markdown",
      "id": "1f5b3d47-f055-4d62-b32a-cbc72149ea91",
      "metadata": {
        "id": "1f5b3d47-f055-4d62-b32a-cbc72149ea91"
      },
      "source": [
        "# LoRA\n"
      ]
    },
    {
      "cell_type": "code",
      "execution_count": null,
      "id": "91408fba-7dae-402c-8231-b24689af6520",
      "metadata": {
        "id": "91408fba-7dae-402c-8231-b24689af6520",
        "outputId": "692cacfe-4179-4180-db32-00cd2d511db6",
        "tags": []
      },
      "outputs": [
        {
          "name": "stdout",
          "output_type": "stream",
          "text": [
            "LlavaMistralForCausalLM(\n",
            "  (model): LlavaMistralModel(\n",
            "    (embed_tokens): Embedding(32000, 4096)\n",
            "    (layers): ModuleList(\n",
            "      (0-31): 32 x MistralDecoderLayer(\n",
            "        (self_attn): MistralSdpaAttention(\n",
            "          (q_proj): Linear(in_features=4096, out_features=4096, bias=False)\n",
            "          (k_proj): Linear(in_features=4096, out_features=1024, bias=False)\n",
            "          (v_proj): Linear(in_features=4096, out_features=1024, bias=False)\n",
            "          (o_proj): Linear(in_features=4096, out_features=4096, bias=False)\n",
            "          (rotary_emb): MistralRotaryEmbedding()\n",
            "        )\n",
            "        (mlp): MistralMLP(\n",
            "          (gate_proj): Linear(in_features=4096, out_features=14336, bias=False)\n",
            "          (up_proj): Linear(in_features=4096, out_features=14336, bias=False)\n",
            "          (down_proj): Linear(in_features=14336, out_features=4096, bias=False)\n",
            "          (act_fn): SiLU()\n",
            "        )\n",
            "        (input_layernorm): MistralRMSNorm()\n",
            "        (post_attention_layernorm): MistralRMSNorm()\n",
            "      )\n",
            "    )\n",
            "    (norm): MistralRMSNorm()\n",
            "    (vision_tower): CLIPVisionTower(\n",
            "      (vision_tower): CLIPVisionModel(\n",
            "        (vision_model): CLIPVisionTransformer(\n",
            "          (embeddings): CLIPVisionEmbeddings(\n",
            "            (patch_embedding): Conv2d(3, 1024, kernel_size=(14, 14), stride=(14, 14), bias=False)\n",
            "            (position_embedding): Embedding(577, 1024)\n",
            "          )\n",
            "          (pre_layrnorm): LayerNorm((1024,), eps=1e-05, elementwise_affine=True)\n",
            "          (encoder): CLIPEncoder(\n",
            "            (layers): ModuleList(\n",
            "              (0-23): 24 x CLIPEncoderLayer(\n",
            "                (self_attn): CLIPAttention(\n",
            "                  (k_proj): Linear(in_features=1024, out_features=1024, bias=True)\n",
            "                  (v_proj): Linear(in_features=1024, out_features=1024, bias=True)\n",
            "                  (q_proj): Linear(in_features=1024, out_features=1024, bias=True)\n",
            "                  (out_proj): Linear(in_features=1024, out_features=1024, bias=True)\n",
            "                )\n",
            "                (layer_norm1): LayerNorm((1024,), eps=1e-05, elementwise_affine=True)\n",
            "                (mlp): CLIPMLP(\n",
            "                  (activation_fn): QuickGELUActivation()\n",
            "                  (fc1): Linear(in_features=1024, out_features=4096, bias=True)\n",
            "                  (fc2): Linear(in_features=4096, out_features=1024, bias=True)\n",
            "                )\n",
            "                (layer_norm2): LayerNorm((1024,), eps=1e-05, elementwise_affine=True)\n",
            "              )\n",
            "            )\n",
            "          )\n",
            "          (post_layernorm): LayerNorm((1024,), eps=1e-05, elementwise_affine=True)\n",
            "        )\n",
            "      )\n",
            "    )\n",
            "    (mm_projector): Sequential(\n",
            "      (0): Linear(in_features=1024, out_features=4096, bias=True)\n",
            "      (1): GELU(approximate='none')\n",
            "      (2): Linear(in_features=4096, out_features=4096, bias=True)\n",
            "    )\n",
            "  )\n",
            "  (lm_head): Linear(in_features=4096, out_features=32000, bias=False)\n",
            ")\n"
          ]
        }
      ],
      "source": [
        "# Mistral\n",
        "print(model)"
      ]
    },
    {
      "cell_type": "code",
      "execution_count": null,
      "id": "f5cd4734-9b9e-44c2-9dd2-15dbd0b02d34",
      "metadata": {
        "id": "f5cd4734-9b9e-44c2-9dd2-15dbd0b02d34",
        "outputId": "b45e541c-07b1-41be-9b42-11bc45b96768",
        "tags": []
      },
      "outputs": [
        {
          "name": "stdout",
          "output_type": "stream",
          "text": [
            "LlavaLlamaForCausalLM(\n",
            "  (model): LlavaLlamaModel(\n",
            "    (embed_tokens): Embedding(32000, 4096, padding_idx=0)\n",
            "    (layers): ModuleList(\n",
            "      (0-31): 32 x LlamaDecoderLayer(\n",
            "        (self_attn): LlamaSdpaAttention(\n",
            "          (q_proj): Linear(in_features=4096, out_features=4096, bias=False)\n",
            "          (k_proj): Linear(in_features=4096, out_features=4096, bias=False)\n",
            "          (v_proj): Linear(in_features=4096, out_features=4096, bias=False)\n",
            "          (o_proj): Linear(in_features=4096, out_features=4096, bias=False)\n",
            "          (rotary_emb): LlamaRotaryEmbedding()\n",
            "        )\n",
            "        (mlp): LlamaMLP(\n",
            "          (gate_proj): Linear(in_features=4096, out_features=11008, bias=False)\n",
            "          (up_proj): Linear(in_features=4096, out_features=11008, bias=False)\n",
            "          (down_proj): Linear(in_features=11008, out_features=4096, bias=False)\n",
            "          (act_fn): SiLU()\n",
            "        )\n",
            "        (input_layernorm): LlamaRMSNorm()\n",
            "        (post_attention_layernorm): LlamaRMSNorm()\n",
            "      )\n",
            "    )\n",
            "    (norm): LlamaRMSNorm()\n",
            "    (vision_tower): CLIPVisionTower(\n",
            "      (vision_tower): CLIPVisionModel(\n",
            "        (vision_model): CLIPVisionTransformer(\n",
            "          (embeddings): CLIPVisionEmbeddings(\n",
            "            (patch_embedding): Conv2d(3, 1024, kernel_size=(14, 14), stride=(14, 14), bias=False)\n",
            "            (position_embedding): Embedding(577, 1024)\n",
            "          )\n",
            "          (pre_layrnorm): LayerNorm((1024,), eps=1e-05, elementwise_affine=True)\n",
            "          (encoder): CLIPEncoder(\n",
            "            (layers): ModuleList(\n",
            "              (0-23): 24 x CLIPEncoderLayer(\n",
            "                (self_attn): CLIPAttention(\n",
            "                  (k_proj): Linear(in_features=1024, out_features=1024, bias=True)\n",
            "                  (v_proj): Linear(in_features=1024, out_features=1024, bias=True)\n",
            "                  (q_proj): Linear(in_features=1024, out_features=1024, bias=True)\n",
            "                  (out_proj): Linear(in_features=1024, out_features=1024, bias=True)\n",
            "                )\n",
            "                (layer_norm1): LayerNorm((1024,), eps=1e-05, elementwise_affine=True)\n",
            "                (mlp): CLIPMLP(\n",
            "                  (activation_fn): QuickGELUActivation()\n",
            "                  (fc1): Linear(in_features=1024, out_features=4096, bias=True)\n",
            "                  (fc2): Linear(in_features=4096, out_features=1024, bias=True)\n",
            "                )\n",
            "                (layer_norm2): LayerNorm((1024,), eps=1e-05, elementwise_affine=True)\n",
            "              )\n",
            "            )\n",
            "          )\n",
            "          (post_layernorm): LayerNorm((1024,), eps=1e-05, elementwise_affine=True)\n",
            "        )\n",
            "      )\n",
            "    )\n",
            "    (mm_projector): Sequential(\n",
            "      (0): Linear(in_features=1024, out_features=4096, bias=True)\n",
            "      (1): GELU(approximate='none')\n",
            "      (2): Linear(in_features=4096, out_features=4096, bias=True)\n",
            "    )\n",
            "  )\n",
            "  (lm_head): Linear(in_features=4096, out_features=32000, bias=False)\n",
            ")\n"
          ]
        }
      ],
      "source": [
        "# Vicuna-llama\n",
        "print(model)"
      ]
    },
    {
      "cell_type": "code",
      "execution_count": null,
      "id": "603ed22c-3f51-4a82-83d8-dcc0cbbc0ff5",
      "metadata": {
        "id": "603ed22c-3f51-4a82-83d8-dcc0cbbc0ff5",
        "tags": []
      },
      "outputs": [],
      "source": [
        "import math\n",
        "\n",
        "config = LoraConfig(\n",
        "    r=32,\n",
        "    lora_alpha = 32 * math.sqrt(32), # this will set the rescaled learning rate to LR * alpha / sqrt (r), with r the rank.\n",
        "    target_modules=[\n",
        "        \"q_proj\", \"k_proj\", \"v_proj\", # attention mechanisms\n",
        "        \"fc1\", \"fc2\", #for llama,\n",
        "        \"mm_projector.0\", #for mistral, train instead \"mm_projector\" - Adapt the multimodal projection layer for better visual-textual alignment\n",
        "        \"mm_projector.2\",\n",
        "        \"up_proj\", \"down_proj\",\"gate_proj\" #Adapt MLP components within transformer blocks, optionally train more linear layers\n",
        "        ],\n",
        "    lora_dropout=0.05,\n",
        "    bias=\"none\",\n",
        ")\n",
        "model = get_peft_model(model, config)"
      ]
    },
    {
      "cell_type": "code",
      "execution_count": null,
      "id": "6176938c-a2eb-4f5e-a2b3-101af2eaffcb",
      "metadata": {
        "id": "6176938c-a2eb-4f5e-a2b3-101af2eaffcb",
        "tags": []
      },
      "outputs": [],
      "source": [
        "# List to hold the names of the trainable parameters\n",
        "set_other_trainable=True\n",
        "\n",
        "if set_other_trainable:\n",
        "    trainable_params_names = ['lm_head','embed_tokens']\n",
        "    # trainable_params_names = None\n",
        "\n",
        "    # Set modules to be trainable\n",
        "    for n, p in model.named_parameters():\n",
        "        if any(k in n for k in trainable_params_names):\n",
        "            p.requires_grad_(True)\n",
        "        # else:\n",
        "        #     p.requires_grad_(False)  # Optional: Set the rest to be not trainable\n",
        "\n",
        "    # Make a dictionary of trainable parameters\n",
        "    trainable_params = {n: p for n, p in model.named_parameters() if p.requires_grad}\n",
        "\n",
        "    # Convert trainable_params to state_dict format\n",
        "    trainable_params_state_dict = {n: p.data for n, p in trainable_params.items()}"
      ]
    },
    {
      "cell_type": "code",
      "execution_count": null,
      "id": "fc79711a-ecb4-4369-9b93-9fa3555e2a5b",
      "metadata": {
        "id": "fc79711a-ecb4-4369-9b93-9fa3555e2a5b",
        "outputId": "749f4cb2-ca07-4cf7-84be-d036397e1a5c",
        "tags": []
      },
      "outputs": [
        {
          "name": "stdout",
          "output_type": "stream",
          "text": [
            "trainable params: 346,718,208 || all params: 7,147,481,088 || trainable%: 4.850914661139989\n"
          ]
        }
      ],
      "source": [
        "model.print_trainable_parameters()"
      ]
    },
    {
      "cell_type": "markdown",
      "id": "b726e40f-b419-41aa-b15d-97c8b546d293",
      "metadata": {
        "id": "b726e40f-b419-41aa-b15d-97c8b546d293"
      },
      "source": [
        "# Pre-Training Evaluation"
      ]
    },
    {
      "cell_type": "code",
      "execution_count": null,
      "id": "a0c8ad10-adab-4e01-a96a-b7798218a02a",
      "metadata": {
        "id": "a0c8ad10-adab-4e01-a96a-b7798218a02a",
        "tags": []
      },
      "outputs": [],
      "source": [
        "from PIL import Image"
      ]
    },
    {
      "cell_type": "code",
      "execution_count": 2,
      "id": "0dac1641-08e9-45cb-a719-28e450885c19",
      "metadata": {
        "id": "0dac1641-08e9-45cb-a719-28e450885c19",
        "tags": []
      },
      "outputs": [],
      "source": [
        "# import matplotlib.pyplot as plt\n",
        "\n",
        "# # Temporarily disable the transformation to access the original data\n",
        "# eval_ds.reset_format()\n",
        "\n",
        "# # Limit the number of images to process\n",
        "# num_images_to_process = 5\n",
        "\n",
        "# # Iterate over each example in the evaluation dataset, but only up to num_images_to_process\n",
        "# for i in range(min(num_images_to_process, len(eval_ds))):\n",
        "#     # Access the original image and caption for the current row\n",
        "#     image = eval_ds[i]['image']\n",
        "#     caption = eval_ds[i]['caption']\n",
        "\n",
        "#     # Display the image using matplotlib\n",
        "#     plt.imshow(image)\n",
        "#     plt.axis('off')  # Turn off axis numbers and ticks\n",
        "#     plt.show()\n",
        "\n",
        "#     # Evaluate the model for the given image\n",
        "#     eval_model(\n",
        "#         tokenizer,\n",
        "#         model,\n",
        "#         image_processor,\n",
        "#         context_len,\n",
        "#         image,\n",
        "#         \"What do you see in this picture?\"\n",
        "#     )\n",
        "\n",
        "#     # Print the correct caption\n",
        "#     print(f\"\\nCorrect caption: {caption}\\n\\n\")\n",
        "\n",
        "# # Re-enable the transformation if needed\n",
        "# eval_ds.set_transform(lambda batch: tokenize_and_create_labels(batch, image_processor, tokenizer, model, device))\n"
      ]
    },
    {
      "cell_type": "markdown",
      "id": "33a7e276-bd1d-4419-a12e-07be0c8c8502",
      "metadata": {
        "id": "33a7e276-bd1d-4419-a12e-07be0c8c8502"
      },
      "source": [
        "# Training\n",
        "\n"
      ]
    },
    {
      "cell_type": "code",
      "execution_count": null,
      "id": "92d5e45d-b587-491c-8155-66d84158df84",
      "metadata": {
        "id": "92d5e45d-b587-491c-8155-66d84158df84",
        "tags": []
      },
      "outputs": [],
      "source": [
        "batch_size = 4  # Specify the batch size"
      ]
    },
    {
      "cell_type": "code",
      "execution_count": null,
      "id": "a82f402c-c3ef-4d85-ba21-cb1c86a7e113",
      "metadata": {
        "id": "a82f402c-c3ef-4d85-ba21-cb1c86a7e113",
        "outputId": "2b1e902c-1e12-454e-81e9-290661724f6d",
        "tags": []
      },
      "outputs": [
        {
          "name": "stderr",
          "output_type": "stream",
          "text": [
            "/var/tmp/ipykernel_10744/4265429433.py:22: UserWarning: Creating a tensor from a list of numpy.ndarrays is extremely slow. Please consider converting the list to a single numpy.ndarray with numpy.array() before converting to a tensor. (Triggered internally at ../torch/csrc/utils/tensor_new.cpp:261.)\n",
            "  tensor = torch.tensor(processed_output['pixel_values'])\n"
          ]
        },
        {
          "name": "stdout",
          "output_type": "stream",
          "text": [
            "dict_keys(['input_ids', 'attention_mask', 'images', 'image_sizes', 'labels'])\n",
            "Images are included in the DataLoader.\n",
            "Batch 'images' shape: torch.Size([4, 1, 3, 336, 336])\n",
            "First row of 'input_ids': \n",
            "[1, 319, 13563, 1546, 263, 12758, 5199, 322, 385, 23116, 21082, 20255, 29889, 450, 20255, 4076, 8444, 29892, 13173, 29892, 322, 1248, 568, 6089, 304, 278, 5199, 29915, 29879, 5155, 29889, 3148, 1001, 29901, 29871, -200, 29871, 13, 5618, 437, 366, 1074, 297, 445, 7623, 29973, 319, 1799, 9047, 13566, 29901, 12699, 284, 1776, 310, 2343, 322, 315, 29899, 1028, 457, 515, 11247, 3970, 29990, 6445, 385, 633, 8945, 315, 29906, 24241, 1182, 284, 3573, 411, 10757, 310, 1014, 29880, 1314, 362, 29889, 2, 0, 0, 0, 0, 0, 0, 0, 0, 0, 0, 0, 0, 0, 0, 0, 0, 0, 0, 0, 0]\n",
            "Text inputs are included in the DataLoader.\n",
            "Batch 'input_ids' shape: torch.Size([4, 104])\n",
            "Batch 'attention_mask' shape: torch.Size([4, 104])\n",
            "Labels: ['[IGNORE]', '[IGNORE]', '[IGNORE]', '[IGNORE]', '[IGNORE]', '[IGNORE]', '[IGNORE]', '[IGNORE]', '[IGNORE]', '[IGNORE]', '[IGNORE]', '[IGNORE]', '[IGNORE]', '[IGNORE]', '[IGNORE]', '[IGNORE]', '[IGNORE]', '[IGNORE]', '[IGNORE]', '[IGNORE]', '[IGNORE]', '[IGNORE]', '[IGNORE]', '[IGNORE]', '[IGNORE]', '[IGNORE]', '[IGNORE]', '[IGNORE]', '[IGNORE]', '[IGNORE]', '[IGNORE]', '[IGNORE]', '[IGNORE]', '[IGNORE]', '[IGNORE]', '[IGNORE]', '[IGNORE]', '[IGNORE]', '[IGNORE]', '[IGNORE]', '[IGNORE]', '[IGNORE]', '[IGNORE]', '[IGNORE]', '[IGNORE]', '[IGNORE]', '[IGNORE]', '[IGNORE]', '[IGNORE]', '[IGNORE]', '[IGNORE]', '12699', '284', '1776', '310', '2343', '322', '315', '29899', '1028', '457', '515', '11247', '3970', '29990', '6445', '385', '633', '8945', '315', '29906', '24241', '1182', '284', '3573', '411', '10757', '310', '1014', '29880', '1314', '362', '29889', '2', '0', '0', '0', '0', '0', '0', '0', '0', '0', '0', '0', '0', '0', '0', '0', '0', '0', '0', '0', '0']\n",
            "Attention mask: [1, 1, 1, 1, 1, 1, 1, 1, 1, 1, 1, 1, 1, 1, 1, 1, 1, 1, 1, 1, 1, 1, 1, 1, 1, 1, 1, 1, 1, 1, 1, 1, 1, 1, 1, 1, 1, 1, 1, 1, 1, 1, 1, 1, 1, 1, 1, 1, 1, 1, 1, 1, 1, 1, 1, 1, 1, 1, 1, 1, 1, 1, 1, 1, 1, 1, 1, 1, 1, 1, 1, 1, 1, 1, 1, 1, 1, 1, 1, 1, 1, 1, 1, 1, 0, 0, 0, 0, 0, 0, 0, 0, 0, 0, 0, 0, 0, 0, 0, 0, 0, 0, 0, 0]\n",
            "First Row Image Data type: torch.bfloat16\n",
            "First Row Image Shape: torch.Size([1, 3, 336, 336])\n",
            "First Row Image Value range: [-1.7890625, 2.140625]\n"
          ]
        }
      ],
      "source": [
        "from torch.utils.data import DataLoader\n",
        "import matplotlib.pyplot as plt\n",
        "import numpy as np\n",
        "\n",
        "# Assuming train_ds is your training dataset prepared as a PyTorch Dataset object\n",
        "train_loader = DataLoader(train_ds, batch_size=batch_size, shuffle=True)\n",
        "\n",
        "# Assuming train_loader is your DataLoader instance for the training dataset\n",
        "for batch in train_loader:\n",
        "    print(batch.keys())  # Print the dictionary keys to see what data is included in a batch\n",
        "\n",
        "    # If 'images' is a key, this indicates that images are being loaded\n",
        "    if 'images' in batch:\n",
        "        print(\"Images are included in the DataLoader.\")\n",
        "        print(f\"Batch 'images' shape: {batch['images'].shape}\")  # Print the shape of the images tensor\n",
        "\n",
        "    # Similarly, check for other expected keys, like 'input_ids' and 'attention_mask'\n",
        "    if 'input_ids' in batch and 'attention_mask' in batch:\n",
        "        # Print the first row of input_ids to check for out-of-range token IDs\n",
        "        input_ids_first_row = batch['input_ids'][1]\n",
        "        print(f\"First row of 'input_ids': \\n{input_ids_first_row.tolist()}\")\n",
        "\n",
        "        # # Check if any token IDs are out of range\n",
        "        # vocab_size = tokenizer.vocab_size\n",
        "        # out_of_range_tokens = [token_id for token_id in input_ids_first_row if token_id >= vocab_size]\n",
        "        # if out_of_range_tokens:\n",
        "        #     print(f\"Out-of-range token IDs: {out_of_range_tokens}\")\n",
        "\n",
        "        # # Decode the first row of input_ids to text, if all token IDs are in range\n",
        "        # if not out_of_range_tokens:\n",
        "        #     decoded_inputs = tokenizer.decode(input_ids_first_row, skip_special_tokens=False)\n",
        "        #     print(f\"Decoded input tokens: {decoded_inputs}\")\n",
        "        # else:\n",
        "        #     print(\"Cannot decode input_ids due to out-of-range token IDs.\")\n",
        "\n",
        "        print(\"Text inputs are included in the DataLoader.\")\n",
        "        print(f\"Batch 'input_ids' shape: {batch['input_ids'].shape}\")\n",
        "        print(f\"Batch 'attention_mask' shape: {batch['attention_mask'].shape}\")\n",
        "\n",
        "        # # Decode the first row of input_ids to text\n",
        "        # decoded_inputs = tokenizer.decode(batch['input_ids'][0], skip_special_tokens=False)\n",
        "        # print(f\"Decoded input tokens: {decoded_inputs}\")\n",
        "\n",
        "        # Print the first row of labels, replacing ignore_index with the string '[IGNORE]'\n",
        "        labels = batch['labels'][1].tolist()\n",
        "        labels_str = ['[IGNORE]' if label == -100 else str(label) for label in labels]\n",
        "        print(f\"Labels: {labels_str}\")\n",
        "\n",
        "        # Print the first row of the attention_mask\n",
        "        attention_mask_str = batch['attention_mask'][1].tolist()\n",
        "        print(f\"Attention mask: {attention_mask_str}\")\n",
        "\n",
        "    # Optionally, display an image from the batch to visually confirm loading\n",
        "    if 'images' in batch:\n",
        "        image_tensor = batch['images'][1]\n",
        "        print(f\"First Row Image Data type: {image_tensor.dtype}\")\n",
        "        print(f\"First Row Image Shape: {image_tensor.shape}\")\n",
        "        print(f\"First Row Image Value range: [{image_tensor.min()}, {image_tensor.max()}]\")\n",
        "\n",
        "    break  # Only check the first batch"
      ]
    },
    {
      "cell_type": "code",
      "execution_count": null,
      "id": "476a929f-b54a-4ff6-9b43-9cb6e25a5f21",
      "metadata": {
        "id": "476a929f-b54a-4ff6-9b43-9cb6e25a5f21",
        "tags": []
      },
      "outputs": [],
      "source": [
        "# type(images_tensor)"
      ]
    },
    {
      "cell_type": "code",
      "execution_count": null,
      "id": "e365070a-e9e2-4e5f-b8a3-c5319ed79af9",
      "metadata": {
        "id": "e365070a-e9e2-4e5f-b8a3-c5319ed79af9",
        "outputId": "fef2a8fe-4e6f-4ba1-a180-92bffb358adb",
        "tags": []
      },
      "outputs": [
        {
          "name": "stdout",
          "output_type": "stream",
          "text": [
            "-200\n"
          ]
        }
      ],
      "source": [
        "print(IMAGE_TOKEN_INDEX)"
      ]
    },
    {
      "cell_type": "code",
      "execution_count": null,
      "id": "e2a7b430-c4c1-4422-9427-6aac5691b752",
      "metadata": {
        "id": "e2a7b430-c4c1-4422-9427-6aac5691b752",
        "outputId": "ba529c4a-0382-4e92-8d9b-81c385859722",
        "tags": []
      },
      "outputs": [
        {
          "name": "stdout",
          "output_type": "stream",
          "text": [
            "<s> [INST]  \n",
            "What do you see in this picture? [/INST] A single black bishop </s><unk><unk><unk><unk>\n"
          ]
        }
      ],
      "source": [
        "# output_sample=[1, 733, 16289, 28793, 28705, 28705, 13, 3195, 511, 368, 1032, 297, 456, 5754, 28804, 733, 28748, 16289, 28793, 330, 2692, 2687, 287, 12019, 28705, 2, 0, 0, 0, 0]\n",
        "# print(tokenizer.decode(output_sample))"
      ]
    },
    {
      "cell_type": "code",
      "execution_count": null,
      "id": "32c172ee-4556-4735-b371-7ae6e6bbd66c",
      "metadata": {
        "id": "32c172ee-4556-4735-b371-7ae6e6bbd66c"
      },
      "outputs": [],
      "source": [
        "# test_query = \"[INST] <image>\\nWhat do you see in this picture? [/INST]\"\n",
        "\n",
        "# image_token_se = DEFAULT_IMAGE_TOKEN\n",
        "\n",
        "# print(f\"image_token_se is: {image_token_se}\")\n",
        "\n",
        "# print(tokenizer_image_token(test_query, tokenizer, IMAGE_TOKEN_INDEX))"
      ]
    },
    {
      "cell_type": "markdown",
      "id": "76b12b17-e327-4ef2-92bf-0ec319a9562b",
      "metadata": {
        "id": "76b12b17-e327-4ef2-92bf-0ec319a9562b"
      },
      "source": [
        "# Training Arguments"
      ]
    },
    {
      "cell_type": "code",
      "execution_count": null,
      "id": "7fd1937a-75ea-4808-b145-a74940a31c70",
      "metadata": {
        "id": "7fd1937a-75ea-4808-b145-a74940a31c70"
      },
      "outputs": [],
      "source": [
        "from transformers import TrainerCallback, EarlyStoppingCallback"
      ]
    },
    {
      "cell_type": "code",
      "execution_count": null,
      "id": "af2d811a-8e34-420f-9cc1-247b2642b4de",
      "metadata": {
        "id": "af2d811a-8e34-420f-9cc1-247b2642b4de",
        "tags": []
      },
      "outputs": [],
      "source": [
        "# # clear chache to empty memory\n",
        "\n",
        "# torch.cuda.empty_cache()"
      ]
    },
    {
      "cell_type": "code",
      "execution_count": null,
      "id": "6b186861-4873-4f9f-89d5-be56a196497c",
      "metadata": {
        "id": "6b186861-4873-4f9f-89d5-be56a196497c"
      },
      "outputs": [],
      "source": [
        "# Define a custom callback\n",
        "class PrintBestCheckpointCallback(TrainerCallback):\n",
        "    def on_train_end(self, args, state, control, **kwargs):\n",
        "        # Print the path of the best checkpoint at the end of training\n",
        "        print(f\"Best model checkpoint: {state.best_model_checkpoint}\")"
      ]
    },
    {
      "cell_type": "code",
      "execution_count": null,
      "id": "ef70d5c9-55a4-4029-9fb9-ff7daf949509",
      "metadata": {
        "id": "ef70d5c9-55a4-4029-9fb9-ff7daf949509",
        "tags": []
      },
      "outputs": [],
      "source": [
        "batch_size = 4  # Specify the batch size you want to use\n",
        "specific_directory = \"/home/jupyter/Models\"\n",
        "output_model_name = f\"{specific_directory}/{model_name}-latest-Vicuna\"\n",
        "\n",
        "# # Get the latest checkpoint if it exists\n",
        "# latest_checkpoint = get_latest_checkpoint(output_model_name)"
      ]
    },
    {
      "cell_type": "markdown",
      "id": "4b8d5921-cec9-43e4-be44-92059da94082",
      "metadata": {
        "id": "4b8d5921-cec9-43e4-be44-92059da94082"
      },
      "source": [
        "resume_from_checkpoint=True,  # Will automatically resume from the last checkpoint\n",
        "\n"
      ]
    },
    {
      "cell_type": "code",
      "execution_count": null,
      "id": "de5633fc-80f2-4bb7-8d4f-cb81fd644b7e",
      "metadata": {
        "id": "de5633fc-80f2-4bb7-8d4f-cb81fd644b7e",
        "outputId": "507a3d97-b433-47ca-9da8-fddc96a4abd5",
        "tags": []
      },
      "outputs": [
        {
          "name": "stderr",
          "output_type": "stream",
          "text": [
            "Failed to detect the name of this notebook, you can set it manually with the WANDB_NOTEBOOK_NAME environment variable to enable code saving.\n",
            "\u001b[34m\u001b[1mwandb\u001b[0m: Currently logged in as: \u001b[33mmdemo1\u001b[0m (\u001b[33mmsu_cvi_lab\u001b[0m). Use \u001b[1m`wandb login --relogin`\u001b[0m to force relogin\n"
          ]
        },
        {
          "data": {
            "text/html": [
              "Tracking run with wandb version 0.16.6"
            ],
            "text/plain": [
              "<IPython.core.display.HTML object>"
            ]
          },
          "metadata": {},
          "output_type": "display_data"
        },
        {
          "data": {
            "text/html": [
              "Run data is saved locally in <code>/home/jupyter/LLaVA/wandb/run-20240427_171807-w1i22k56</code>"
            ],
            "text/plain": [
              "<IPython.core.display.HTML object>"
            ]
          },
          "metadata": {},
          "output_type": "display_data"
        },
        {
          "data": {
            "text/html": [
              "Syncing run <strong><a href='https://wandb.ai/msu_cvi_lab/huggingface/runs/w1i22k56' target=\"_blank\">divine-frog-7</a></strong> to <a href='https://wandb.ai/msu_cvi_lab/huggingface' target=\"_blank\">Weights & Biases</a> (<a href='https://wandb.me/run' target=\"_blank\">docs</a>)<br/>"
            ],
            "text/plain": [
              "<IPython.core.display.HTML object>"
            ]
          },
          "metadata": {},
          "output_type": "display_data"
        },
        {
          "data": {
            "text/html": [
              " View project at <a href='https://wandb.ai/msu_cvi_lab/huggingface' target=\"_blank\">https://wandb.ai/msu_cvi_lab/huggingface</a>"
            ],
            "text/plain": [
              "<IPython.core.display.HTML object>"
            ]
          },
          "metadata": {},
          "output_type": "display_data"
        },
        {
          "data": {
            "text/html": [
              " View run at <a href='https://wandb.ai/msu_cvi_lab/huggingface/runs/w1i22k56' target=\"_blank\">https://wandb.ai/msu_cvi_lab/huggingface/runs/w1i22k56</a>"
            ],
            "text/plain": [
              "<IPython.core.display.HTML object>"
            ]
          },
          "metadata": {},
          "output_type": "display_data"
        },
        {
          "name": "stderr",
          "output_type": "stream",
          "text": [
            "/opt/conda/envs/llava1.5env/lib/python3.8/site-packages/torch/utils/checkpoint.py:61: UserWarning: None of the inputs have requires_grad=True. Gradients will be None\n",
            "  warnings.warn(\n",
            "`use_cache=True` is incompatible with gradient checkpointing. Setting `use_cache=False`...\n"
          ]
        },
        {
          "data": {
            "text/html": [
              "\n",
              "    <div>\n",
              "      \n",
              "      <progress value='6576' max='10950' style='width:300px; height:20px; vertical-align: middle;'></progress>\n",
              "      [ 6576/10950 7:59:49 < 15:58:19, 0.08 it/s, Epoch 3/5]\n",
              "    </div>\n",
              "    <table border=\"1\" class=\"dataframe\">\n",
              "  <thead>\n",
              " <tr style=\"text-align: left;\">\n",
              "      <th>Step</th>\n",
              "      <th>Training Loss</th>\n",
              "      <th>Validation Loss</th>\n",
              "    </tr>\n",
              "  </thead>\n",
              "  <tbody>\n",
              "    <tr>\n",
              "      <td>4932</td>\n",
              "      <td>1.967800</td>\n",
              "      <td>1.984532</td>\n",
              "    </tr>\n",
              "    <tr>\n",
              "      <td>5480</td>\n",
              "      <td>2.046900</td>\n",
              "      <td>1.953267</td>\n",
              "    </tr>\n",
              "    <tr>\n",
              "      <td>6028</td>\n",
              "      <td>1.897300</td>\n",
              "      <td>1.939575</td>\n",
              "    </tr>\n",
              "    <tr>\n",
              "      <td>6576</td>\n",
              "      <td>2.017900</td>\n",
              "      <td>1.932810</td>\n",
              "    </tr>\n",
              "  </tbody>\n",
              "</table><p>"
            ],
            "text/plain": [
              "<IPython.core.display.HTML object>"
            ]
          },
          "metadata": {},
          "output_type": "display_data"
        },
        {
          "name": "stderr",
          "output_type": "stream",
          "text": [
            "You are using a model of type llava to instantiate a model of type llava_llama. This is not supported for all configurations of models and can yield errors.\n",
            "/opt/conda/envs/llava1.5env/lib/python3.8/site-packages/torch/utils/checkpoint.py:61: UserWarning: None of the inputs have requires_grad=True. Gradients will be None\n",
            "  warnings.warn(\n",
            "You are using a model of type llava to instantiate a model of type llava_llama. This is not supported for all configurations of models and can yield errors.\n"
          ]
        },
        {
          "name": "stdout",
          "output_type": "stream",
          "text": [
            "Best model checkpoint: /home/jupyter/Models/llava-v1.6-vicuna-7b-latest-Vicuna/checkpoint-4384\n"
          ]
        },
        {
          "data": {
            "text/plain": [
              "TrainOutput(global_step=6576, training_loss=0.6685205964131367, metrics={'train_runtime': 28807.8649, 'train_samples_per_second': 12.168, 'train_steps_per_second': 0.38, 'total_flos': 1.063026957579264e+18, 'train_loss': 0.6685205964131367, 'epoch': 3.0})"
            ]
          },
          "execution_count": 29,
          "metadata": {},
          "output_type": "execute_result"
        }
      ],
      "source": [
        "# from torch.nn import CrossEntropyLoss\n",
        "\n",
        "# def compute_loss(model, inputs, return_outputs=False):\n",
        "#     labels = inputs.pop(\"labels\")\n",
        "#     outputs = model(**inputs)\n",
        "#     logits = outputs.logits\n",
        "#     loss_fct = CrossEntropyLoss(ignore_index=ignore_index)\n",
        "#     loss = loss_fct(logits.view(-1, logits.size(-1)), labels.view(-1))\n",
        "#     return (loss, outputs) if return_outputs else loss\n",
        "\n",
        "\n",
        "training_args = TrainingArguments(\n",
        "    output_dir=output_model_name,\n",
        "    learning_rate=1e-5,\n",
        "    # fp16=True, #for non ampere gpus\n",
        "    bf16=True,\n",
        "    per_device_train_batch_size=batch_size,\n",
        "    per_device_eval_batch_size=batch_size,\n",
        "    gradient_accumulation_steps=8,\n",
        "    dataloader_pin_memory=False,\n",
        "    save_total_limit=10,  # Limit the number of checkpoints to save\n",
        "    evaluation_strategy=\"steps\",\n",
        "    save_strategy=\"steps\",\n",
        "    save_steps=548,\n",
        "    eval_steps=548,\n",
        "    logging_steps=1,\n",
        "    num_train_epochs=5,\n",
        "    remove_unused_columns=False,\n",
        "    push_to_hub=False,\n",
        "    label_names=[\"labels\"],\n",
        "    load_best_model_at_end=True,\n",
        "    metric_for_best_model=\"eval_loss\",  # validation loss this is the metric I am monitoring\n",
        "    greater_is_better=False,\n",
        "    report_to=None,\n",
        "    optim=\"adamw_torch\",\n",
        "    gradient_checkpointing=True,\n",
        "    gradient_checkpointing_kwargs={'use_reentrant':True}\n",
        "    # resume_from_checkpoint=latest_checkpoint,\n",
        "    # resume_from_checkpoint=True,  # Will automatically resume from the last checkpoint\n",
        ")\n",
        "\n",
        "# Initialize your custom callback\n",
        "print_best_checkpoint_callback = PrintBestCheckpointCallback()\n",
        "\n",
        "# Initialize early stopping callback\n",
        "early_stopping_callback = EarlyStoppingCallback(\n",
        "    early_stopping_patience=4,  # Number of evaluation steps with no improvement after which training will be stopped\n",
        "    early_stopping_threshold=0.01  # Minimum change needed to qualify as an improvement\n",
        ")\n",
        "\n",
        "# Initialize the list of callbacks you want to use\n",
        "# Combine custom callback with the early stopping callback\n",
        "callbacks = [print_best_checkpoint_callback, early_stopping_callback]\n",
        "\n",
        "trainer = Trainer(\n",
        "    model=model,\n",
        "    args=training_args,\n",
        "    train_dataset=train_ds,\n",
        "    eval_dataset=eval_ds,\n",
        "    # compute_metrics=compute_metrics,\n",
        "    callbacks=callbacks,  # Add custom callback here\n",
        "    # compute_loss=compute_loss,  # Pass the custom compute_loss function\n",
        ")\n",
        "\n",
        "trainer.train('/home/jupyter/Models/llava-v1.6-vicuna-7b-latest-Vicuna/checkpoint-4384')"
      ]
    },
    {
      "cell_type": "markdown",
      "id": "abe6ed24-bb62-4959-a322-d804869b0be5",
      "metadata": {
        "id": "abe6ed24-bb62-4959-a322-d804869b0be5"
      },
      "source": [
        "##  Checking Trainer State"
      ]
    },
    {
      "cell_type": "code",
      "execution_count": 3,
      "id": "98e4b7e5-ae7d-4faf-9dda-ebd650bb06e6",
      "metadata": {
        "id": "98e4b7e5-ae7d-4faf-9dda-ebd650bb06e6",
        "tags": []
      },
      "outputs": [],
      "source": [
        "# import json\n",
        "# import matplotlib.pyplot as plt\n",
        "\n",
        "# # Load the training history\n",
        "# with open('', 'r') as file:\n",
        "#     trainer_state = json.load(file)\n",
        "\n",
        "# # Extract loss values from the trainer_state\n",
        "# training_steps = []\n",
        "# training_losses = []\n",
        "# validation_steps = []\n",
        "# validation_losses = []\n",
        "\n",
        "# for log_entry in trainer_state['log_history']:\n",
        "#     if 'loss' in log_entry and 'step' in log_entry:  # This is a training loss entry\n",
        "#         training_steps.append(log_entry['step'])\n",
        "#         training_losses.append(log_entry['loss'])\n",
        "#     elif 'eval_loss' in log_entry and 'step' in log_entry:  # This is a validation loss entry\n",
        "#         validation_steps.append(log_entry['step'])\n",
        "#         validation_losses.append(log_entry['eval_loss'])\n",
        "\n",
        "# # Set up the plot\n",
        "# fig, ax = plt.subplots(2, 1, figsize=(10, 8), sharex=True)\n",
        "\n",
        "# # Plot training loss\n",
        "# ax[0].plot(training_steps, training_losses, label='Training Loss', color='blue')\n",
        "# ax[0].set_title('Training Loss')\n",
        "# ax[0].set_ylabel('Loss')\n",
        "# ax[0].grid(True)\n",
        "\n",
        "# # Plot validation loss\n",
        "# ax[1].plot(validation_steps, validation_losses, label='Validation Loss', color='orange')\n",
        "# ax[1].set_title('Validation Loss')\n",
        "# ax[1].set_ylabel('Loss')\n",
        "# ax[1].set_xlabel('Steps')\n",
        "# ax[1].grid(True)\n",
        "\n",
        "# # Define the tick values as multiples of 1095, considering the range of your steps\n",
        "# tick_step = 548\n",
        "# xticks = range(0, max(max(training_steps, default=0), max(validation_steps, default=0)) + tick_step, tick_step)\n",
        "# ax[1].set_xticks(xticks)  # Set x-ticks on both subplots\n",
        "\n",
        "# # Adjust layout\n",
        "# plt.tight_layout()\n",
        "\n",
        "# # Show the plot\n",
        "# plt.show()\n"
      ]
    },
    {
      "cell_type": "markdown",
      "id": "43f5626a-92dd-47ff-b087-2fd03b5f72b2",
      "metadata": {
        "id": "43f5626a-92dd-47ff-b087-2fd03b5f72b2"
      },
      "source": [
        "### Loading the checkpoint after training"
      ]
    },
    {
      "cell_type": "code",
      "execution_count": null,
      "id": "b65dfd90-f2d7-4b02-bad3-bf22446f73df",
      "metadata": {
        "colab": {
          "referenced_widgets": [
            "72c6c979b4674003b4ac55a0df72e440"
          ]
        },
        "id": "b65dfd90-f2d7-4b02-bad3-bf22446f73df",
        "outputId": "9e1eb49d-4ef6-4c67-cfdf-d97f66ace2a2",
        "tags": []
      },
      "outputs": [
        {
          "name": "stderr",
          "output_type": "stream",
          "text": [
            "You are using a model of type llava to instantiate a model of type llava_llama. This is not supported for all configurations of models and can yield errors.\n"
          ]
        },
        {
          "data": {
            "application/vnd.jupyter.widget-view+json": {
              "model_id": "72c6c979b4674003b4ac55a0df72e440",
              "version_major": 2,
              "version_minor": 0
            },
            "text/plain": [
              "Loading checkpoint shards:   0%|          | 0/3 [00:00<?, ?it/s]"
            ]
          },
          "metadata": {},
          "output_type": "display_data"
        },
        {
          "name": "stdout",
          "output_type": "stream",
          "text": [
            "vision_tower is loaded\n"
          ]
        }
      ],
      "source": [
        "# OPTIONALLY LOAD A DIFFERENT CHECKPOINT\n",
        "\n",
        "from peft import PeftModel\n",
        "\n",
        "adapter_path=\"/home/jupyter/Models/llava-v1.6-vicuna-7b-latest-Vicuna/checkpoint-4384\" #this is the path to the checkpoint to load\n",
        "\n",
        "## You have a choice now between either A or B:\n",
        "# A: Unload the current adapter (if this fails, just run option B to load the base model again).\n",
        "# model.unload()\n",
        "\n",
        "# B: Re-load the base model\n",
        "# the variables required to load the base model should already be declared at the top of this script.\n",
        "tokenizer, model, image_processor, context_len = load_pretrained_model(\n",
        "    model_path=model_path,\n",
        "    model_base=None,\n",
        "    model_name=model_name,\n",
        "    cache_dir='',\n",
        "    use_flash_attn=True,\n",
        "    # load_8bit=True #NOT SUPPORTED YET WITH THIS SCRIPT\n",
        "    # load_4bit=True #NOT SUPPORTED YET WITH THIS SCRIPT\n",
        ")\n",
        "\n",
        "# Now you can load the new model on top.\n",
        "model = PeftModel.from_pretrained(\n",
        "    model,\n",
        "    adapter_path,\n",
        ")"
      ]
    },
    {
      "cell_type": "code",
      "execution_count": null,
      "id": "72f285c6-3385-4398-a610-91b75a95df68",
      "metadata": {
        "id": "72f285c6-3385-4398-a610-91b75a95df68",
        "outputId": "ebc30215-4f3b-4eb4-84f1-bedf3c0aa37d",
        "tags": []
      },
      "outputs": [
        {
          "name": "stdout",
          "output_type": "stream",
          "text": [
            "PeftModel(\n",
            "  (base_model): LoraModel(\n",
            "    (model): LlavaLlamaForCausalLM(\n",
            "      (model): LlavaLlamaModel(\n",
            "        (embed_tokens): Embedding(32000, 4096, padding_idx=0)\n",
            "        (layers): ModuleList(\n",
            "          (0-31): 32 x LlamaDecoderLayer(\n",
            "            (self_attn): LlamaSdpaAttention(\n",
            "              (q_proj): lora.Linear(\n",
            "                (base_layer): Linear(in_features=4096, out_features=4096, bias=False)\n",
            "                (lora_dropout): ModuleDict(\n",
            "                  (default): Dropout(p=0.05, inplace=False)\n",
            "                )\n",
            "                (lora_A): ModuleDict(\n",
            "                  (default): Linear(in_features=4096, out_features=16, bias=False)\n",
            "                )\n",
            "                (lora_B): ModuleDict(\n",
            "                  (default): Linear(in_features=16, out_features=4096, bias=False)\n",
            "                )\n",
            "                (lora_embedding_A): ParameterDict()\n",
            "                (lora_embedding_B): ParameterDict()\n",
            "              )\n",
            "              (k_proj): lora.Linear(\n",
            "                (base_layer): Linear(in_features=4096, out_features=4096, bias=False)\n",
            "                (lora_dropout): ModuleDict(\n",
            "                  (default): Dropout(p=0.05, inplace=False)\n",
            "                )\n",
            "                (lora_A): ModuleDict(\n",
            "                  (default): Linear(in_features=4096, out_features=16, bias=False)\n",
            "                )\n",
            "                (lora_B): ModuleDict(\n",
            "                  (default): Linear(in_features=16, out_features=4096, bias=False)\n",
            "                )\n",
            "                (lora_embedding_A): ParameterDict()\n",
            "                (lora_embedding_B): ParameterDict()\n",
            "              )\n",
            "              (v_proj): lora.Linear(\n",
            "                (base_layer): Linear(in_features=4096, out_features=4096, bias=False)\n",
            "                (lora_dropout): ModuleDict(\n",
            "                  (default): Dropout(p=0.05, inplace=False)\n",
            "                )\n",
            "                (lora_A): ModuleDict(\n",
            "                  (default): Linear(in_features=4096, out_features=16, bias=False)\n",
            "                )\n",
            "                (lora_B): ModuleDict(\n",
            "                  (default): Linear(in_features=16, out_features=4096, bias=False)\n",
            "                )\n",
            "                (lora_embedding_A): ParameterDict()\n",
            "                (lora_embedding_B): ParameterDict()\n",
            "              )\n",
            "              (o_proj): Linear(in_features=4096, out_features=4096, bias=False)\n",
            "              (rotary_emb): LlamaRotaryEmbedding()\n",
            "            )\n",
            "            (mlp): LlamaMLP(\n",
            "              (gate_proj): lora.Linear(\n",
            "                (base_layer): Linear(in_features=4096, out_features=11008, bias=False)\n",
            "                (lora_dropout): ModuleDict(\n",
            "                  (default): Dropout(p=0.05, inplace=False)\n",
            "                )\n",
            "                (lora_A): ModuleDict(\n",
            "                  (default): Linear(in_features=4096, out_features=16, bias=False)\n",
            "                )\n",
            "                (lora_B): ModuleDict(\n",
            "                  (default): Linear(in_features=16, out_features=11008, bias=False)\n",
            "                )\n",
            "                (lora_embedding_A): ParameterDict()\n",
            "                (lora_embedding_B): ParameterDict()\n",
            "              )\n",
            "              (up_proj): Linear(in_features=4096, out_features=11008, bias=False)\n",
            "              (down_proj): lora.Linear(\n",
            "                (base_layer): Linear(in_features=11008, out_features=4096, bias=False)\n",
            "                (lora_dropout): ModuleDict(\n",
            "                  (default): Dropout(p=0.05, inplace=False)\n",
            "                )\n",
            "                (lora_A): ModuleDict(\n",
            "                  (default): Linear(in_features=11008, out_features=16, bias=False)\n",
            "                )\n",
            "                (lora_B): ModuleDict(\n",
            "                  (default): Linear(in_features=16, out_features=4096, bias=False)\n",
            "                )\n",
            "                (lora_embedding_A): ParameterDict()\n",
            "                (lora_embedding_B): ParameterDict()\n",
            "              )\n",
            "              (act_fn): SiLU()\n",
            "            )\n",
            "            (input_layernorm): LlamaRMSNorm()\n",
            "            (post_attention_layernorm): LlamaRMSNorm()\n",
            "          )\n",
            "        )\n",
            "        (norm): LlamaRMSNorm()\n",
            "        (vision_tower): CLIPVisionTower(\n",
            "          (vision_tower): CLIPVisionModel(\n",
            "            (vision_model): CLIPVisionTransformer(\n",
            "              (embeddings): CLIPVisionEmbeddings(\n",
            "                (patch_embedding): Conv2d(3, 1024, kernel_size=(14, 14), stride=(14, 14), bias=False)\n",
            "                (position_embedding): Embedding(577, 1024)\n",
            "              )\n",
            "              (pre_layrnorm): LayerNorm((1024,), eps=1e-05, elementwise_affine=True)\n",
            "              (encoder): CLIPEncoder(\n",
            "                (layers): ModuleList(\n",
            "                  (0-23): 24 x CLIPEncoderLayer(\n",
            "                    (self_attn): CLIPAttention(\n",
            "                      (k_proj): lora.Linear(\n",
            "                        (base_layer): Linear(in_features=1024, out_features=1024, bias=True)\n",
            "                        (lora_dropout): ModuleDict(\n",
            "                          (default): Dropout(p=0.05, inplace=False)\n",
            "                        )\n",
            "                        (lora_A): ModuleDict(\n",
            "                          (default): Linear(in_features=1024, out_features=16, bias=False)\n",
            "                        )\n",
            "                        (lora_B): ModuleDict(\n",
            "                          (default): Linear(in_features=16, out_features=1024, bias=False)\n",
            "                        )\n",
            "                        (lora_embedding_A): ParameterDict()\n",
            "                        (lora_embedding_B): ParameterDict()\n",
            "                      )\n",
            "                      (v_proj): lora.Linear(\n",
            "                        (base_layer): Linear(in_features=1024, out_features=1024, bias=True)\n",
            "                        (lora_dropout): ModuleDict(\n",
            "                          (default): Dropout(p=0.05, inplace=False)\n",
            "                        )\n",
            "                        (lora_A): ModuleDict(\n",
            "                          (default): Linear(in_features=1024, out_features=16, bias=False)\n",
            "                        )\n",
            "                        (lora_B): ModuleDict(\n",
            "                          (default): Linear(in_features=16, out_features=1024, bias=False)\n",
            "                        )\n",
            "                        (lora_embedding_A): ParameterDict()\n",
            "                        (lora_embedding_B): ParameterDict()\n",
            "                      )\n",
            "                      (q_proj): lora.Linear(\n",
            "                        (base_layer): Linear(in_features=1024, out_features=1024, bias=True)\n",
            "                        (lora_dropout): ModuleDict(\n",
            "                          (default): Dropout(p=0.05, inplace=False)\n",
            "                        )\n",
            "                        (lora_A): ModuleDict(\n",
            "                          (default): Linear(in_features=1024, out_features=16, bias=False)\n",
            "                        )\n",
            "                        (lora_B): ModuleDict(\n",
            "                          (default): Linear(in_features=16, out_features=1024, bias=False)\n",
            "                        )\n",
            "                        (lora_embedding_A): ParameterDict()\n",
            "                        (lora_embedding_B): ParameterDict()\n",
            "                      )\n",
            "                      (out_proj): Linear(in_features=1024, out_features=1024, bias=True)\n",
            "                    )\n",
            "                    (layer_norm1): LayerNorm((1024,), eps=1e-05, elementwise_affine=True)\n",
            "                    (mlp): CLIPMLP(\n",
            "                      (activation_fn): QuickGELUActivation()\n",
            "                      (fc1): lora.Linear(\n",
            "                        (base_layer): Linear(in_features=1024, out_features=4096, bias=True)\n",
            "                        (lora_dropout): ModuleDict(\n",
            "                          (default): Dropout(p=0.05, inplace=False)\n",
            "                        )\n",
            "                        (lora_A): ModuleDict(\n",
            "                          (default): Linear(in_features=1024, out_features=16, bias=False)\n",
            "                        )\n",
            "                        (lora_B): ModuleDict(\n",
            "                          (default): Linear(in_features=16, out_features=4096, bias=False)\n",
            "                        )\n",
            "                        (lora_embedding_A): ParameterDict()\n",
            "                        (lora_embedding_B): ParameterDict()\n",
            "                      )\n",
            "                      (fc2): lora.Linear(\n",
            "                        (base_layer): Linear(in_features=4096, out_features=1024, bias=True)\n",
            "                        (lora_dropout): ModuleDict(\n",
            "                          (default): Dropout(p=0.05, inplace=False)\n",
            "                        )\n",
            "                        (lora_A): ModuleDict(\n",
            "                          (default): Linear(in_features=4096, out_features=16, bias=False)\n",
            "                        )\n",
            "                        (lora_B): ModuleDict(\n",
            "                          (default): Linear(in_features=16, out_features=1024, bias=False)\n",
            "                        )\n",
            "                        (lora_embedding_A): ParameterDict()\n",
            "                        (lora_embedding_B): ParameterDict()\n",
            "                      )\n",
            "                    )\n",
            "                    (layer_norm2): LayerNorm((1024,), eps=1e-05, elementwise_affine=True)\n",
            "                  )\n",
            "                )\n",
            "              )\n",
            "              (post_layernorm): LayerNorm((1024,), eps=1e-05, elementwise_affine=True)\n",
            "            )\n",
            "          )\n",
            "        )\n",
            "        (mm_projector): Sequential(\n",
            "          (0): Linear(in_features=1024, out_features=4096, bias=True)\n",
            "          (1): GELU(approximate='none')\n",
            "          (2): Linear(in_features=4096, out_features=4096, bias=True)\n",
            "        )\n",
            "      )\n",
            "      (lm_head): Linear(in_features=4096, out_features=32000, bias=False)\n",
            "    )\n",
            "  )\n",
            ")\n"
          ]
        }
      ],
      "source": [
        "print(model)"
      ]
    },
    {
      "cell_type": "markdown",
      "id": "463a50e5-16ce-4b0f-988b-1f97ba6a0798",
      "metadata": {
        "id": "463a50e5-16ce-4b0f-988b-1f97ba6a0798"
      },
      "source": [
        "## Eval after Training"
      ]
    },
    {
      "cell_type": "code",
      "execution_count": 4,
      "id": "638c6cb9-ae57-4a4b-8c29-152abb2259ed",
      "metadata": {
        "id": "638c6cb9-ae57-4a4b-8c29-152abb2259ed",
        "tags": []
      },
      "outputs": [],
      "source": [
        "# import matplotlib.pyplot as plt\n",
        "\n",
        "# # Temporarily disable the transformation to access the original data\n",
        "# eval_ds.reset_format()\n",
        "\n",
        "# # Limit the number of images to process\n",
        "# num_images_to_process = 5\n",
        "\n",
        "# # Iterate over each example in the evaluation dataset, but only up to num_images_to_process\n",
        "# for i in range(min(num_images_to_process, len(eval_ds))):\n",
        "#     # Access the original image and caption for the current row\n",
        "#     image = eval_ds[i]['image']\n",
        "#     caption = eval_ds[i]['caption']\n",
        "\n",
        "#     # Display the image using matplotlib\n",
        "#     plt.imshow(image)\n",
        "#     plt.axis('off')  # Turn off axis numbers and ticks\n",
        "#     plt.show()\n",
        "\n",
        "#     # Evaluate the model for the given image\n",
        "#     eval_model(\n",
        "#         tokenizer,\n",
        "#         model,\n",
        "#         image_processor,\n",
        "#         context_len,\n",
        "#         image,\n",
        "#         \"What do you see in this picture?\"\n",
        "#     )\n",
        "\n",
        "#     # Print the correct caption\n",
        "#     print(f\"\\nCorrect caption: {caption}\\n\\n\")\n",
        "\n",
        "# # Re-enable the transformation if needed\n",
        "# eval_ds.set_transform(lambda batch: tokenize_and_create_labels(batch, image_processor, tokenizer, model, device))\n"
      ]
    },
    {
      "cell_type": "code",
      "execution_count": 5,
      "id": "ec919477-5dcf-43d7-91a0-2c4e88f63d56",
      "metadata": {
        "id": "ec919477-5dcf-43d7-91a0-2c4e88f63d56",
        "tags": []
      },
      "outputs": [],
      "source": [
        "# import matplotlib.pyplot as plt\n",
        "\n",
        "# # Temporarily disable the transformation to access the original data\n",
        "# eval_ds.reset_format()\n",
        "\n",
        "# # Limit the number of images to process\n",
        "# num_images_to_process = 5\n",
        "\n",
        "# # Iterate over each example in the evaluation dataset, but only up to num_images_to_process\n",
        "# for i in range(min(num_images_to_process, len(eval_ds))):\n",
        "#     # Access the original image and caption for the current row\n",
        "#     image = eval_ds[i]['image']\n",
        "#     caption = eval_ds[i]['caption']\n",
        "\n",
        "#     # Display the image using matplotlib\n",
        "#     plt.imshow(image)\n",
        "#     plt.axis('off')  # Turn off axis numbers and ticks\n",
        "#     plt.show()\n",
        "\n",
        "#     # Evaluate the model for the given image\n",
        "#     eval_model(\n",
        "#         tokenizer,\n",
        "#         model,\n",
        "#         image_processor,\n",
        "#         context_len,\n",
        "#         image,\n",
        "#         \"What do you see in this picture?\"\n",
        "#     )\n",
        "\n",
        "#     # Print the correct caption\n",
        "#     print(f\"\\nCorrect caption: {caption}\\n\\n\")\n",
        "\n",
        "# # Re-enable the transformation if needed\n",
        "# eval_ds.set_transform(lambda batch: tokenize_and_create_labels(batch, image_processor, tokenizer, model, device))\n"
      ]
    },
    {
      "cell_type": "markdown",
      "id": "d9613b48-0c0d-4d6d-8c51-5de1424c8e1a",
      "metadata": {
        "id": "d9613b48-0c0d-4d6d-8c51-5de1424c8e1a"
      },
      "source": [
        "## Generating CSV from test dataset"
      ]
    },
    {
      "cell_type": "code",
      "execution_count": null,
      "id": "4924d63d-642b-45e8-acb5-2e0b75608a90",
      "metadata": {
        "id": "4924d63d-642b-45e8-acb5-2e0b75608a90"
      },
      "outputs": [],
      "source": [
        "# Example usage with a dataset\n",
        "ds_test = load_dataset(\"HoqueMahmudul/test_dataset\")\n",
        "\n",
        "test_ds = ds_test['test']"
      ]
    },
    {
      "cell_type": "code",
      "execution_count": null,
      "id": "6b0abc6d-3ceb-4269-872f-2e0221c0a3f5",
      "metadata": {
        "id": "6b0abc6d-3ceb-4269-872f-2e0221c0a3f5",
        "outputId": "b9d8ba08-c5c7-46ec-dfd8-2b7b1a86223e",
        "tags": []
      },
      "outputs": [
        {
          "data": {
            "text/plain": [
              "('ImageCLEFmedical_Caption_2024_test_000004.jpg',\n",
              " '\"A glimpse into the intricate network of the human body: a clear view of the digestive system, highlighting the complex interplay of organs and the path of food through the gastrointestinal tract.\"')"
            ]
          },
          "execution_count": 42,
          "metadata": {},
          "output_type": "execute_result"
        }
      ],
      "source": [
        "captions[3]"
      ]
    },
    {
      "cell_type": "code",
      "execution_count": null,
      "id": "aae96528-153d-4c46-84fe-076cb4c77a46",
      "metadata": {
        "id": "aae96528-153d-4c46-84fe-076cb4c77a46",
        "outputId": "ecf7e821-5648-4392-e9c3-ce2b43d59b74",
        "tags": []
      },
      "outputs": [
        {
          "data": {
            "text/plain": [
              "('ImageCLEFmedical_Caption_2024_test_000003.jpg',\n",
              " 'Postoperative esophagogram showing the esophagus and the gastric tube in the right thoracic cavity.')"
            ]
          },
          "execution_count": 29,
          "metadata": {},
          "output_type": "execute_result"
        }
      ],
      "source": [
        "captions[2]"
      ]
    },
    {
      "cell_type": "code",
      "execution_count": 6,
      "id": "072d6b7c-0993-4e79-bbe7-bcd46273fd85",
      "metadata": {
        "id": "072d6b7c-0993-4e79-bbe7-bcd46273fd85"
      },
      "outputs": [],
      "source": [
        "# Accessing items one by one using test_ds[i] can be inefficient, especially for larger datasets.\n",
        "# If performance is an issue, consider batch processing if your model and infrastructure support it.\n",
        "\n",
        "\n",
        "# Now iterate through the test dataset to generate captions\n",
        "captions = []\n",
        "\n",
        "# Temporarily disable the transformation to access the original data\n",
        "test_ds.reset_format()\n",
        "\n",
        "for i in range(len(test_ds)):\n",
        "    # Access the original image and image name for the current row\n",
        "    image = test_ds[i]['image']\n",
        "    image_name = test_ds[i]['image_name']\n",
        "\n",
        "    # Evaluate the model for the given image to generate a predicted caption using eval_model function\n",
        "    predicted_caption = eval_model(\n",
        "        tokenizer,\n",
        "        model,\n",
        "        image_processor,\n",
        "        context_len,\n",
        "        image,\n",
        "        \"Can you write a caption for this image based on what you see in the image\"\n",
        "    )\n",
        "\n",
        "    # Append the correct and predicted captions as a tuple to the captions list\n",
        "    captions.append((image_name, predicted_caption))\n",
        "\n",
        "# Create a DataFrame from the captions list with the specified column titles\n",
        "df_captions_generation_test = pd.DataFrame(captions, columns=['ID', 'predicted_caption'])\n",
        "\n",
        "# Display the DataFrame to verify the contents\n",
        "print(df_captions_generation_test)\n",
        "\n",
        "# Optionally, save the DataFrame to a CSV file\n",
        "df_captions_generation_test.to_csv('/home/jupyter/Test dataset caption/llava-1.6-vicuna-4384-r32.csv', index=False)\n",
        "\n",
        "# Re-enable the transformation if needed\n",
        "test_ds.set_transform(lambda batch: tokenize_and_create_labels(batch, image_processor, tokenizer, model, device))"
      ]
    },
    {
      "cell_type": "markdown",
      "id": "e08dc1fd-29b1-4bc5-8d84-fb3865edecdf",
      "metadata": {
        "id": "e08dc1fd-29b1-4bc5-8d84-fb3865edecdf"
      },
      "source": [
        "# Finish"
      ]
    },
    {
      "cell_type": "markdown",
      "id": "de3333da-49eb-46c5-8af9-2f6dc08f0775",
      "metadata": {
        "id": "de3333da-49eb-46c5-8af9-2f6dc08f0775",
        "tags": []
      },
      "source": [
        "### generating csv over  eval set"
      ]
    },
    {
      "cell_type": "code",
      "execution_count": null,
      "id": "7fb59bcf-8e7e-4829-a71d-90cd0c356e47",
      "metadata": {
        "id": "7fb59bcf-8e7e-4829-a71d-90cd0c356e47",
        "outputId": "d71913a8-f21d-4ddf-e432-a2d3a4a8516a",
        "tags": []
      },
      "outputs": [
        {
          "name": "stderr",
          "output_type": "stream",
          "text": [
            "The attention mask and the pad token id were not set. As a consequence, you may observe unexpected behavior. Please pass your input's `attention_mask` to obtain reliable results.\n",
            "Setting `pad_token_id` to `eos_token_id`:2 for open-end generation.\n",
            "The attention mask and the pad token id were not set. As a consequence, you may observe unexpected behavior. Please pass your input's `attention_mask` to obtain reliable results.\n",
            "Setting `pad_token_id` to `eos_token_id`:2 for open-end generation.\n",
            "The attention mask and the pad token id were not set. As a consequence, you may observe unexpected behavior. Please pass your input's `attention_mask` to obtain reliable results.\n",
            "Setting `pad_token_id` to `eos_token_id`:2 for open-end generation.\n",
            "The attention mask and the pad token id were not set. As a consequence, you may observe unexpected behavior. Please pass your input's `attention_mask` to obtain reliable results.\n",
            "Setting `pad_token_id` to `eos_token_id`:2 for open-end generation.\n",
            "The attention mask and the pad token id were not set. As a consequence, you may observe unexpected behavior. Please pass your input's `attention_mask` to obtain reliable results.\n",
            "Setting `pad_token_id` to `eos_token_id`:2 for open-end generation.\n",
            "The attention mask and the pad token id were not set. As a consequence, you may observe unexpected behavior. Please pass your input's `attention_mask` to obtain reliable results.\n",
            "Setting `pad_token_id` to `eos_token_id`:2 for open-end generation.\n",
            "The attention mask and the pad token id were not set. As a consequence, you may observe unexpected behavior. Please pass your input's `attention_mask` to obtain reliable results.\n",
            "Setting `pad_token_id` to `eos_token_id`:2 for open-end generation.\n",
            "The attention mask and the pad token id were not set. As a consequence, you may observe unexpected behavior. Please pass your input's `attention_mask` to obtain reliable results.\n",
            "Setting `pad_token_id` to `eos_token_id`:2 for open-end generation.\n",
            "The attention mask and the pad token id were not set. As a consequence, you may observe unexpected behavior. Please pass your input's `attention_mask` to obtain reliable results.\n",
            "Setting `pad_token_id` to `eos_token_id`:2 for open-end generation.\n",
            "The attention mask and the pad token id were not set. As a consequence, you may observe unexpected behavior. Please pass your input's `attention_mask` to obtain reliable results.\n",
            "Setting `pad_token_id` to `eos_token_id`:2 for open-end generation.\n",
            "The attention mask and the pad token id were not set. As a consequence, you may observe unexpected behavior. Please pass your input's `attention_mask` to obtain reliable results.\n",
            "Setting `pad_token_id` to `eos_token_id`:2 for open-end generation.\n",
            "The attention mask and the pad token id were not set. As a consequence, you may observe unexpected behavior. Please pass your input's `attention_mask` to obtain reliable results.\n",
            "Setting `pad_token_id` to `eos_token_id`:2 for open-end generation.\n",
            "The attention mask and the pad token id were not set. As a consequence, you may observe unexpected behavior. Please pass your input's `attention_mask` to obtain reliable results.\n",
            "Setting `pad_token_id` to `eos_token_id`:2 for open-end generation.\n",
            "The attention mask and the pad token id were not set. As a consequence, you may observe unexpected behavior. Please pass your input's `attention_mask` to obtain reliable results.\n",
            "Setting `pad_token_id` to `eos_token_id`:2 for open-end generation.\n",
            "The attention mask and the pad token id were not set. As a consequence, you may observe unexpected behavior. Please pass your input's `attention_mask` to obtain reliable results.\n",
            "Setting `pad_token_id` to `eos_token_id`:2 for open-end generation.\n",
            "The attention mask and the pad token id were not set. As a consequence, you may observe unexpected behavior. Please pass your input's `attention_mask` to obtain reliable results.\n",
            "Setting `pad_token_id` to `eos_token_id`:2 for open-end generation.\n",
            "The attention mask and the pad token id were not set. As a consequence, you may observe unexpected behavior. Please pass your input's `attention_mask` to obtain reliable results.\n",
            "Setting `pad_token_id` to `eos_token_id`:2 for open-end generation.\n",
            "The attention mask and the pad token id were not set. As a consequence, you may observe unexpected behavior. Please pass your input's `attention_mask` to obtain reliable results.\n",
            "Setting `pad_token_id` to `eos_token_id`:2 for open-end generation.\n",
            "The attention mask and the pad token id were not set. As a consequence, you may observe unexpected behavior. Please pass your input's `attention_mask` to obtain reliable results.\n",
            "Setting `pad_token_id` to `eos_token_id`:2 for open-end generation.\n",
            "The attention mask and the pad token id were not set. As a consequence, you may observe unexpected behavior. Please pass your input's `attention_mask` to obtain reliable results.\n",
            "Setting `pad_token_id` to `eos_token_id`:2 for open-end generation.\n",
            "The attention mask and the pad token id were not set. As a consequence, you may observe unexpected behavior. Please pass your input's `attention_mask` to obtain reliable results.\n",
            "Setting `pad_token_id` to `eos_token_id`:2 for open-end generation.\n",
            "The attention mask and the pad token id were not set. As a consequence, you may observe unexpected behavior. Please pass your input's `attention_mask` to obtain reliable results.\n",
            "Setting `pad_token_id` to `eos_token_id`:2 for open-end generation.\n",
            "The attention mask and the pad token id were not set. As a consequence, you may observe unexpected behavior. Please pass your input's `attention_mask` to obtain reliable results.\n",
            "Setting `pad_token_id` to `eos_token_id`:2 for open-end generation.\n",
            "The attention mask and the pad token id were not set. As a consequence, you may observe unexpected behavior. Please pass your input's `attention_mask` to obtain reliable results.\n",
            "Setting `pad_token_id` to `eos_token_id`:2 for open-end generation.\n",
            "The attention mask and the pad token id were not set. As a consequence, you may observe unexpected behavior. Please pass your input's `attention_mask` to obtain reliable results.\n",
            "Setting `pad_token_id` to `eos_token_id`:2 for open-end generation.\n",
            "The attention mask and the pad token id were not set. As a consequence, you may observe unexpected behavior. Please pass your input's `attention_mask` to obtain reliable results.\n",
            "Setting `pad_token_id` to `eos_token_id`:2 for open-end generation.\n",
            "The attention mask and the pad token id were not set. As a consequence, you may observe unexpected behavior. Please pass your input's `attention_mask` to obtain reliable results.\n",
            "Setting `pad_token_id` to `eos_token_id`:2 for open-end generation.\n",
            "The attention mask and the pad token id were not set. As a consequence, you may observe unexpected behavior. Please pass your input's `attention_mask` to obtain reliable results.\n",
            "Setting `pad_token_id` to `eos_token_id`:2 for open-end generation.\n",
            "The attention mask and the pad token id were not set. As a consequence, you may observe unexpected behavior. Please pass your input's `attention_mask` to obtain reliable results.\n",
            "Setting `pad_token_id` to `eos_token_id`:2 for open-end generation.\n",
            "The attention mask and the pad token id were not set. As a consequence, you may observe unexpected behavior. Please pass your input's `attention_mask` to obtain reliable results.\n",
            "Setting `pad_token_id` to `eos_token_id`:2 for open-end generation.\n",
            "The attention mask and the pad token id were not set. As a consequence, you may observe unexpected behavior. Please pass your input's `attention_mask` to obtain reliable results.\n",
            "Setting `pad_token_id` to `eos_token_id`:2 for open-end generation.\n",
            "The attention mask and the pad token id were not set. As a consequence, you may observe unexpected behavior. Please pass your input's `attention_mask` to obtain reliable results.\n",
            "Setting `pad_token_id` to `eos_token_id`:2 for open-end generation.\n",
            "The attention mask and the pad token id were not set. As a consequence, you may observe unexpected behavior. Please pass your input's `attention_mask` to obtain reliable results.\n",
            "Setting `pad_token_id` to `eos_token_id`:2 for open-end generation.\n",
            "The attention mask and the pad token id were not set. As a consequence, you may observe unexpected behavior. Please pass your input's `attention_mask` to obtain reliable results.\n",
            "Setting `pad_token_id` to `eos_token_id`:2 for open-end generation.\n",
            "The attention mask and the pad token id were not set. As a consequence, you may observe unexpected behavior. Please pass your input's `attention_mask` to obtain reliable results.\n",
            "Setting `pad_token_id` to `eos_token_id`:2 for open-end generation.\n",
            "The attention mask and the pad token id were not set. As a consequence, you may observe unexpected behavior. Please pass your input's `attention_mask` to obtain reliable results.\n",
            "Setting `pad_token_id` to `eos_token_id`:2 for open-end generation.\n",
            "The attention mask and the pad token id were not set. As a consequence, you may observe unexpected behavior. Please pass your input's `attention_mask` to obtain reliable results.\n",
            "Setting `pad_token_id` to `eos_token_id`:2 for open-end generation.\n",
            "The attention mask and the pad token id were not set. As a consequence, you may observe unexpected behavior. Please pass your input's `attention_mask` to obtain reliable results.\n",
            "Setting `pad_token_id` to `eos_token_id`:2 for open-end generation.\n",
            "The attention mask and the pad token id were not set. As a consequence, you may observe unexpected behavior. Please pass your input's `attention_mask` to obtain reliable results.\n",
            "Setting `pad_token_id` to `eos_token_id`:2 for open-end generation.\n",
            "The attention mask and the pad token id were not set. As a consequence, you may observe unexpected behavior. Please pass your input's `attention_mask` to obtain reliable results.\n",
            "Setting `pad_token_id` to `eos_token_id`:2 for open-end generation.\n",
            "The attention mask and the pad token id were not set. As a consequence, you may observe unexpected behavior. Please pass your input's `attention_mask` to obtain reliable results.\n",
            "Setting `pad_token_id` to `eos_token_id`:2 for open-end generation.\n",
            "The attention mask and the pad token id were not set. As a consequence, you may observe unexpected behavior. Please pass your input's `attention_mask` to obtain reliable results.\n",
            "Setting `pad_token_id` to `eos_token_id`:2 for open-end generation.\n",
            "The attention mask and the pad token id were not set. As a consequence, you may observe unexpected behavior. Please pass your input's `attention_mask` to obtain reliable results.\n",
            "Setting `pad_token_id` to `eos_token_id`:2 for open-end generation.\n",
            "The attention mask and the pad token id were not set. As a consequence, you may observe unexpected behavior. Please pass your input's `attention_mask` to obtain reliable results.\n",
            "Setting `pad_token_id` to `eos_token_id`:2 for open-end generation.\n",
            "The attention mask and the pad token id were not set. As a consequence, you may observe unexpected behavior. Please pass your input's `attention_mask` to obtain reliable results.\n",
            "Setting `pad_token_id` to `eos_token_id`:2 for open-end generation.\n",
            "The attention mask and the pad token id were not set. As a consequence, you may observe unexpected behavior. Please pass your input's `attention_mask` to obtain reliable results.\n",
            "Setting `pad_token_id` to `eos_token_id`:2 for open-end generation.\n",
            "The attention mask and the pad token id were not set. As a consequence, you may observe unexpected behavior. Please pass your input's `attention_mask` to obtain reliable results.\n",
            "Setting `pad_token_id` to `eos_token_id`:2 for open-end generation.\n",
            "The attention mask and the pad token id were not set. As a consequence, you may observe unexpected behavior. Please pass your input's `attention_mask` to obtain reliable results.\n",
            "Setting `pad_token_id` to `eos_token_id`:2 for open-end generation.\n",
            "The attention mask and the pad token id were not set. As a consequence, you may observe unexpected behavior. Please pass your input's `attention_mask` to obtain reliable results.\n",
            "Setting `pad_token_id` to `eos_token_id`:2 for open-end generation.\n",
            "The attention mask and the pad token id were not set. As a consequence, you may observe unexpected behavior. Please pass your input's `attention_mask` to obtain reliable results.\n",
            "Setting `pad_token_id` to `eos_token_id`:2 for open-end generation.\n",
            "The attention mask and the pad token id were not set. As a consequence, you may observe unexpected behavior. Please pass your input's `attention_mask` to obtain reliable results.\n",
            "Setting `pad_token_id` to `eos_token_id`:2 for open-end generation.\n",
            "The attention mask and the pad token id were not set. As a consequence, you may observe unexpected behavior. Please pass your input's `attention_mask` to obtain reliable results.\n",
            "Setting `pad_token_id` to `eos_token_id`:2 for open-end generation.\n",
            "The attention mask and the pad token id were not set. As a consequence, you may observe unexpected behavior. Please pass your input's `attention_mask` to obtain reliable results.\n",
            "Setting `pad_token_id` to `eos_token_id`:2 for open-end generation.\n",
            "The attention mask and the pad token id were not set. As a consequence, you may observe unexpected behavior. Please pass your input's `attention_mask` to obtain reliable results.\n",
            "Setting `pad_token_id` to `eos_token_id`:2 for open-end generation.\n",
            "The attention mask and the pad token id were not set. As a consequence, you may observe unexpected behavior. Please pass your input's `attention_mask` to obtain reliable results.\n",
            "Setting `pad_token_id` to `eos_token_id`:2 for open-end generation.\n",
            "The attention mask and the pad token id were not set. As a consequence, you may observe unexpected behavior. Please pass your input's `attention_mask` to obtain reliable results.\n",
            "Setting `pad_token_id` to `eos_token_id`:2 for open-end generation.\n",
            "The attention mask and the pad token id were not set. As a consequence, you may observe unexpected behavior. Please pass your input's `attention_mask` to obtain reliable results.\n",
            "Setting `pad_token_id` to `eos_token_id`:2 for open-end generation.\n",
            "The attention mask and the pad token id were not set. As a consequence, you may observe unexpected behavior. Please pass your input's `attention_mask` to obtain reliable results.\n",
            "Setting `pad_token_id` to `eos_token_id`:2 for open-end generation.\n",
            "The attention mask and the pad token id were not set. As a consequence, you may observe unexpected behavior. Please pass your input's `attention_mask` to obtain reliable results.\n",
            "Setting `pad_token_id` to `eos_token_id`:2 for open-end generation.\n",
            "The attention mask and the pad token id were not set. As a consequence, you may observe unexpected behavior. Please pass your input's `attention_mask` to obtain reliable results.\n",
            "Setting `pad_token_id` to `eos_token_id`:2 for open-end generation.\n",
            "The attention mask and the pad token id were not set. As a consequence, you may observe unexpected behavior. Please pass your input's `attention_mask` to obtain reliable results.\n",
            "Setting `pad_token_id` to `eos_token_id`:2 for open-end generation.\n",
            "The attention mask and the pad token id were not set. As a consequence, you may observe unexpected behavior. Please pass your input's `attention_mask` to obtain reliable results.\n",
            "Setting `pad_token_id` to `eos_token_id`:2 for open-end generation.\n",
            "The attention mask and the pad token id were not set. As a consequence, you may observe unexpected behavior. Please pass your input's `attention_mask` to obtain reliable results.\n",
            "Setting `pad_token_id` to `eos_token_id`:2 for open-end generation.\n",
            "The attention mask and the pad token id were not set. As a consequence, you may observe unexpected behavior. Please pass your input's `attention_mask` to obtain reliable results.\n",
            "Setting `pad_token_id` to `eos_token_id`:2 for open-end generation.\n",
            "The attention mask and the pad token id were not set. As a consequence, you may observe unexpected behavior. Please pass your input's `attention_mask` to obtain reliable results.\n",
            "Setting `pad_token_id` to `eos_token_id`:2 for open-end generation.\n",
            "The attention mask and the pad token id were not set. As a consequence, you may observe unexpected behavior. Please pass your input's `attention_mask` to obtain reliable results.\n",
            "Setting `pad_token_id` to `eos_token_id`:2 for open-end generation.\n",
            "The attention mask and the pad token id were not set. As a consequence, you may observe unexpected behavior. Please pass your input's `attention_mask` to obtain reliable results.\n",
            "Setting `pad_token_id` to `eos_token_id`:2 for open-end generation.\n",
            "The attention mask and the pad token id were not set. As a consequence, you may observe unexpected behavior. Please pass your input's `attention_mask` to obtain reliable results.\n",
            "Setting `pad_token_id` to `eos_token_id`:2 for open-end generation.\n",
            "The attention mask and the pad token id were not set. As a consequence, you may observe unexpected behavior. Please pass your input's `attention_mask` to obtain reliable results.\n",
            "Setting `pad_token_id` to `eos_token_id`:2 for open-end generation.\n",
            "The attention mask and the pad token id were not set. As a consequence, you may observe unexpected behavior. Please pass your input's `attention_mask` to obtain reliable results.\n",
            "Setting `pad_token_id` to `eos_token_id`:2 for open-end generation.\n",
            "The attention mask and the pad token id were not set. As a consequence, you may observe unexpected behavior. Please pass your input's `attention_mask` to obtain reliable results.\n",
            "Setting `pad_token_id` to `eos_token_id`:2 for open-end generation.\n",
            "The attention mask and the pad token id were not set. As a consequence, you may observe unexpected behavior. Please pass your input's `attention_mask` to obtain reliable results.\n",
            "Setting `pad_token_id` to `eos_token_id`:2 for open-end generation.\n",
            "The attention mask and the pad token id were not set. As a consequence, you may observe unexpected behavior. Please pass your input's `attention_mask` to obtain reliable results.\n",
            "Setting `pad_token_id` to `eos_token_id`:2 for open-end generation.\n",
            "The attention mask and the pad token id were not set. As a consequence, you may observe unexpected behavior. Please pass your input's `attention_mask` to obtain reliable results.\n",
            "Setting `pad_token_id` to `eos_token_id`:2 for open-end generation.\n",
            "The attention mask and the pad token id were not set. As a consequence, you may observe unexpected behavior. Please pass your input's `attention_mask` to obtain reliable results.\n",
            "Setting `pad_token_id` to `eos_token_id`:2 for open-end generation.\n",
            "The attention mask and the pad token id were not set. As a consequence, you may observe unexpected behavior. Please pass your input's `attention_mask` to obtain reliable results.\n",
            "Setting `pad_token_id` to `eos_token_id`:2 for open-end generation.\n",
            "The attention mask and the pad token id were not set. As a consequence, you may observe unexpected behavior. Please pass your input's `attention_mask` to obtain reliable results.\n",
            "Setting `pad_token_id` to `eos_token_id`:2 for open-end generation.\n",
            "The attention mask and the pad token id were not set. As a consequence, you may observe unexpected behavior. Please pass your input's `attention_mask` to obtain reliable results.\n",
            "Setting `pad_token_id` to `eos_token_id`:2 for open-end generation.\n",
            "The attention mask and the pad token id were not set. As a consequence, you may observe unexpected behavior. Please pass your input's `attention_mask` to obtain reliable results.\n",
            "Setting `pad_token_id` to `eos_token_id`:2 for open-end generation.\n",
            "The attention mask and the pad token id were not set. As a consequence, you may observe unexpected behavior. Please pass your input's `attention_mask` to obtain reliable results.\n",
            "Setting `pad_token_id` to `eos_token_id`:2 for open-end generation.\n",
            "The attention mask and the pad token id were not set. As a consequence, you may observe unexpected behavior. Please pass your input's `attention_mask` to obtain reliable results.\n",
            "Setting `pad_token_id` to `eos_token_id`:2 for open-end generation.\n",
            "The attention mask and the pad token id were not set. As a consequence, you may observe unexpected behavior. Please pass your input's `attention_mask` to obtain reliable results.\n",
            "Setting `pad_token_id` to `eos_token_id`:2 for open-end generation.\n",
            "The attention mask and the pad token id were not set. As a consequence, you may observe unexpected behavior. Please pass your input's `attention_mask` to obtain reliable results.\n",
            "Setting `pad_token_id` to `eos_token_id`:2 for open-end generation.\n",
            "The attention mask and the pad token id were not set. As a consequence, you may observe unexpected behavior. Please pass your input's `attention_mask` to obtain reliable results.\n",
            "Setting `pad_token_id` to `eos_token_id`:2 for open-end generation.\n",
            "The attention mask and the pad token id were not set. As a consequence, you may observe unexpected behavior. Please pass your input's `attention_mask` to obtain reliable results.\n",
            "Setting `pad_token_id` to `eos_token_id`:2 for open-end generation.\n",
            "The attention mask and the pad token id were not set. As a consequence, you may observe unexpected behavior. Please pass your input's `attention_mask` to obtain reliable results.\n",
            "Setting `pad_token_id` to `eos_token_id`:2 for open-end generation.\n",
            "The attention mask and the pad token id were not set. As a consequence, you may observe unexpected behavior. Please pass your input's `attention_mask` to obtain reliable results.\n",
            "Setting `pad_token_id` to `eos_token_id`:2 for open-end generation.\n",
            "The attention mask and the pad token id were not set. As a consequence, you may observe unexpected behavior. Please pass your input's `attention_mask` to obtain reliable results.\n",
            "Setting `pad_token_id` to `eos_token_id`:2 for open-end generation.\n",
            "The attention mask and the pad token id were not set. As a consequence, you may observe unexpected behavior. Please pass your input's `attention_mask` to obtain reliable results.\n",
            "Setting `pad_token_id` to `eos_token_id`:2 for open-end generation.\n",
            "The attention mask and the pad token id were not set. As a consequence, you may observe unexpected behavior. Please pass your input's `attention_mask` to obtain reliable results.\n",
            "Setting `pad_token_id` to `eos_token_id`:2 for open-end generation.\n",
            "The attention mask and the pad token id were not set. As a consequence, you may observe unexpected behavior. Please pass your input's `attention_mask` to obtain reliable results.\n",
            "Setting `pad_token_id` to `eos_token_id`:2 for open-end generation.\n",
            "The attention mask and the pad token id were not set. As a consequence, you may observe unexpected behavior. Please pass your input's `attention_mask` to obtain reliable results.\n",
            "Setting `pad_token_id` to `eos_token_id`:2 for open-end generation.\n",
            "The attention mask and the pad token id were not set. As a consequence, you may observe unexpected behavior. Please pass your input's `attention_mask` to obtain reliable results.\n",
            "Setting `pad_token_id` to `eos_token_id`:2 for open-end generation.\n",
            "The attention mask and the pad token id were not set. As a consequence, you may observe unexpected behavior. Please pass your input's `attention_mask` to obtain reliable results.\n",
            "Setting `pad_token_id` to `eos_token_id`:2 for open-end generation.\n",
            "The attention mask and the pad token id were not set. As a consequence, you may observe unexpected behavior. Please pass your input's `attention_mask` to obtain reliable results.\n",
            "Setting `pad_token_id` to `eos_token_id`:2 for open-end generation.\n",
            "The attention mask and the pad token id were not set. As a consequence, you may observe unexpected behavior. Please pass your input's `attention_mask` to obtain reliable results.\n",
            "Setting `pad_token_id` to `eos_token_id`:2 for open-end generation.\n",
            "The attention mask and the pad token id were not set. As a consequence, you may observe unexpected behavior. Please pass your input's `attention_mask` to obtain reliable results.\n",
            "Setting `pad_token_id` to `eos_token_id`:2 for open-end generation.\n",
            "The attention mask and the pad token id were not set. As a consequence, you may observe unexpected behavior. Please pass your input's `attention_mask` to obtain reliable results.\n",
            "Setting `pad_token_id` to `eos_token_id`:2 for open-end generation.\n",
            "The attention mask and the pad token id were not set. As a consequence, you may observe unexpected behavior. Please pass your input's `attention_mask` to obtain reliable results.\n",
            "Setting `pad_token_id` to `eos_token_id`:2 for open-end generation.\n",
            "The attention mask and the pad token id were not set. As a consequence, you may observe unexpected behavior. Please pass your input's `attention_mask` to obtain reliable results.\n",
            "Setting `pad_token_id` to `eos_token_id`:2 for open-end generation.\n"
          ]
        },
        {
          "name": "stdout",
          "output_type": "stream",
          "text": [
            "                                      correct_caption  \\\n",
            "0   Transabdominal ultrasonography of right lower ...   \n",
            "1   Ultrasonographic examination of an embryo vesi...   \n",
            "2   Chest x-ray demonstrating bilateral calcificat...   \n",
            "3   Transvaginal ultrasonography shows a septate c...   \n",
            "4                    Showing deployed Sapien 3 valve.   \n",
            "..                                                ...   \n",
            "95  Ultrasonography (sagittal view) showing an inc...   \n",
            "96   Intraoperative fluoroscopy showing positionin...   \n",
            "97  Computerized tomography scan of the brain in t...   \n",
            "98  Pulmonary blastomycosis chest X-ray image. Che...   \n",
            "99  X-ray image of aseptic loosening of the distal...   \n",
            "\n",
            "                                    predicted_caption  \n",
            "0   Transabdominal ultrasound showing the presence...  \n",
            "1   Transverse section of the fetal head at 32 wee...  \n",
            "2     Chest X-ray showing bilateral pleural effusion.  \n",
            "3   Transvaginal ultrasound image of the uterus an...  \n",
            "4   Chest radiograph of a patient with COVID-19 pn...  \n",
            "..                                                ...  \n",
            "95  Transvaginal ultrasound image of the uterus an...  \n",
            "96  Chest radiograph showing a large mediastinal m...  \n",
            "97  Axial CT scan showing a large left frontal mas...  \n",
            "98    Chest X-ray showing bilateral pleural effusion.  \n",
            "99  X-ray of the left knee showing the position of...  \n",
            "\n",
            "[100 rows x 2 columns]\n"
          ]
        }
      ],
      "source": [
        "import pandas as pd\n",
        "\n",
        "# Create an empty list to store both correct and predicted captions\n",
        "captions = []\n",
        "\n",
        "# Temporarily disable the transformation to access the original data\n",
        "eval_ds.reset_format()\n",
        "\n",
        "# # Example evaluation loop can use enumerate as well\n",
        "# for i, data in enumerate(eval_ds):\n",
        "#     # Prepare your data here\n",
        "#     # For example, for an image captioning task:\n",
        "#     image = data['image']\n",
        "#     true_caption = data['caption']\n",
        "\n",
        "# Iterate over each example in the evaluation dataset\n",
        "for i in range(len(eval_ds)):\n",
        "    # Access the original image and correct caption for the current row\n",
        "    image = eval_ds[i]['image']\n",
        "    correct_caption = eval_ds[i]['caption']\n",
        "\n",
        "    # Evaluate the model for the given image to generate a predicted caption using eval_model function\n",
        "    predicted_caption = eval_model(\n",
        "        tokenizer,\n",
        "        model,\n",
        "        image_processor,\n",
        "        context_len,\n",
        "        image,\n",
        "        \"What do you see in this picture?\"\n",
        "    )\n",
        "\n",
        "    # Append the correct and predicted captions as a tuple to the captions list\n",
        "    captions.append((correct_caption, predicted_caption))\n",
        "\n",
        "# Create a DataFrame from the captions list with the specified column titles\n",
        "df_captions = pd.DataFrame(captions, columns=['correct_caption', 'predicted_caption'])\n",
        "\n",
        "# Display the DataFrame to verify the contents\n",
        "print(df_captions)\n",
        "\n",
        "# Optionally, save the DataFrame to a CSV file\n",
        "df_captions.to_csv('/home/jupyter/captions_comparison.csv', index=False)\n",
        "\n",
        "# Re-enable the transformation if needed\n",
        "eval_ds.set_transform(lambda batch: tokenize_and_create_labels(batch, image_processor, tokenizer, model, device))\n"
      ]
    },
    {
      "cell_type": "code",
      "execution_count": null,
      "id": "63b887d5-13f7-45dd-ba18-1f07ffc2a144",
      "metadata": {
        "id": "63b887d5-13f7-45dd-ba18-1f07ffc2a144",
        "outputId": "a3dc82b3-34a6-472f-d206-49288d585a62",
        "tags": []
      },
      "outputs": [
        {
          "name": "stdout",
          "output_type": "stream",
          "text": [
            "Available fields in the first item of eval_ds: dict_keys(['image', 'caption'])\n"
          ]
        }
      ],
      "source": [
        "# Print the keys of the first item in the dataset\n",
        "if len(eval_ds) > 0:\n",
        "    first_item_keys = eval_ds[0].keys()\n",
        "    print(\"Available fields in the first item of eval_ds:\", first_item_keys)\n",
        "else:\n",
        "    print(\"The dataset is empty.\")\n"
      ]
    },
    {
      "cell_type": "code",
      "execution_count": 7,
      "id": "844638ff-cdae-456b-9c4c-07de49abe13a",
      "metadata": {
        "id": "844638ff-cdae-456b-9c4c-07de49abe13a",
        "tags": []
      },
      "outputs": [],
      "source": [
        "# # Print the first 3 items in the dataset\n",
        "# for i in range(min(3, len(eval_ds))):\n",
        "#     print(f\"Item {i}:\")\n",
        "#     for key in eval_ds[i].keys():\n",
        "#         value = eval_ds[i][key]\n",
        "#         # Since some values can be very large (like tensors), we print their type and size instead of the values themselves\n",
        "#         if hasattr(value, 'shape'):  # Check if the value is a tensor or similar\n",
        "#             print(f\"  {key}: {type(value)} with shape {value.shape}\")\n",
        "#         else:\n",
        "#             print(f\"  {key}: {value}\")\n",
        "#     print(\"\\n\")\n"
      ]
    },
    {
      "cell_type": "code",
      "execution_count": null,
      "id": "92ce7a27-8255-4898-9fb2-d818a3314c6e",
      "metadata": {
        "id": "92ce7a27-8255-4898-9fb2-d818a3314c6e"
      },
      "outputs": [],
      "source": [
        "# save the DataFrame to a CSV file\n",
        "df_predictions.to_csv('/home/jupyter/predicted_captions.csv', index=False)"
      ]
    },
    {
      "cell_type": "code",
      "execution_count": null,
      "id": "41ca1359-230b-4487-9998-9d6f73dfb605",
      "metadata": {
        "colab": {
          "referenced_widgets": [
            "20dbbc975fdb4fdb8e2897fd2a945c63"
          ]
        },
        "id": "41ca1359-230b-4487-9998-9d6f73dfb605",
        "outputId": "47c08fc6-1762-485d-a432-07d9078dacfa",
        "tags": []
      },
      "outputs": [
        {
          "name": "stderr",
          "output_type": "stream",
          "text": [
            "huggingface/tokenizers: The current process just got forked, after parallelism has already been used. Disabling parallelism to avoid deadlocks...\n",
            "To disable this warning, you can either:\n",
            "\t- Avoid using `tokenizers` before the fork if possible\n",
            "\t- Explicitly set the environment variable TOKENIZERS_PARALLELISM=(true | false)\n"
          ]
        },
        {
          "data": {
            "application/vnd.jupyter.widget-view+json": {
              "model_id": "20dbbc975fdb4fdb8e2897fd2a945c63",
              "version_major": 2,
              "version_minor": 0
            },
            "text/plain": [
              "VBox(children=(HTML(value='<center> <img\\nsrc=https://huggingface.co/front/assets/huggingface_logo-noborder.sv…"
            ]
          },
          "metadata": {},
          "output_type": "display_data"
        }
      ],
      "source": [
        "# Required when quantizing models/data that are gated on HuggingFace, and required for pushing models to HuggingFace.\n",
        "!pip install huggingface_hub -q -U\n",
        "from huggingface_hub import notebook_login\n",
        "\n",
        "notebook_login()"
      ]
    },
    {
      "cell_type": "code",
      "execution_count": null,
      "id": "8ae65972-080e-4c4b-8a8e-8e0ebc5157ea",
      "metadata": {
        "id": "8ae65972-080e-4c4b-8a8e-8e0ebc5157ea",
        "tags": []
      },
      "outputs": [],
      "source": [
        "model=model.merge_and_unload()"
      ]
    },
    {
      "cell_type": "code",
      "execution_count": 1,
      "id": "c106e47b-0adb-480c-a1f8-05e375391d1a",
      "metadata": {
        "colab": {
          "referenced_widgets": [
            "3de191738f3a4cceba8fc2050b421a69",
            "119212b46a7243f0919aa3f39f25974a"
          ]
        },
        "id": "c106e47b-0adb-480c-a1f8-05e375391d1a",
        "outputId": "f62c68dd-84a6-4e6c-bede-aabab6d87b4a",
        "tags": []
      },
      "outputs": [],
      "source": [
        "# tokenizer.push_to_hub(f\"HoqueMahmudul/{output_model_name}\", private=True)"
      ]
    },
    {
      "cell_type": "code",
      "execution_count": null,
      "id": "0154bef4-5dec-449a-95e9-9b88a807833b",
      "metadata": {
        "id": "0154bef4-5dec-449a-95e9-9b88a807833b"
      },
      "outputs": [],
      "source": []
    }
  ],
  "metadata": {
    "colab": {
      "provenance": []
    },
    "environment": {
      "kernel": "conda-env-llava1.5env-llava1.5env",
      "name": "workbench-notebooks.m118",
      "type": "gcloud",
      "uri": "us-docker.pkg.dev/deeplearning-platform-release/gcr.io/workbench-notebooks:m118"
    },
    "kernelspec": {
      "display_name": "base",
      "language": "python",
      "name": "python3"
    },
    "language_info": {
      "codemirror_mode": {
        "name": "ipython",
        "version": 3
      },
      "file_extension": ".py",
      "mimetype": "text/x-python",
      "name": "python",
      "nbconvert_exporter": "python",
      "pygments_lexer": "ipython3",
      "version": "3.11.4"
    }
  },
  "nbformat": 4,
  "nbformat_minor": 5
}
